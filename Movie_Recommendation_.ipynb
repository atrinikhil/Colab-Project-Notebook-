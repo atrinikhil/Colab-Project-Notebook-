{
  "nbformat": 4,
  "nbformat_minor": 0,
  "metadata": {
    "colab": {
      "provenance": [],
      "authorship_tag": "ABX9TyMm94Ayflu43Wi9NqCK1U7R",
      "include_colab_link": true
    },
    "kernelspec": {
      "name": "python3",
      "display_name": "Python 3"
    },
    "language_info": {
      "name": "python"
    }
  },
  "cells": [
    {
      "cell_type": "markdown",
      "metadata": {
        "id": "view-in-github",
        "colab_type": "text"
      },
      "source": [
        "<a href=\"https://colab.research.google.com/github/atrinikhil/Colab-Project-Notebook-/blob/main/Movie_Recommendation_.ipynb\" target=\"_parent\"><img src=\"https://colab.research.google.com/assets/colab-badge.svg\" alt=\"Open In Colab\"/></a>"
      ]
    },
    {
      "cell_type": "markdown",
      "source": [
        "# Import Library"
      ],
      "metadata": {
        "id": "tyEZWGsqps9X"
      }
    },
    {
      "cell_type": "code",
      "execution_count": null,
      "metadata": {
        "id": "0Stw86L7domy"
      },
      "outputs": [],
      "source": [
        "import pandas as pd"
      ]
    },
    {
      "cell_type": "code",
      "source": [
        "import numpy as np"
      ],
      "metadata": {
        "id": "vUt-Ty7vds7A"
      },
      "execution_count": null,
      "outputs": []
    },
    {
      "cell_type": "markdown",
      "source": [
        "# Import Dataset"
      ],
      "metadata": {
        "id": "-bLzidG9pwgK"
      }
    },
    {
      "cell_type": "code",
      "source": [
        "df = pd.read_csv ( 'https://raw.githubusercontent.com/Ybi-Foundation/Dataset/main/Movies%20Recommendation.csv' )"
      ],
      "metadata": {
        "id": "UEpUetEdqkCk"
      },
      "execution_count": null,
      "outputs": []
    },
    {
      "cell_type": "code",
      "source": [
        "df.head()"
      ],
      "metadata": {
        "colab": {
          "base_uri": "https://localhost:8080/",
          "height": 637
        },
        "id": "kiM8AGGWq-uG",
        "outputId": "c1410636-2f64-4e6e-9fb0-10a393fa5672"
      },
      "execution_count": null,
      "outputs": [
        {
          "output_type": "execute_result",
          "data": {
            "text/plain": [
              "   Movie_ID      Movie_Title                       Movie_Genre Movie_Language  \\\n",
              "0         1       Four Rooms                      Crime Comedy             en   \n",
              "1         2        Star Wars  Adventure Action Science Fiction             en   \n",
              "2         3     Finding Nemo                  Animation Family             en   \n",
              "3         4     Forrest Gump              Comedy Drama Romance             en   \n",
              "4         5  American Beauty                             Drama             en   \n",
              "\n",
              "   Movie_Budget  Movie_Popularity Movie_Release_Date  Movie_Revenue  \\\n",
              "0       4000000         22.876230         09-12-1995        4300000   \n",
              "1      11000000        126.393695         25-05-1977      775398007   \n",
              "2      94000000         85.688789         30-05-2003      940335536   \n",
              "3      55000000        138.133331         06-07-1994      677945399   \n",
              "4      15000000         80.878605         15-09-1999      356296601   \n",
              "\n",
              "   Movie_Runtime  Movie_Vote  ...  \\\n",
              "0           98.0         6.5  ...   \n",
              "1          121.0         8.1  ...   \n",
              "2          100.0         7.6  ...   \n",
              "3          142.0         8.2  ...   \n",
              "4          122.0         7.9  ...   \n",
              "\n",
              "                                      Movie_Homepage  \\\n",
              "0                                                NaN   \n",
              "1  http://www.starwars.com/films/star-wars-episod...   \n",
              "2              http://movies.disney.com/finding-nemo   \n",
              "3                                                NaN   \n",
              "4                      http://www.dreamworks.com/ab/   \n",
              "\n",
              "                                      Movie_Keywords  \\\n",
              "0          hotel new year's eve witch bet hotel room   \n",
              "1        android galaxy hermit death star lightsaber   \n",
              "2  father son relationship harbor underwater fish...   \n",
              "3  vietnam veteran hippie mentally disabled runni...   \n",
              "4  male nudity female nudity adultery midlife cri...   \n",
              "\n",
              "                                      Movie_Overview  \\\n",
              "0  It's Ted the Bellhop's first night on the job....   \n",
              "1  Princess Leia is captured and held hostage by ...   \n",
              "2  Nemo, an adventurous young clownfish, is unexp...   \n",
              "3  A man with a low IQ has accomplished great thi...   \n",
              "4  Lester Burnham, a depressed suburban father in...   \n",
              "\n",
              "                              Movie_Production_House  \\\n",
              "0  [{\"name\": \"Miramax Films\", \"id\": 14}, {\"name\":...   \n",
              "1  [{\"name\": \"Lucasfilm\", \"id\": 1}, {\"name\": \"Twe...   \n",
              "2     [{\"name\": \"Pixar Animation Studios\", \"id\": 3}]   \n",
              "3          [{\"name\": \"Paramount Pictures\", \"id\": 4}]   \n",
              "4  [{\"name\": \"DreamWorks SKG\", \"id\": 27}, {\"name\"...   \n",
              "\n",
              "                            Movie_Production_Country  \\\n",
              "0  [{\"iso_3166_1\": \"US\", \"name\": \"United States o...   \n",
              "1  [{\"iso_3166_1\": \"US\", \"name\": \"United States o...   \n",
              "2  [{\"iso_3166_1\": \"US\", \"name\": \"United States o...   \n",
              "3  [{\"iso_3166_1\": \"US\", \"name\": \"United States o...   \n",
              "4  [{\"iso_3166_1\": \"US\", \"name\": \"United States o...   \n",
              "\n",
              "                      Movie_Spoken_Language  \\\n",
              "0  [{\"iso_639_1\": \"en\", \"name\": \"English\"}]   \n",
              "1  [{\"iso_639_1\": \"en\", \"name\": \"English\"}]   \n",
              "2  [{\"iso_639_1\": \"en\", \"name\": \"English\"}]   \n",
              "3  [{\"iso_639_1\": \"en\", \"name\": \"English\"}]   \n",
              "4  [{\"iso_639_1\": \"en\", \"name\": \"English\"}]   \n",
              "\n",
              "                                       Movie_Tagline  \\\n",
              "0  Twelve outrageous guests. Four scandalous requ...   \n",
              "1       A long time ago in a galaxy far, far away...   \n",
              "2  There are 3.7 trillion fish in the ocean, they...   \n",
              "3  The world will never be the same, once you've ...   \n",
              "4                                       Look closer.   \n",
              "\n",
              "                                          Movie_Cast  \\\n",
              "0  Tim Roth Antonio Banderas Jennifer Beals Madon...   \n",
              "1  Mark Hamill Harrison Ford Carrie Fisher Peter ...   \n",
              "2  Albert Brooks Ellen DeGeneres Alexander Gould ...   \n",
              "3  Tom Hanks Robin Wright Gary Sinise Mykelti Wil...   \n",
              "4  Kevin Spacey Annette Bening Thora Birch Wes Be...   \n",
              "\n",
              "                                          Movie_Crew   Movie_Director  \n",
              "0  [{'name': 'Allison Anders', 'gender': 1, 'depa...   Allison Anders  \n",
              "1  [{'name': 'George Lucas', 'gender': 2, 'depart...     George Lucas  \n",
              "2  [{'name': 'Andrew Stanton', 'gender': 2, 'depa...   Andrew Stanton  \n",
              "3  [{'name': 'Alan Silvestri', 'gender': 2, 'depa...  Robert Zemeckis  \n",
              "4  [{'name': 'Thomas Newman', 'gender': 2, 'depar...       Sam Mendes  \n",
              "\n",
              "[5 rows x 21 columns]"
            ],
            "text/html": [
              "\n",
              "  <div id=\"df-ca01bab4-799e-4f47-96f5-ab4873589fd4\" class=\"colab-df-container\">\n",
              "    <div>\n",
              "<style scoped>\n",
              "    .dataframe tbody tr th:only-of-type {\n",
              "        vertical-align: middle;\n",
              "    }\n",
              "\n",
              "    .dataframe tbody tr th {\n",
              "        vertical-align: top;\n",
              "    }\n",
              "\n",
              "    .dataframe thead th {\n",
              "        text-align: right;\n",
              "    }\n",
              "</style>\n",
              "<table border=\"1\" class=\"dataframe\">\n",
              "  <thead>\n",
              "    <tr style=\"text-align: right;\">\n",
              "      <th></th>\n",
              "      <th>Movie_ID</th>\n",
              "      <th>Movie_Title</th>\n",
              "      <th>Movie_Genre</th>\n",
              "      <th>Movie_Language</th>\n",
              "      <th>Movie_Budget</th>\n",
              "      <th>Movie_Popularity</th>\n",
              "      <th>Movie_Release_Date</th>\n",
              "      <th>Movie_Revenue</th>\n",
              "      <th>Movie_Runtime</th>\n",
              "      <th>Movie_Vote</th>\n",
              "      <th>...</th>\n",
              "      <th>Movie_Homepage</th>\n",
              "      <th>Movie_Keywords</th>\n",
              "      <th>Movie_Overview</th>\n",
              "      <th>Movie_Production_House</th>\n",
              "      <th>Movie_Production_Country</th>\n",
              "      <th>Movie_Spoken_Language</th>\n",
              "      <th>Movie_Tagline</th>\n",
              "      <th>Movie_Cast</th>\n",
              "      <th>Movie_Crew</th>\n",
              "      <th>Movie_Director</th>\n",
              "    </tr>\n",
              "  </thead>\n",
              "  <tbody>\n",
              "    <tr>\n",
              "      <th>0</th>\n",
              "      <td>1</td>\n",
              "      <td>Four Rooms</td>\n",
              "      <td>Crime Comedy</td>\n",
              "      <td>en</td>\n",
              "      <td>4000000</td>\n",
              "      <td>22.876230</td>\n",
              "      <td>09-12-1995</td>\n",
              "      <td>4300000</td>\n",
              "      <td>98.0</td>\n",
              "      <td>6.5</td>\n",
              "      <td>...</td>\n",
              "      <td>NaN</td>\n",
              "      <td>hotel new year's eve witch bet hotel room</td>\n",
              "      <td>It's Ted the Bellhop's first night on the job....</td>\n",
              "      <td>[{\"name\": \"Miramax Films\", \"id\": 14}, {\"name\":...</td>\n",
              "      <td>[{\"iso_3166_1\": \"US\", \"name\": \"United States o...</td>\n",
              "      <td>[{\"iso_639_1\": \"en\", \"name\": \"English\"}]</td>\n",
              "      <td>Twelve outrageous guests. Four scandalous requ...</td>\n",
              "      <td>Tim Roth Antonio Banderas Jennifer Beals Madon...</td>\n",
              "      <td>[{'name': 'Allison Anders', 'gender': 1, 'depa...</td>\n",
              "      <td>Allison Anders</td>\n",
              "    </tr>\n",
              "    <tr>\n",
              "      <th>1</th>\n",
              "      <td>2</td>\n",
              "      <td>Star Wars</td>\n",
              "      <td>Adventure Action Science Fiction</td>\n",
              "      <td>en</td>\n",
              "      <td>11000000</td>\n",
              "      <td>126.393695</td>\n",
              "      <td>25-05-1977</td>\n",
              "      <td>775398007</td>\n",
              "      <td>121.0</td>\n",
              "      <td>8.1</td>\n",
              "      <td>...</td>\n",
              "      <td>http://www.starwars.com/films/star-wars-episod...</td>\n",
              "      <td>android galaxy hermit death star lightsaber</td>\n",
              "      <td>Princess Leia is captured and held hostage by ...</td>\n",
              "      <td>[{\"name\": \"Lucasfilm\", \"id\": 1}, {\"name\": \"Twe...</td>\n",
              "      <td>[{\"iso_3166_1\": \"US\", \"name\": \"United States o...</td>\n",
              "      <td>[{\"iso_639_1\": \"en\", \"name\": \"English\"}]</td>\n",
              "      <td>A long time ago in a galaxy far, far away...</td>\n",
              "      <td>Mark Hamill Harrison Ford Carrie Fisher Peter ...</td>\n",
              "      <td>[{'name': 'George Lucas', 'gender': 2, 'depart...</td>\n",
              "      <td>George Lucas</td>\n",
              "    </tr>\n",
              "    <tr>\n",
              "      <th>2</th>\n",
              "      <td>3</td>\n",
              "      <td>Finding Nemo</td>\n",
              "      <td>Animation Family</td>\n",
              "      <td>en</td>\n",
              "      <td>94000000</td>\n",
              "      <td>85.688789</td>\n",
              "      <td>30-05-2003</td>\n",
              "      <td>940335536</td>\n",
              "      <td>100.0</td>\n",
              "      <td>7.6</td>\n",
              "      <td>...</td>\n",
              "      <td>http://movies.disney.com/finding-nemo</td>\n",
              "      <td>father son relationship harbor underwater fish...</td>\n",
              "      <td>Nemo, an adventurous young clownfish, is unexp...</td>\n",
              "      <td>[{\"name\": \"Pixar Animation Studios\", \"id\": 3}]</td>\n",
              "      <td>[{\"iso_3166_1\": \"US\", \"name\": \"United States o...</td>\n",
              "      <td>[{\"iso_639_1\": \"en\", \"name\": \"English\"}]</td>\n",
              "      <td>There are 3.7 trillion fish in the ocean, they...</td>\n",
              "      <td>Albert Brooks Ellen DeGeneres Alexander Gould ...</td>\n",
              "      <td>[{'name': 'Andrew Stanton', 'gender': 2, 'depa...</td>\n",
              "      <td>Andrew Stanton</td>\n",
              "    </tr>\n",
              "    <tr>\n",
              "      <th>3</th>\n",
              "      <td>4</td>\n",
              "      <td>Forrest Gump</td>\n",
              "      <td>Comedy Drama Romance</td>\n",
              "      <td>en</td>\n",
              "      <td>55000000</td>\n",
              "      <td>138.133331</td>\n",
              "      <td>06-07-1994</td>\n",
              "      <td>677945399</td>\n",
              "      <td>142.0</td>\n",
              "      <td>8.2</td>\n",
              "      <td>...</td>\n",
              "      <td>NaN</td>\n",
              "      <td>vietnam veteran hippie mentally disabled runni...</td>\n",
              "      <td>A man with a low IQ has accomplished great thi...</td>\n",
              "      <td>[{\"name\": \"Paramount Pictures\", \"id\": 4}]</td>\n",
              "      <td>[{\"iso_3166_1\": \"US\", \"name\": \"United States o...</td>\n",
              "      <td>[{\"iso_639_1\": \"en\", \"name\": \"English\"}]</td>\n",
              "      <td>The world will never be the same, once you've ...</td>\n",
              "      <td>Tom Hanks Robin Wright Gary Sinise Mykelti Wil...</td>\n",
              "      <td>[{'name': 'Alan Silvestri', 'gender': 2, 'depa...</td>\n",
              "      <td>Robert Zemeckis</td>\n",
              "    </tr>\n",
              "    <tr>\n",
              "      <th>4</th>\n",
              "      <td>5</td>\n",
              "      <td>American Beauty</td>\n",
              "      <td>Drama</td>\n",
              "      <td>en</td>\n",
              "      <td>15000000</td>\n",
              "      <td>80.878605</td>\n",
              "      <td>15-09-1999</td>\n",
              "      <td>356296601</td>\n",
              "      <td>122.0</td>\n",
              "      <td>7.9</td>\n",
              "      <td>...</td>\n",
              "      <td>http://www.dreamworks.com/ab/</td>\n",
              "      <td>male nudity female nudity adultery midlife cri...</td>\n",
              "      <td>Lester Burnham, a depressed suburban father in...</td>\n",
              "      <td>[{\"name\": \"DreamWorks SKG\", \"id\": 27}, {\"name\"...</td>\n",
              "      <td>[{\"iso_3166_1\": \"US\", \"name\": \"United States o...</td>\n",
              "      <td>[{\"iso_639_1\": \"en\", \"name\": \"English\"}]</td>\n",
              "      <td>Look closer.</td>\n",
              "      <td>Kevin Spacey Annette Bening Thora Birch Wes Be...</td>\n",
              "      <td>[{'name': 'Thomas Newman', 'gender': 2, 'depar...</td>\n",
              "      <td>Sam Mendes</td>\n",
              "    </tr>\n",
              "  </tbody>\n",
              "</table>\n",
              "<p>5 rows × 21 columns</p>\n",
              "</div>\n",
              "    <div class=\"colab-df-buttons\">\n",
              "\n",
              "  <div class=\"colab-df-container\">\n",
              "    <button class=\"colab-df-convert\" onclick=\"convertToInteractive('df-ca01bab4-799e-4f47-96f5-ab4873589fd4')\"\n",
              "            title=\"Convert this dataframe to an interactive table.\"\n",
              "            style=\"display:none;\">\n",
              "\n",
              "  <svg xmlns=\"http://www.w3.org/2000/svg\" height=\"24px\" viewBox=\"0 -960 960 960\">\n",
              "    <path d=\"M120-120v-720h720v720H120Zm60-500h600v-160H180v160Zm220 220h160v-160H400v160Zm0 220h160v-160H400v160ZM180-400h160v-160H180v160Zm440 0h160v-160H620v160ZM180-180h160v-160H180v160Zm440 0h160v-160H620v160Z\"/>\n",
              "  </svg>\n",
              "    </button>\n",
              "\n",
              "  <style>\n",
              "    .colab-df-container {\n",
              "      display:flex;\n",
              "      gap: 12px;\n",
              "    }\n",
              "\n",
              "    .colab-df-convert {\n",
              "      background-color: #E8F0FE;\n",
              "      border: none;\n",
              "      border-radius: 50%;\n",
              "      cursor: pointer;\n",
              "      display: none;\n",
              "      fill: #1967D2;\n",
              "      height: 32px;\n",
              "      padding: 0 0 0 0;\n",
              "      width: 32px;\n",
              "    }\n",
              "\n",
              "    .colab-df-convert:hover {\n",
              "      background-color: #E2EBFA;\n",
              "      box-shadow: 0px 1px 2px rgba(60, 64, 67, 0.3), 0px 1px 3px 1px rgba(60, 64, 67, 0.15);\n",
              "      fill: #174EA6;\n",
              "    }\n",
              "\n",
              "    .colab-df-buttons div {\n",
              "      margin-bottom: 4px;\n",
              "    }\n",
              "\n",
              "    [theme=dark] .colab-df-convert {\n",
              "      background-color: #3B4455;\n",
              "      fill: #D2E3FC;\n",
              "    }\n",
              "\n",
              "    [theme=dark] .colab-df-convert:hover {\n",
              "      background-color: #434B5C;\n",
              "      box-shadow: 0px 1px 3px 1px rgba(0, 0, 0, 0.15);\n",
              "      filter: drop-shadow(0px 1px 2px rgba(0, 0, 0, 0.3));\n",
              "      fill: #FFFFFF;\n",
              "    }\n",
              "  </style>\n",
              "\n",
              "    <script>\n",
              "      const buttonEl =\n",
              "        document.querySelector('#df-ca01bab4-799e-4f47-96f5-ab4873589fd4 button.colab-df-convert');\n",
              "      buttonEl.style.display =\n",
              "        google.colab.kernel.accessAllowed ? 'block' : 'none';\n",
              "\n",
              "      async function convertToInteractive(key) {\n",
              "        const element = document.querySelector('#df-ca01bab4-799e-4f47-96f5-ab4873589fd4');\n",
              "        const dataTable =\n",
              "          await google.colab.kernel.invokeFunction('convertToInteractive',\n",
              "                                                    [key], {});\n",
              "        if (!dataTable) return;\n",
              "\n",
              "        const docLinkHtml = 'Like what you see? Visit the ' +\n",
              "          '<a target=\"_blank\" href=https://colab.research.google.com/notebooks/data_table.ipynb>data table notebook</a>'\n",
              "          + ' to learn more about interactive tables.';\n",
              "        element.innerHTML = '';\n",
              "        dataTable['output_type'] = 'display_data';\n",
              "        await google.colab.output.renderOutput(dataTable, element);\n",
              "        const docLink = document.createElement('div');\n",
              "        docLink.innerHTML = docLinkHtml;\n",
              "        element.appendChild(docLink);\n",
              "      }\n",
              "    </script>\n",
              "  </div>\n",
              "\n",
              "\n",
              "<div id=\"df-372c4b86-76e3-47e5-b2b9-57077b4cddc7\">\n",
              "  <button class=\"colab-df-quickchart\" onclick=\"quickchart('df-372c4b86-76e3-47e5-b2b9-57077b4cddc7')\"\n",
              "            title=\"Suggest charts\"\n",
              "            style=\"display:none;\">\n",
              "\n",
              "<svg xmlns=\"http://www.w3.org/2000/svg\" height=\"24px\"viewBox=\"0 0 24 24\"\n",
              "     width=\"24px\">\n",
              "    <g>\n",
              "        <path d=\"M19 3H5c-1.1 0-2 .9-2 2v14c0 1.1.9 2 2 2h14c1.1 0 2-.9 2-2V5c0-1.1-.9-2-2-2zM9 17H7v-7h2v7zm4 0h-2V7h2v10zm4 0h-2v-4h2v4z\"/>\n",
              "    </g>\n",
              "</svg>\n",
              "  </button>\n",
              "\n",
              "<style>\n",
              "  .colab-df-quickchart {\n",
              "      --bg-color: #E8F0FE;\n",
              "      --fill-color: #1967D2;\n",
              "      --hover-bg-color: #E2EBFA;\n",
              "      --hover-fill-color: #174EA6;\n",
              "      --disabled-fill-color: #AAA;\n",
              "      --disabled-bg-color: #DDD;\n",
              "  }\n",
              "\n",
              "  [theme=dark] .colab-df-quickchart {\n",
              "      --bg-color: #3B4455;\n",
              "      --fill-color: #D2E3FC;\n",
              "      --hover-bg-color: #434B5C;\n",
              "      --hover-fill-color: #FFFFFF;\n",
              "      --disabled-bg-color: #3B4455;\n",
              "      --disabled-fill-color: #666;\n",
              "  }\n",
              "\n",
              "  .colab-df-quickchart {\n",
              "    background-color: var(--bg-color);\n",
              "    border: none;\n",
              "    border-radius: 50%;\n",
              "    cursor: pointer;\n",
              "    display: none;\n",
              "    fill: var(--fill-color);\n",
              "    height: 32px;\n",
              "    padding: 0;\n",
              "    width: 32px;\n",
              "  }\n",
              "\n",
              "  .colab-df-quickchart:hover {\n",
              "    background-color: var(--hover-bg-color);\n",
              "    box-shadow: 0 1px 2px rgba(60, 64, 67, 0.3), 0 1px 3px 1px rgba(60, 64, 67, 0.15);\n",
              "    fill: var(--button-hover-fill-color);\n",
              "  }\n",
              "\n",
              "  .colab-df-quickchart-complete:disabled,\n",
              "  .colab-df-quickchart-complete:disabled:hover {\n",
              "    background-color: var(--disabled-bg-color);\n",
              "    fill: var(--disabled-fill-color);\n",
              "    box-shadow: none;\n",
              "  }\n",
              "\n",
              "  .colab-df-spinner {\n",
              "    border: 2px solid var(--fill-color);\n",
              "    border-color: transparent;\n",
              "    border-bottom-color: var(--fill-color);\n",
              "    animation:\n",
              "      spin 1s steps(1) infinite;\n",
              "  }\n",
              "\n",
              "  @keyframes spin {\n",
              "    0% {\n",
              "      border-color: transparent;\n",
              "      border-bottom-color: var(--fill-color);\n",
              "      border-left-color: var(--fill-color);\n",
              "    }\n",
              "    20% {\n",
              "      border-color: transparent;\n",
              "      border-left-color: var(--fill-color);\n",
              "      border-top-color: var(--fill-color);\n",
              "    }\n",
              "    30% {\n",
              "      border-color: transparent;\n",
              "      border-left-color: var(--fill-color);\n",
              "      border-top-color: var(--fill-color);\n",
              "      border-right-color: var(--fill-color);\n",
              "    }\n",
              "    40% {\n",
              "      border-color: transparent;\n",
              "      border-right-color: var(--fill-color);\n",
              "      border-top-color: var(--fill-color);\n",
              "    }\n",
              "    60% {\n",
              "      border-color: transparent;\n",
              "      border-right-color: var(--fill-color);\n",
              "    }\n",
              "    80% {\n",
              "      border-color: transparent;\n",
              "      border-right-color: var(--fill-color);\n",
              "      border-bottom-color: var(--fill-color);\n",
              "    }\n",
              "    90% {\n",
              "      border-color: transparent;\n",
              "      border-bottom-color: var(--fill-color);\n",
              "    }\n",
              "  }\n",
              "</style>\n",
              "\n",
              "  <script>\n",
              "    async function quickchart(key) {\n",
              "      const quickchartButtonEl =\n",
              "        document.querySelector('#' + key + ' button');\n",
              "      quickchartButtonEl.disabled = true;  // To prevent multiple clicks.\n",
              "      quickchartButtonEl.classList.add('colab-df-spinner');\n",
              "      try {\n",
              "        const charts = await google.colab.kernel.invokeFunction(\n",
              "            'suggestCharts', [key], {});\n",
              "      } catch (error) {\n",
              "        console.error('Error during call to suggestCharts:', error);\n",
              "      }\n",
              "      quickchartButtonEl.classList.remove('colab-df-spinner');\n",
              "      quickchartButtonEl.classList.add('colab-df-quickchart-complete');\n",
              "    }\n",
              "    (() => {\n",
              "      let quickchartButtonEl =\n",
              "        document.querySelector('#df-372c4b86-76e3-47e5-b2b9-57077b4cddc7 button');\n",
              "      quickchartButtonEl.style.display =\n",
              "        google.colab.kernel.accessAllowed ? 'block' : 'none';\n",
              "    })();\n",
              "  </script>\n",
              "</div>\n",
              "\n",
              "    </div>\n",
              "  </div>\n"
            ],
            "application/vnd.google.colaboratory.intrinsic+json": {
              "type": "dataframe",
              "variable_name": "df"
            }
          },
          "metadata": {},
          "execution_count": 7
        }
      ]
    },
    {
      "cell_type": "code",
      "source": [
        "df.info()"
      ],
      "metadata": {
        "colab": {
          "base_uri": "https://localhost:8080/"
        },
        "id": "RsAnZq7vrD8S",
        "outputId": "cba19058-da3a-4e59-8be7-c46b47b88a12"
      },
      "execution_count": null,
      "outputs": [
        {
          "output_type": "stream",
          "name": "stdout",
          "text": [
            "<class 'pandas.core.frame.DataFrame'>\n",
            "RangeIndex: 4760 entries, 0 to 4759\n",
            "Data columns (total 21 columns):\n",
            " #   Column                    Non-Null Count  Dtype  \n",
            "---  ------                    --------------  -----  \n",
            " 0   Movie_ID                  4760 non-null   int64  \n",
            " 1   Movie_Title               4760 non-null   object \n",
            " 2   Movie_Genre               4760 non-null   object \n",
            " 3   Movie_Language            4760 non-null   object \n",
            " 4   Movie_Budget              4760 non-null   int64  \n",
            " 5   Movie_Popularity          4760 non-null   float64\n",
            " 6   Movie_Release_Date        4760 non-null   object \n",
            " 7   Movie_Revenue             4760 non-null   int64  \n",
            " 8   Movie_Runtime             4758 non-null   float64\n",
            " 9   Movie_Vote                4760 non-null   float64\n",
            " 10  Movie_Vote_Count          4760 non-null   int64  \n",
            " 11  Movie_Homepage            1699 non-null   object \n",
            " 12  Movie_Keywords            4373 non-null   object \n",
            " 13  Movie_Overview            4757 non-null   object \n",
            " 14  Movie_Production_House    4760 non-null   object \n",
            " 15  Movie_Production_Country  4760 non-null   object \n",
            " 16  Movie_Spoken_Language     4760 non-null   object \n",
            " 17  Movie_Tagline             3942 non-null   object \n",
            " 18  Movie_Cast                4733 non-null   object \n",
            " 19  Movie_Crew                4760 non-null   object \n",
            " 20  Movie_Director            4738 non-null   object \n",
            "dtypes: float64(3), int64(4), object(14)\n",
            "memory usage: 781.1+ KB\n"
          ]
        }
      ]
    },
    {
      "cell_type": "code",
      "source": [
        "df.shape"
      ],
      "metadata": {
        "colab": {
          "base_uri": "https://localhost:8080/"
        },
        "id": "fW0Kym1vrKUD",
        "outputId": "7ede5fc8-ff12-43c7-9594-134b0b1926c4"
      },
      "execution_count": null,
      "outputs": [
        {
          "output_type": "execute_result",
          "data": {
            "text/plain": [
              "(4760, 21)"
            ]
          },
          "metadata": {},
          "execution_count": 10
        }
      ]
    },
    {
      "cell_type": "code",
      "source": [
        "df.columns"
      ],
      "metadata": {
        "colab": {
          "base_uri": "https://localhost:8080/"
        },
        "id": "r7XsJCBTrR2A",
        "outputId": "9f3f8186-5e18-4fc0-d8d6-d1bca2b857b2"
      },
      "execution_count": null,
      "outputs": [
        {
          "output_type": "execute_result",
          "data": {
            "text/plain": [
              "Index(['Movie_ID', 'Movie_Title', 'Movie_Genre', 'Movie_Language',\n",
              "       'Movie_Budget', 'Movie_Popularity', 'Movie_Release_Date',\n",
              "       'Movie_Revenue', 'Movie_Runtime', 'Movie_Vote', 'Movie_Vote_Count',\n",
              "       'Movie_Homepage', 'Movie_Keywords', 'Movie_Overview',\n",
              "       'Movie_Production_House', 'Movie_Production_Country',\n",
              "       'Movie_Spoken_Language', 'Movie_Tagline', 'Movie_Cast', 'Movie_Crew',\n",
              "       'Movie_Director'],\n",
              "      dtype='object')"
            ]
          },
          "metadata": {},
          "execution_count": 11
        }
      ]
    },
    {
      "cell_type": "markdown",
      "source": [
        "# Get Feature Selection"
      ],
      "metadata": {
        "id": "Yh-K-R39rXew"
      }
    },
    {
      "cell_type": "code",
      "source": [
        "df_features=df[['Movie_Genre', 'Movie_Keywords', 'Movie_Tagline', 'Movie_Cast', \"Movie_Director\"]].fillna('')"
      ],
      "metadata": {
        "id": "yiuZon5Lra86"
      },
      "execution_count": null,
      "outputs": []
    },
    {
      "cell_type": "markdown",
      "source": [
        "Selected five existing features to recommend movies. It may vary from one project to another. Like one can add vote counts,budget,language etc."
      ],
      "metadata": {
        "id": "R9UbnW3lsIt3"
      }
    },
    {
      "cell_type": "code",
      "source": [
        "df_features.shape"
      ],
      "metadata": {
        "colab": {
          "base_uri": "https://localhost:8080/"
        },
        "id": "muB588noseNb",
        "outputId": "5b63e060-e50c-4566-e323-a05074a7bd48"
      },
      "execution_count": null,
      "outputs": [
        {
          "output_type": "execute_result",
          "data": {
            "text/plain": [
              "(4760, 5)"
            ]
          },
          "metadata": {},
          "execution_count": 14
        }
      ]
    },
    {
      "cell_type": "code",
      "source": [
        "df_features"
      ],
      "metadata": {
        "colab": {
          "base_uri": "https://localhost:8080/",
          "height": 1000
        },
        "id": "crSIY-ivsir5",
        "outputId": "df66e043-dac8-4581-9940-95e4540f7fbb"
      },
      "execution_count": null,
      "outputs": [
        {
          "output_type": "execute_result",
          "data": {
            "text/plain": [
              "                           Movie_Genre  \\\n",
              "0                         Crime Comedy   \n",
              "1     Adventure Action Science Fiction   \n",
              "2                     Animation Family   \n",
              "3                 Comedy Drama Romance   \n",
              "4                                Drama   \n",
              "...                                ...   \n",
              "4755                            Horror   \n",
              "4756               Comedy Family Drama   \n",
              "4757                    Thriller Drama   \n",
              "4758                            Family   \n",
              "4759                       Documentary   \n",
              "\n",
              "                                         Movie_Keywords  \\\n",
              "0             hotel new year's eve witch bet hotel room   \n",
              "1           android galaxy hermit death star lightsaber   \n",
              "2     father son relationship harbor underwater fish...   \n",
              "3     vietnam veteran hippie mentally disabled runni...   \n",
              "4     male nudity female nudity adultery midlife cri...   \n",
              "...                                                 ...   \n",
              "4755                                                      \n",
              "4756                                                      \n",
              "4757                     christian film sex trafficking   \n",
              "4758                                                      \n",
              "4759  music actors legendary perfomer classic hollyw...   \n",
              "\n",
              "                                          Movie_Tagline  \\\n",
              "0     Twelve outrageous guests. Four scandalous requ...   \n",
              "1          A long time ago in a galaxy far, far away...   \n",
              "2     There are 3.7 trillion fish in the ocean, they...   \n",
              "3     The world will never be the same, once you've ...   \n",
              "4                                          Look closer.   \n",
              "...                                                 ...   \n",
              "4755                The hot spot where Satan's waitin'.   \n",
              "4756           It’s better to stand out than to fit in.   \n",
              "4757           She never knew it could happen to her...   \n",
              "4758                                                      \n",
              "4759                                                      \n",
              "\n",
              "                                             Movie_Cast     Movie_Director  \n",
              "0     Tim Roth Antonio Banderas Jennifer Beals Madon...     Allison Anders  \n",
              "1     Mark Hamill Harrison Ford Carrie Fisher Peter ...       George Lucas  \n",
              "2     Albert Brooks Ellen DeGeneres Alexander Gould ...     Andrew Stanton  \n",
              "3     Tom Hanks Robin Wright Gary Sinise Mykelti Wil...    Robert Zemeckis  \n",
              "4     Kevin Spacey Annette Bening Thora Birch Wes Be...         Sam Mendes  \n",
              "...                                                 ...                ...  \n",
              "4755  Lisa Hart Carroll Michael Des Barres Paul Drak...         Pece Dingo  \n",
              "4756  Roni Akurati Brighton Sharbino Jason Lee Anjul...       Frank Lotito  \n",
              "4757  Nicole Smolen Kim Baldwin Ariana Stephens Brys...       Jaco Booyens  \n",
              "4758                                                                        \n",
              "4759                                    Tony Oppedisano  Simon Napier-Bell  \n",
              "\n",
              "[4760 rows x 5 columns]"
            ],
            "text/html": [
              "\n",
              "  <div id=\"df-a5926fc5-31e7-4d73-8744-c6a6bc55903d\" class=\"colab-df-container\">\n",
              "    <div>\n",
              "<style scoped>\n",
              "    .dataframe tbody tr th:only-of-type {\n",
              "        vertical-align: middle;\n",
              "    }\n",
              "\n",
              "    .dataframe tbody tr th {\n",
              "        vertical-align: top;\n",
              "    }\n",
              "\n",
              "    .dataframe thead th {\n",
              "        text-align: right;\n",
              "    }\n",
              "</style>\n",
              "<table border=\"1\" class=\"dataframe\">\n",
              "  <thead>\n",
              "    <tr style=\"text-align: right;\">\n",
              "      <th></th>\n",
              "      <th>Movie_Genre</th>\n",
              "      <th>Movie_Keywords</th>\n",
              "      <th>Movie_Tagline</th>\n",
              "      <th>Movie_Cast</th>\n",
              "      <th>Movie_Director</th>\n",
              "    </tr>\n",
              "  </thead>\n",
              "  <tbody>\n",
              "    <tr>\n",
              "      <th>0</th>\n",
              "      <td>Crime Comedy</td>\n",
              "      <td>hotel new year's eve witch bet hotel room</td>\n",
              "      <td>Twelve outrageous guests. Four scandalous requ...</td>\n",
              "      <td>Tim Roth Antonio Banderas Jennifer Beals Madon...</td>\n",
              "      <td>Allison Anders</td>\n",
              "    </tr>\n",
              "    <tr>\n",
              "      <th>1</th>\n",
              "      <td>Adventure Action Science Fiction</td>\n",
              "      <td>android galaxy hermit death star lightsaber</td>\n",
              "      <td>A long time ago in a galaxy far, far away...</td>\n",
              "      <td>Mark Hamill Harrison Ford Carrie Fisher Peter ...</td>\n",
              "      <td>George Lucas</td>\n",
              "    </tr>\n",
              "    <tr>\n",
              "      <th>2</th>\n",
              "      <td>Animation Family</td>\n",
              "      <td>father son relationship harbor underwater fish...</td>\n",
              "      <td>There are 3.7 trillion fish in the ocean, they...</td>\n",
              "      <td>Albert Brooks Ellen DeGeneres Alexander Gould ...</td>\n",
              "      <td>Andrew Stanton</td>\n",
              "    </tr>\n",
              "    <tr>\n",
              "      <th>3</th>\n",
              "      <td>Comedy Drama Romance</td>\n",
              "      <td>vietnam veteran hippie mentally disabled runni...</td>\n",
              "      <td>The world will never be the same, once you've ...</td>\n",
              "      <td>Tom Hanks Robin Wright Gary Sinise Mykelti Wil...</td>\n",
              "      <td>Robert Zemeckis</td>\n",
              "    </tr>\n",
              "    <tr>\n",
              "      <th>4</th>\n",
              "      <td>Drama</td>\n",
              "      <td>male nudity female nudity adultery midlife cri...</td>\n",
              "      <td>Look closer.</td>\n",
              "      <td>Kevin Spacey Annette Bening Thora Birch Wes Be...</td>\n",
              "      <td>Sam Mendes</td>\n",
              "    </tr>\n",
              "    <tr>\n",
              "      <th>...</th>\n",
              "      <td>...</td>\n",
              "      <td>...</td>\n",
              "      <td>...</td>\n",
              "      <td>...</td>\n",
              "      <td>...</td>\n",
              "    </tr>\n",
              "    <tr>\n",
              "      <th>4755</th>\n",
              "      <td>Horror</td>\n",
              "      <td></td>\n",
              "      <td>The hot spot where Satan's waitin'.</td>\n",
              "      <td>Lisa Hart Carroll Michael Des Barres Paul Drak...</td>\n",
              "      <td>Pece Dingo</td>\n",
              "    </tr>\n",
              "    <tr>\n",
              "      <th>4756</th>\n",
              "      <td>Comedy Family Drama</td>\n",
              "      <td></td>\n",
              "      <td>It’s better to stand out than to fit in.</td>\n",
              "      <td>Roni Akurati Brighton Sharbino Jason Lee Anjul...</td>\n",
              "      <td>Frank Lotito</td>\n",
              "    </tr>\n",
              "    <tr>\n",
              "      <th>4757</th>\n",
              "      <td>Thriller Drama</td>\n",
              "      <td>christian film sex trafficking</td>\n",
              "      <td>She never knew it could happen to her...</td>\n",
              "      <td>Nicole Smolen Kim Baldwin Ariana Stephens Brys...</td>\n",
              "      <td>Jaco Booyens</td>\n",
              "    </tr>\n",
              "    <tr>\n",
              "      <th>4758</th>\n",
              "      <td>Family</td>\n",
              "      <td></td>\n",
              "      <td></td>\n",
              "      <td></td>\n",
              "      <td></td>\n",
              "    </tr>\n",
              "    <tr>\n",
              "      <th>4759</th>\n",
              "      <td>Documentary</td>\n",
              "      <td>music actors legendary perfomer classic hollyw...</td>\n",
              "      <td></td>\n",
              "      <td>Tony Oppedisano</td>\n",
              "      <td>Simon Napier-Bell</td>\n",
              "    </tr>\n",
              "  </tbody>\n",
              "</table>\n",
              "<p>4760 rows × 5 columns</p>\n",
              "</div>\n",
              "    <div class=\"colab-df-buttons\">\n",
              "\n",
              "  <div class=\"colab-df-container\">\n",
              "    <button class=\"colab-df-convert\" onclick=\"convertToInteractive('df-a5926fc5-31e7-4d73-8744-c6a6bc55903d')\"\n",
              "            title=\"Convert this dataframe to an interactive table.\"\n",
              "            style=\"display:none;\">\n",
              "\n",
              "  <svg xmlns=\"http://www.w3.org/2000/svg\" height=\"24px\" viewBox=\"0 -960 960 960\">\n",
              "    <path d=\"M120-120v-720h720v720H120Zm60-500h600v-160H180v160Zm220 220h160v-160H400v160Zm0 220h160v-160H400v160ZM180-400h160v-160H180v160Zm440 0h160v-160H620v160ZM180-180h160v-160H180v160Zm440 0h160v-160H620v160Z\"/>\n",
              "  </svg>\n",
              "    </button>\n",
              "\n",
              "  <style>\n",
              "    .colab-df-container {\n",
              "      display:flex;\n",
              "      gap: 12px;\n",
              "    }\n",
              "\n",
              "    .colab-df-convert {\n",
              "      background-color: #E8F0FE;\n",
              "      border: none;\n",
              "      border-radius: 50%;\n",
              "      cursor: pointer;\n",
              "      display: none;\n",
              "      fill: #1967D2;\n",
              "      height: 32px;\n",
              "      padding: 0 0 0 0;\n",
              "      width: 32px;\n",
              "    }\n",
              "\n",
              "    .colab-df-convert:hover {\n",
              "      background-color: #E2EBFA;\n",
              "      box-shadow: 0px 1px 2px rgba(60, 64, 67, 0.3), 0px 1px 3px 1px rgba(60, 64, 67, 0.15);\n",
              "      fill: #174EA6;\n",
              "    }\n",
              "\n",
              "    .colab-df-buttons div {\n",
              "      margin-bottom: 4px;\n",
              "    }\n",
              "\n",
              "    [theme=dark] .colab-df-convert {\n",
              "      background-color: #3B4455;\n",
              "      fill: #D2E3FC;\n",
              "    }\n",
              "\n",
              "    [theme=dark] .colab-df-convert:hover {\n",
              "      background-color: #434B5C;\n",
              "      box-shadow: 0px 1px 3px 1px rgba(0, 0, 0, 0.15);\n",
              "      filter: drop-shadow(0px 1px 2px rgba(0, 0, 0, 0.3));\n",
              "      fill: #FFFFFF;\n",
              "    }\n",
              "  </style>\n",
              "\n",
              "    <script>\n",
              "      const buttonEl =\n",
              "        document.querySelector('#df-a5926fc5-31e7-4d73-8744-c6a6bc55903d button.colab-df-convert');\n",
              "      buttonEl.style.display =\n",
              "        google.colab.kernel.accessAllowed ? 'block' : 'none';\n",
              "\n",
              "      async function convertToInteractive(key) {\n",
              "        const element = document.querySelector('#df-a5926fc5-31e7-4d73-8744-c6a6bc55903d');\n",
              "        const dataTable =\n",
              "          await google.colab.kernel.invokeFunction('convertToInteractive',\n",
              "                                                    [key], {});\n",
              "        if (!dataTable) return;\n",
              "\n",
              "        const docLinkHtml = 'Like what you see? Visit the ' +\n",
              "          '<a target=\"_blank\" href=https://colab.research.google.com/notebooks/data_table.ipynb>data table notebook</a>'\n",
              "          + ' to learn more about interactive tables.';\n",
              "        element.innerHTML = '';\n",
              "        dataTable['output_type'] = 'display_data';\n",
              "        await google.colab.output.renderOutput(dataTable, element);\n",
              "        const docLink = document.createElement('div');\n",
              "        docLink.innerHTML = docLinkHtml;\n",
              "        element.appendChild(docLink);\n",
              "      }\n",
              "    </script>\n",
              "  </div>\n",
              "\n",
              "\n",
              "<div id=\"df-c0ffee7b-4650-4c0f-81b5-8d4f3c920b55\">\n",
              "  <button class=\"colab-df-quickchart\" onclick=\"quickchart('df-c0ffee7b-4650-4c0f-81b5-8d4f3c920b55')\"\n",
              "            title=\"Suggest charts\"\n",
              "            style=\"display:none;\">\n",
              "\n",
              "<svg xmlns=\"http://www.w3.org/2000/svg\" height=\"24px\"viewBox=\"0 0 24 24\"\n",
              "     width=\"24px\">\n",
              "    <g>\n",
              "        <path d=\"M19 3H5c-1.1 0-2 .9-2 2v14c0 1.1.9 2 2 2h14c1.1 0 2-.9 2-2V5c0-1.1-.9-2-2-2zM9 17H7v-7h2v7zm4 0h-2V7h2v10zm4 0h-2v-4h2v4z\"/>\n",
              "    </g>\n",
              "</svg>\n",
              "  </button>\n",
              "\n",
              "<style>\n",
              "  .colab-df-quickchart {\n",
              "      --bg-color: #E8F0FE;\n",
              "      --fill-color: #1967D2;\n",
              "      --hover-bg-color: #E2EBFA;\n",
              "      --hover-fill-color: #174EA6;\n",
              "      --disabled-fill-color: #AAA;\n",
              "      --disabled-bg-color: #DDD;\n",
              "  }\n",
              "\n",
              "  [theme=dark] .colab-df-quickchart {\n",
              "      --bg-color: #3B4455;\n",
              "      --fill-color: #D2E3FC;\n",
              "      --hover-bg-color: #434B5C;\n",
              "      --hover-fill-color: #FFFFFF;\n",
              "      --disabled-bg-color: #3B4455;\n",
              "      --disabled-fill-color: #666;\n",
              "  }\n",
              "\n",
              "  .colab-df-quickchart {\n",
              "    background-color: var(--bg-color);\n",
              "    border: none;\n",
              "    border-radius: 50%;\n",
              "    cursor: pointer;\n",
              "    display: none;\n",
              "    fill: var(--fill-color);\n",
              "    height: 32px;\n",
              "    padding: 0;\n",
              "    width: 32px;\n",
              "  }\n",
              "\n",
              "  .colab-df-quickchart:hover {\n",
              "    background-color: var(--hover-bg-color);\n",
              "    box-shadow: 0 1px 2px rgba(60, 64, 67, 0.3), 0 1px 3px 1px rgba(60, 64, 67, 0.15);\n",
              "    fill: var(--button-hover-fill-color);\n",
              "  }\n",
              "\n",
              "  .colab-df-quickchart-complete:disabled,\n",
              "  .colab-df-quickchart-complete:disabled:hover {\n",
              "    background-color: var(--disabled-bg-color);\n",
              "    fill: var(--disabled-fill-color);\n",
              "    box-shadow: none;\n",
              "  }\n",
              "\n",
              "  .colab-df-spinner {\n",
              "    border: 2px solid var(--fill-color);\n",
              "    border-color: transparent;\n",
              "    border-bottom-color: var(--fill-color);\n",
              "    animation:\n",
              "      spin 1s steps(1) infinite;\n",
              "  }\n",
              "\n",
              "  @keyframes spin {\n",
              "    0% {\n",
              "      border-color: transparent;\n",
              "      border-bottom-color: var(--fill-color);\n",
              "      border-left-color: var(--fill-color);\n",
              "    }\n",
              "    20% {\n",
              "      border-color: transparent;\n",
              "      border-left-color: var(--fill-color);\n",
              "      border-top-color: var(--fill-color);\n",
              "    }\n",
              "    30% {\n",
              "      border-color: transparent;\n",
              "      border-left-color: var(--fill-color);\n",
              "      border-top-color: var(--fill-color);\n",
              "      border-right-color: var(--fill-color);\n",
              "    }\n",
              "    40% {\n",
              "      border-color: transparent;\n",
              "      border-right-color: var(--fill-color);\n",
              "      border-top-color: var(--fill-color);\n",
              "    }\n",
              "    60% {\n",
              "      border-color: transparent;\n",
              "      border-right-color: var(--fill-color);\n",
              "    }\n",
              "    80% {\n",
              "      border-color: transparent;\n",
              "      border-right-color: var(--fill-color);\n",
              "      border-bottom-color: var(--fill-color);\n",
              "    }\n",
              "    90% {\n",
              "      border-color: transparent;\n",
              "      border-bottom-color: var(--fill-color);\n",
              "    }\n",
              "  }\n",
              "</style>\n",
              "\n",
              "  <script>\n",
              "    async function quickchart(key) {\n",
              "      const quickchartButtonEl =\n",
              "        document.querySelector('#' + key + ' button');\n",
              "      quickchartButtonEl.disabled = true;  // To prevent multiple clicks.\n",
              "      quickchartButtonEl.classList.add('colab-df-spinner');\n",
              "      try {\n",
              "        const charts = await google.colab.kernel.invokeFunction(\n",
              "            'suggestCharts', [key], {});\n",
              "      } catch (error) {\n",
              "        console.error('Error during call to suggestCharts:', error);\n",
              "      }\n",
              "      quickchartButtonEl.classList.remove('colab-df-spinner');\n",
              "      quickchartButtonEl.classList.add('colab-df-quickchart-complete');\n",
              "    }\n",
              "    (() => {\n",
              "      let quickchartButtonEl =\n",
              "        document.querySelector('#df-c0ffee7b-4650-4c0f-81b5-8d4f3c920b55 button');\n",
              "      quickchartButtonEl.style.display =\n",
              "        google.colab.kernel.accessAllowed ? 'block' : 'none';\n",
              "    })();\n",
              "  </script>\n",
              "</div>\n",
              "\n",
              "  <div id=\"id_f4cdacee-4a29-4254-a262-60f31c6b7196\">\n",
              "    <style>\n",
              "      .colab-df-generate {\n",
              "        background-color: #E8F0FE;\n",
              "        border: none;\n",
              "        border-radius: 50%;\n",
              "        cursor: pointer;\n",
              "        display: none;\n",
              "        fill: #1967D2;\n",
              "        height: 32px;\n",
              "        padding: 0 0 0 0;\n",
              "        width: 32px;\n",
              "      }\n",
              "\n",
              "      .colab-df-generate:hover {\n",
              "        background-color: #E2EBFA;\n",
              "        box-shadow: 0px 1px 2px rgba(60, 64, 67, 0.3), 0px 1px 3px 1px rgba(60, 64, 67, 0.15);\n",
              "        fill: #174EA6;\n",
              "      }\n",
              "\n",
              "      [theme=dark] .colab-df-generate {\n",
              "        background-color: #3B4455;\n",
              "        fill: #D2E3FC;\n",
              "      }\n",
              "\n",
              "      [theme=dark] .colab-df-generate:hover {\n",
              "        background-color: #434B5C;\n",
              "        box-shadow: 0px 1px 3px 1px rgba(0, 0, 0, 0.15);\n",
              "        filter: drop-shadow(0px 1px 2px rgba(0, 0, 0, 0.3));\n",
              "        fill: #FFFFFF;\n",
              "      }\n",
              "    </style>\n",
              "    <button class=\"colab-df-generate\" onclick=\"generateWithVariable('df_features')\"\n",
              "            title=\"Generate code using this dataframe.\"\n",
              "            style=\"display:none;\">\n",
              "\n",
              "  <svg xmlns=\"http://www.w3.org/2000/svg\" height=\"24px\"viewBox=\"0 0 24 24\"\n",
              "       width=\"24px\">\n",
              "    <path d=\"M7,19H8.4L18.45,9,17,7.55,7,17.6ZM5,21V16.75L18.45,3.32a2,2,0,0,1,2.83,0l1.4,1.43a1.91,1.91,0,0,1,.58,1.4,1.91,1.91,0,0,1-.58,1.4L9.25,21ZM18.45,9,17,7.55Zm-12,3A5.31,5.31,0,0,0,4.9,8.1,5.31,5.31,0,0,0,1,6.5,5.31,5.31,0,0,0,4.9,4.9,5.31,5.31,0,0,0,6.5,1,5.31,5.31,0,0,0,8.1,4.9,5.31,5.31,0,0,0,12,6.5,5.46,5.46,0,0,0,6.5,12Z\"/>\n",
              "  </svg>\n",
              "    </button>\n",
              "    <script>\n",
              "      (() => {\n",
              "      const buttonEl =\n",
              "        document.querySelector('#id_f4cdacee-4a29-4254-a262-60f31c6b7196 button.colab-df-generate');\n",
              "      buttonEl.style.display =\n",
              "        google.colab.kernel.accessAllowed ? 'block' : 'none';\n",
              "\n",
              "      buttonEl.onclick = () => {\n",
              "        google.colab.notebook.generateWithVariable('df_features');\n",
              "      }\n",
              "      })();\n",
              "    </script>\n",
              "  </div>\n",
              "\n",
              "    </div>\n",
              "  </div>\n"
            ],
            "application/vnd.google.colaboratory.intrinsic+json": {
              "type": "dataframe",
              "variable_name": "df_features",
              "summary": "{\n  \"name\": \"df_features\",\n  \"rows\": 4760,\n  \"fields\": [\n    {\n      \"column\": \"Movie_Genre\",\n      \"properties\": {\n        \"dtype\": \"category\",\n        \"num_unique_values\": 1164,\n        \"samples\": [\n          \"Family Animation Adventure\",\n          \"Adventure Science Fiction Action\",\n          \"Action Crime Drama Romance Thriller\"\n        ],\n        \"semantic_type\": \"\",\n        \"description\": \"\"\n      }\n    },\n    {\n      \"column\": \"Movie_Keywords\",\n      \"properties\": {\n        \"dtype\": \"string\",\n        \"num_unique_values\": 4203,\n        \"samples\": [\n          \"canada nazis sequel spin off ancient evil\",\n          \"sex professor wedding woman director columbia university\",\n          \"prophecy sea beach gold small town\"\n        ],\n        \"semantic_type\": \"\",\n        \"description\": \"\"\n      }\n    },\n    {\n      \"column\": \"Movie_Tagline\",\n      \"properties\": {\n        \"dtype\": \"string\",\n        \"num_unique_values\": 3928,\n        \"samples\": [\n          \"The messenger must be silenced.\",\n          \"It's not the house that's haunted.\",\n          \"The final hunt begins.\"\n        ],\n        \"semantic_type\": \"\",\n        \"description\": \"\"\n      }\n    },\n    {\n      \"column\": \"Movie_Cast\",\n      \"properties\": {\n        \"dtype\": \"string\",\n        \"num_unique_values\": 4715,\n        \"samples\": [\n          \"Robin Tunney Fairuza Balk Neve Campbell Rachel True Skeet Ulrich\",\n          \"Peter Sellers Christopher Plummer Herbert Lom Catherine Schell Peter Arne\",\n          \"John Wayne Laraine Day Cedric Hardwicke Judith Anderson Anthony Quinn\"\n        ],\n        \"semantic_type\": \"\",\n        \"description\": \"\"\n      }\n    },\n    {\n      \"column\": \"Movie_Director\",\n      \"properties\": {\n        \"dtype\": \"category\",\n        \"num_unique_values\": 2332,\n        \"samples\": [\n          \"Rob McKittrick\",\n          \"Terron R. Parsons\",\n          \"Cyrus Nowrasteh\"\n        ],\n        \"semantic_type\": \"\",\n        \"description\": \"\"\n      }\n    }\n  ]\n}"
            }
          },
          "metadata": {},
          "execution_count": 15
        }
      ]
    },
    {
      "cell_type": "code",
      "source": [
        "x = df_features['Movie_Genre'] +''+ df_features['Movie_Keywords']+''+ df_features['Movie_Tagline']+''+ df_features[\"Movie_Cast\"] +''+ df_features['Movie_Director']"
      ],
      "metadata": {
        "id": "mxx3RNm4slBR"
      },
      "execution_count": null,
      "outputs": []
    },
    {
      "cell_type": "code",
      "source": [
        "x"
      ],
      "metadata": {
        "colab": {
          "base_uri": "https://localhost:8080/",
          "height": 614
        },
        "id": "hSBtGGlYtYf6",
        "outputId": "7018f194-2eab-4748-8356-f0f3114f15c0"
      },
      "execution_count": null,
      "outputs": [
        {
          "output_type": "execute_result",
          "data": {
            "text/plain": [
              "0       Crime Comedyhotel new year's eve witch bet hot...\n",
              "1       Adventure Action Science Fictionandroid galaxy...\n",
              "2       Animation Familyfather son relationship harbor...\n",
              "3       Comedy Drama Romancevietnam veteran hippie men...\n",
              "4       Dramamale nudity female nudity adultery midlif...\n",
              "                              ...                        \n",
              "4755    HorrorThe hot spot where Satan's waitin'.Lisa ...\n",
              "4756    Comedy Family DramaIt’s better to stand out th...\n",
              "4757    Thriller Dramachristian film sex traffickingSh...\n",
              "4758                                               Family\n",
              "4759    Documentarymusic actors legendary perfomer cla...\n",
              "Length: 4760, dtype: object"
            ],
            "text/html": [
              "<div>\n",
              "<style scoped>\n",
              "    .dataframe tbody tr th:only-of-type {\n",
              "        vertical-align: middle;\n",
              "    }\n",
              "\n",
              "    .dataframe tbody tr th {\n",
              "        vertical-align: top;\n",
              "    }\n",
              "\n",
              "    .dataframe thead th {\n",
              "        text-align: right;\n",
              "    }\n",
              "</style>\n",
              "<table border=\"1\" class=\"dataframe\">\n",
              "  <thead>\n",
              "    <tr style=\"text-align: right;\">\n",
              "      <th></th>\n",
              "      <th>0</th>\n",
              "    </tr>\n",
              "  </thead>\n",
              "  <tbody>\n",
              "    <tr>\n",
              "      <th>0</th>\n",
              "      <td>Crime Comedyhotel new year's eve witch bet hot...</td>\n",
              "    </tr>\n",
              "    <tr>\n",
              "      <th>1</th>\n",
              "      <td>Adventure Action Science Fictionandroid galaxy...</td>\n",
              "    </tr>\n",
              "    <tr>\n",
              "      <th>2</th>\n",
              "      <td>Animation Familyfather son relationship harbor...</td>\n",
              "    </tr>\n",
              "    <tr>\n",
              "      <th>3</th>\n",
              "      <td>Comedy Drama Romancevietnam veteran hippie men...</td>\n",
              "    </tr>\n",
              "    <tr>\n",
              "      <th>4</th>\n",
              "      <td>Dramamale nudity female nudity adultery midlif...</td>\n",
              "    </tr>\n",
              "    <tr>\n",
              "      <th>...</th>\n",
              "      <td>...</td>\n",
              "    </tr>\n",
              "    <tr>\n",
              "      <th>4755</th>\n",
              "      <td>HorrorThe hot spot where Satan's waitin'.Lisa ...</td>\n",
              "    </tr>\n",
              "    <tr>\n",
              "      <th>4756</th>\n",
              "      <td>Comedy Family DramaIt’s better to stand out th...</td>\n",
              "    </tr>\n",
              "    <tr>\n",
              "      <th>4757</th>\n",
              "      <td>Thriller Dramachristian film sex traffickingSh...</td>\n",
              "    </tr>\n",
              "    <tr>\n",
              "      <th>4758</th>\n",
              "      <td>Family</td>\n",
              "    </tr>\n",
              "    <tr>\n",
              "      <th>4759</th>\n",
              "      <td>Documentarymusic actors legendary perfomer cla...</td>\n",
              "    </tr>\n",
              "  </tbody>\n",
              "</table>\n",
              "<p>4760 rows × 1 columns</p>\n",
              "</div><br><label><b>dtype:</b> object</label>"
            ]
          },
          "metadata": {},
          "execution_count": 19
        }
      ]
    },
    {
      "cell_type": "code",
      "source": [
        "x.shape"
      ],
      "metadata": {
        "colab": {
          "base_uri": "https://localhost:8080/"
        },
        "id": "HRH4lgYvtab5",
        "outputId": "402a26fd-8e7c-42fa-85bd-fb5c737529ce"
      },
      "execution_count": null,
      "outputs": [
        {
          "output_type": "execute_result",
          "data": {
            "text/plain": [
              "(4760, 27466)"
            ]
          },
          "metadata": {},
          "execution_count": 28
        }
      ]
    },
    {
      "cell_type": "markdown",
      "source": [
        "# Get Feature Text Conversion to Tokens"
      ],
      "metadata": {
        "id": "A8HALXYUthcY"
      }
    },
    {
      "cell_type": "code",
      "source": [
        "from sklearn.feature_extraction.text import TfidfVectorizer"
      ],
      "metadata": {
        "id": "PhKVcDYOtobO"
      },
      "execution_count": null,
      "outputs": []
    },
    {
      "source": [
        "from sklearn.feature_extraction.text import TfidfVectorizer  # Make sure this cell is executed first\n",
        "\n",
        "tfidf = TfidfVectorizer() # Use the correct name 'TfidfVectorizer'"
      ],
      "cell_type": "code",
      "metadata": {
        "id": "4PWY48bbuKdg"
      },
      "execution_count": null,
      "outputs": []
    },
    {
      "cell_type": "code",
      "source": [
        "x=tfidf.fit_transform(x)"
      ],
      "metadata": {
        "id": "WBwJcNYauMVJ"
      },
      "execution_count": null,
      "outputs": []
    },
    {
      "cell_type": "code",
      "source": [
        "x.shape"
      ],
      "metadata": {
        "colab": {
          "base_uri": "https://localhost:8080/"
        },
        "id": "kAQMAD4GuTaZ",
        "outputId": "4c2b8a44-7f9f-4657-aaee-ca7c6d33ca27"
      },
      "execution_count": null,
      "outputs": [
        {
          "output_type": "execute_result",
          "data": {
            "text/plain": [
              "(4760, 27466)"
            ]
          },
          "metadata": {},
          "execution_count": 27
        }
      ]
    },
    {
      "cell_type": "code",
      "source": [
        "print(x)"
      ],
      "metadata": {
        "colab": {
          "base_uri": "https://localhost:8080/"
        },
        "id": "iHkU0XOcuWIG",
        "outputId": "22a93b41-f396-493c-ae0e-8386073d49de"
      },
      "execution_count": null,
      "outputs": [
        {
          "output_type": "stream",
          "name": "stdout",
          "text": [
            "  (0, 1028)\t0.16196019146631543\n",
            "  (0, 24785)\t0.1954632929283795\n",
            "  (0, 15844)\t0.14205053053187272\n",
            "  (0, 15553)\t0.17099186675469502\n",
            "  (0, 2132)\t0.18002354204307464\n",
            "  (0, 13312)\t0.09914387783149516\n",
            "  (0, 1887)\t0.14106037409792174\n",
            "  (0, 1216)\t0.13920306109638164\n",
            "  (0, 21158)\t0.14205053053187272\n",
            "  (0, 24701)\t0.11357423942624927\n",
            "  (0, 14943)\t0.091376722056839\n",
            "  (0, 18098)\t0.06200430666985742\n",
            "  (0, 26738)\t0.175053052455033\n",
            "  (0, 9790)\t0.08712552095655665\n",
            "  (0, 26675)\t0.1116831168780693\n",
            "  (0, 13401)\t0.13748876529263096\n",
            "  (0, 24105)\t0.10726395493180996\n",
            "  (0, 18192)\t0.07278761942152372\n",
            "  (0, 6172)\t0.11970212451073885\n",
            "  (0, 9626)\t0.11757910435818826\n",
            "  (0, 11960)\t0.20134029899961134\n",
            "  (0, 12801)\t0.1530338818199682\n",
            "  (0, 2292)\t0.1954632929283795\n",
            "  (0, 15172)\t0.1537691763994982\n",
            "  (0, 18196)\t0.08579029869987485\n",
            "  :\t:\n",
            "  (4757, 1839)\t0.19327629083107672\n",
            "  (4757, 5410)\t0.19734759150400596\n",
            "  (4757, 11350)\t0.21582294886514122\n",
            "  (4757, 22017)\t0.1646400247918531\n",
            "  (4757, 17789)\t0.18881341937258544\n",
            "  (4757, 9484)\t0.1411164779725638\n",
            "  (4757, 14176)\t0.2330831990045816\n",
            "  (4757, 11762)\t0.17321388936472645\n",
            "  (4757, 14052)\t0.1776312353410007\n",
            "  (4757, 24232)\t0.10947784435203887\n",
            "  (4757, 24746)\t0.09744940789814222\n",
            "  (4757, 13079)\t0.12400374714145113\n",
            "  (4757, 17721)\t0.1489085353667712\n",
            "  (4758, 8651)\t1.0\n",
            "  (4759, 18229)\t0.33527342183765224\n",
            "  (4759, 22434)\t0.33527342183765224\n",
            "  (4759, 18841)\t0.33527342183765224\n",
            "  (4759, 6950)\t0.33527342183765224\n",
            "  (4759, 345)\t0.31978160936741457\n",
            "  (4759, 14742)\t0.31978160936741457\n",
            "  (4759, 12139)\t0.2778063685558062\n",
            "  (4759, 4446)\t0.282306565154911\n",
            "  (4759, 17552)\t0.3087899934962816\n",
            "  (4759, 9955)\t0.21805075638656476\n",
            "  (4759, 2285)\t0.21465229435984196\n"
          ]
        }
      ]
    },
    {
      "cell_type": "markdown",
      "source": [
        "# Get Similarity Score using Cosine Similarity"
      ],
      "metadata": {
        "id": "jdSyLtKnukOZ"
      }
    },
    {
      "cell_type": "markdown",
      "source": [
        "cosine_similarity computes the L2-normalized dot product of vectors. Euclidean (L2) normalization projects the vectors onto the unit sphere. and their dot product is then the cosine of the angle between the points denoted by the vectors."
      ],
      "metadata": {
        "id": "znJbFUEnuuLW"
      }
    },
    {
      "cell_type": "code",
      "source": [
        "from sklearn.metrics.pairwise import cosine_similarity"
      ],
      "metadata": {
        "id": "BPKzavuNu0oR"
      },
      "execution_count": null,
      "outputs": []
    },
    {
      "cell_type": "code",
      "source": [
        "Similarity_Score=cosine_similarity(x)"
      ],
      "metadata": {
        "id": "suHY_Ynku8Os"
      },
      "execution_count": null,
      "outputs": []
    },
    {
      "cell_type": "code",
      "source": [
        "Similarity_Score"
      ],
      "metadata": {
        "colab": {
          "base_uri": "https://localhost:8080/"
        },
        "id": "FmerhPvLvDLd",
        "outputId": "7bc2fa54-7309-499d-e393-f0db5372f420"
      },
      "execution_count": null,
      "outputs": [
        {
          "output_type": "execute_result",
          "data": {
            "text/plain": [
              "array([[1.        , 0.01438634, 0.03807033, ..., 0.        , 0.        ,\n",
              "        0.        ],\n",
              "       [0.01438634, 1.        , 0.00844858, ..., 0.        , 0.        ,\n",
              "        0.        ],\n",
              "       [0.03807033, 0.00844858, 1.        , ..., 0.        , 0.        ,\n",
              "        0.        ],\n",
              "       ...,\n",
              "       [0.        , 0.        , 0.        , ..., 1.        , 0.        ,\n",
              "        0.        ],\n",
              "       [0.        , 0.        , 0.        , ..., 0.        , 1.        ,\n",
              "        0.        ],\n",
              "       [0.        , 0.        , 0.        , ..., 0.        , 0.        ,\n",
              "        1.        ]])"
            ]
          },
          "metadata": {},
          "execution_count": 33
        }
      ]
    },
    {
      "cell_type": "code",
      "source": [
        "Similarity_Score.shape"
      ],
      "metadata": {
        "colab": {
          "base_uri": "https://localhost:8080/"
        },
        "id": "gEDcRxq4vFMx",
        "outputId": "cf804c2a-bf25-4ec1-e43a-7d24b758ae7e"
      },
      "execution_count": null,
      "outputs": [
        {
          "output_type": "execute_result",
          "data": {
            "text/plain": [
              "(4760, 4760)"
            ]
          },
          "metadata": {},
          "execution_count": 34
        }
      ]
    },
    {
      "cell_type": "markdown",
      "source": [
        "# Get Movie Name ad Input from User and Validate for Closest Spelling"
      ],
      "metadata": {
        "id": "-Sy8lPOcvI4Z"
      }
    },
    {
      "cell_type": "code",
      "source": [
        "Favourite_Movie_Name = input('KGF')"
      ],
      "metadata": {
        "colab": {
          "base_uri": "https://localhost:8080/"
        },
        "id": "wXTyinP4vj_3",
        "outputId": "5968bbca-5c13-4eb9-b273-05c50a8daedb"
      },
      "execution_count": null,
      "outputs": [
        {
          "name": "stdout",
          "output_type": "stream",
          "text": [
            "KGF2\n"
          ]
        }
      ]
    },
    {
      "cell_type": "code",
      "source": [
        "All_Movies_Title_List = df['Movie_Title'].tolist()"
      ],
      "metadata": {
        "id": "Eebh8l2UvtyN"
      },
      "execution_count": null,
      "outputs": []
    },
    {
      "cell_type": "code",
      "source": [
        "import difflib"
      ],
      "metadata": {
        "id": "0xjVJ3FnwALM"
      },
      "execution_count": null,
      "outputs": []
    },
    {
      "cell_type": "code",
      "source": [
        "Movie_Recommendation = difflib.get_close_matches(Favourite_Movie_Name, All_Movies_Title_List)\n",
        "print(Movie_Recommendation)"
      ],
      "metadata": {
        "colab": {
          "base_uri": "https://localhost:8080/"
        },
        "id": "eaJn6pd1wDZB",
        "outputId": "328db246-f681-4c6d-e822-033583d32b2d"
      },
      "execution_count": null,
      "outputs": [
        {
          "output_type": "stream",
          "name": "stdout",
          "text": [
            "['X2']\n"
          ]
        }
      ]
    },
    {
      "cell_type": "code",
      "source": [
        "Close_Match = Movie_Recommendation[0]\n",
        "print(Close_Match)"
      ],
      "metadata": {
        "colab": {
          "base_uri": "https://localhost:8080/"
        },
        "id": "BFoqxqtWwMmI",
        "outputId": "03369324-3905-4d90-f7b3-c3ce69802e27"
      },
      "execution_count": null,
      "outputs": [
        {
          "output_type": "stream",
          "name": "stdout",
          "text": [
            "X2\n"
          ]
        }
      ]
    },
    {
      "cell_type": "code",
      "source": [
        "Index_of_Close_Match_Movie = df[df.Movie_Title == Close_Match]['Movie_ID'].values[0]\n",
        "print(Index_of_Close_Match_Movie)"
      ],
      "metadata": {
        "colab": {
          "base_uri": "https://localhost:8080/"
        },
        "id": "nQLYU6O7wYov",
        "outputId": "79d749af-beb8-4ebe-c50a-a355200bb44b"
      },
      "execution_count": null,
      "outputs": [
        {
          "output_type": "stream",
          "name": "stdout",
          "text": [
            "3134\n"
          ]
        }
      ]
    },
    {
      "cell_type": "code",
      "source": [
        "# getting a list of similar movies\n",
        "Recommendation_Score = list(enumerate(Similarity_Score[Index_of_Close_Match_Movie]))\n",
        "print(Recommendation_Score)"
      ],
      "metadata": {
        "colab": {
          "base_uri": "https://localhost:8080/"
        },
        "id": "ASnhS7Oewsty",
        "outputId": "9dbb0c49-f962-4b39-c382-5422156f44eb"
      },
      "execution_count": null,
      "outputs": [
        {
          "output_type": "stream",
          "name": "stdout",
          "text": [
            "[(0, 0.007539065598706998), (1, 0.021728052516511973), (2, 0.0), (3, 0.023211196306263657), (4, 0.0), (5, 0.0), (6, 0.05644135044906138), (7, 0.007398017940624061), (8, 0.0), (9, 0.0077313168336082885), (10, 0.006565624715513584), (11, 0.0), (12, 0.0), (13, 0.0), (14, 0.0), (15, 0.023079446581683594), (16, 0.0), (17, 0.008597915974434961), (18, 0.0), (19, 0.033424188279445204), (20, 0.0), (21, 0.0), (22, 0.036544994377008165), (23, 0.02351851586287326), (24, 0.0), (25, 0.0), (26, 0.0), (27, 0.018260132334049533), (28, 0.009999162745607549), (29, 0.0), (30, 0.0), (31, 0.02390361073920043), (32, 0.013267803440270405), (33, 0.0), (34, 0.0), (35, 0.007622643120056482), (36, 0.014815371462214472), (37, 0.0074412555177113884), (38, 0.018213767752001887), (39, 0.03066526636600044), (40, 0.006852670679556428), (41, 0.006579577345982689), (42, 0.0), (43, 0.0), (44, 0.005183353396727106), (45, 0.03154552567132661), (46, 0.036913919840356336), (47, 0.0), (48, 0.006730080047060577), (49, 0.0), (50, 0.0), (51, 0.0), (52, 0.0), (53, 0.03304300154271729), (54, 0.08129411036811122), (55, 0.10872229559251607), (56, 0.10933504906509948), (57, 0.015629433229945852), (58, 0.007047593979075877), (59, 0.014246907754751046), (60, 0.0), (61, 0.021783901050254604), (62, 0.0), (63, 0.012111551255500355), (64, 0.02220642072300761), (65, 0.04072095200733715), (66, 0.0), (67, 0.03587876550870182), (68, 0.006485356460548023), (69, 0.04493918718070653), (70, 0.0), (71, 0.0), (72, 0.0), (73, 0.01683538454823871), (74, 0.010427133758391677), (75, 0.022414738087983655), (76, 0.035642318424926066), (77, 0.007412553349805088), (78, 0.03363958901556407), (79, 0.017690904215645446), (80, 0.0354804797902711), (81, 0.02702781032206108), (82, 0.0), (83, 0.0), (84, 0.030039970147984405), (85, 0.0), (86, 0.008846447700543178), (87, 0.0), (88, 0.12759031028528756), (89, 0.0), (90, 0.10339682617878682), (91, 0.015750793347000365), (92, 0.026758603706587086), (93, 0.09380906706011202), (94, 0.0861334686547939), (95, 0.09530959162856134), (96, 0.0), (97, 0.0), (98, 0.0), (99, 0.0), (100, 0.0), (101, 0.01738041728799255), (102, 0.01724498904914942), (103, 0.0), (104, 0.026666235919955525), (105, 0.0), (106, 0.025940320137040604), (107, 0.0), (108, 0.00731164610547658), (109, 0.0), (110, 0.0), (111, 0.0), (112, 0.010056603630721578), (113, 0.0), (114, 0.0), (115, 0.0), (116, 0.02143633077291075), (117, 0.02666860126826262), (118, 0.014883318280397437), (119, 0.007912375939573583), (120, 0.0), (121, 0.009611247730977112), (122, 0.0), (123, 0.006471865789739801), (124, 0.009420532793222344), (125, 0.007363022483910137), (126, 0.0), (127, 0.0), (128, 0.04258492832756641), (129, 0.0), (130, 0.014735228329244072), (131, 0.0), (132, 0.0), (133, 0.0), (134, 0.0), (135, 0.015777255764994474), (136, 0.0), (137, 0.0), (138, 0.026051925615131706), (139, 0.006734294398362588), (140, 0.0), (141, 0.0), (142, 0.0), (143, 0.05247673731442092), (144, 0.005879358018178651), (145, 0.0), (146, 0.0), (147, 0.0), (148, 0.014776190662912508), (149, 0.0092656640773701), (150, 0.02596983751678517), (151, 0.025189699152147506), (152, 0.023610532880514998), (153, 0.016939223912817856), (154, 0.0), (155, 0.0), (156, 0.008378802871117376), (157, 0.0), (158, 0.0), (159, 0.00493297695100081), (160, 0.014559823194088994), (161, 0.0), (162, 0.006570224786999222), (163, 0.0), (164, 0.0), (165, 0.028814066337883554), (166, 0.0), (167, 0.009689947820561467), (168, 0.0), (169, 0.0), (170, 0.005696044840456531), (171, 0.032808471483898045), (172, 0.026957165568896782), (173, 0.0), (174, 0.028030545186199695), (175, 0.0), (176, 0.0), (177, 0.0), (178, 0.0), (179, 0.03362970638740875), (180, 0.0065651340999389), (181, 0.006050094953919432), (182, 0.008239603726516465), (183, 0.0), (184, 0.0), (185, 0.0), (186, 0.0), (187, 0.02276762038988328), (188, 0.0), (189, 0.0406978528512004), (190, 0.008913049081367332), (191, 0.037577575867966465), (192, 0.0), (193, 0.0), (194, 0.0), (195, 0.0), (196, 0.022525242202680776), (197, 0.0), (198, 0.0), (199, 0.0), (200, 0.0), (201, 0.01492154116551192), (202, 0.0), (203, 0.0), (204, 0.0), (205, 0.0), (206, 0.029199282610830643), (207, 0.0), (208, 0.01592297934828054), (209, 0.0), (210, 0.006636039784475293), (211, 0.0), (212, 0.009514751165556185), (213, 0.0), (214, 0.06181494943793883), (215, 0.0), (216, 0.0), (217, 0.015691152959424526), (218, 0.017057439731060622), (219, 0.019137425351697993), (220, 0.032513081842866644), (221, 0.0), (222, 0.0), (223, 0.0), (224, 0.0), (225, 0.0), (226, 0.0), (227, 0.0), (228, 0.0), (229, 0.0), (230, 0.0), (231, 0.11636916240075505), (232, 0.006430482459273156), (233, 0.03323094286994276), (234, 0.03993572254939044), (235, 0.0), (236, 0.0), (237, 0.006638525986740932), (238, 0.0), (239, 0.0), (240, 0.0), (241, 0.008045903879716675), (242, 0.03105615202336802), (243, 0.0), (244, 0.006250485732433911), (245, 0.0), (246, 0.0), (247, 0.016089550172968), (248, 0.0), (249, 0.0), (250, 0.10868365352286297), (251, 0.0), (252, 0.03124299430686024), (253, 0.0), (254, 0.029766179410743866), (255, 0.010777798550205931), (256, 0.0), (257, 0.02991221485967477), (258, 0.024623763277871386), (259, 0.016034242603518455), (260, 0.023819802438119313), (261, 0.02358004390087392), (262, 0.010971997413324474), (263, 0.023082317700728522), (264, 0.02445529875021584), (265, 0.0), (266, 0.0046982645588334185), (267, 0.0), (268, 0.0), (269, 0.005230566802963797), (270, 0.0), (271, 0.004832292762923413), (272, 0.0), (273, 0.03116504628921079), (274, 0.030618568873957308), (275, 0.0), (276, 0.0), (277, 0.030607922943298296), (278, 0.0), (279, 0.0), (280, 0.0), (281, 0.0), (282, 0.0), (283, 0.01806190808708181), (284, 0.027795928821779017), (285, 0.0), (286, 0.007427106879765686), (287, 0.0), (288, 0.005146288032839456), (289, 0.011769578030657254), (290, 0.012785217251960768), (291, 0.0), (292, 0.013817440603576488), (293, 0.0), (294, 0.004823990068309807), (295, 0.012328991896417722), (296, 0.0), (297, 0.008615119437263473), (298, 0.008601255191167462), (299, 0.008258140173928454), (300, 0.007811964501631184), (301, 0.008504547417973287), (302, 0.0), (303, 0.01721438431196373), (304, 0.0), (305, 0.01394028240026957), (306, 0.013181676694104074), (307, 0.03274947799447402), (308, 0.0), (309, 0.0), (310, 0.013789821638523176), (311, 0.0), (312, 0.0), (313, 0.0), (314, 0.020589573897842335), (315, 0.013919010455809521), (316, 0.013262285191811045), (317, 0.0), (318, 0.0), (319, 0.005013536277219939), (320, 0.03782192552591683), (321, 0.014080561606544617), (322, 0.014074576454052964), (323, 0.05194374151119654), (324, 0.024832459222495773), (325, 0.0), (326, 0.0), (327, 0.013010498581025216), (328, 0.006089215761223022), (329, 0.0), (330, 0.0), (331, 0.0), (332, 0.004637643247033842), (333, 0.027803651266620984), (334, 0.005331584916540557), (335, 0.0), (336, 0.006115971279847062), (337, 0.0), (338, 0.037863119537232086), (339, 0.03681211147606368), (340, 0.008890021731176085), (341, 0.05885587392350184), (342, 0.028906912747137005), (343, 0.0), (344, 0.0), (345, 0.007716691831703952), (346, 0.01015365180782276), (347, 0.025300829738163094), (348, 0.0), (349, 0.02196021591776595), (350, 0.006676778971325895), (351, 0.0), (352, 0.0), (353, 0.0), (354, 0.0), (355, 0.0), (356, 0.0), (357, 0.0), (358, 0.0), (359, 0.0), (360, 0.0), (361, 0.00855944245198988), (362, 0.008794925185071283), (363, 0.008704607880417492), (364, 0.025317320183408473), (365, 0.009143960579590795), (366, 0.0), (367, 0.023589170409017327), (368, 0.020714996629189457), (369, 0.007634245861909858), (370, 0.0), (371, 0.0), (372, 0.0), (373, 0.0), (374, 0.0), (375, 0.03210864612634643), (376, 0.008617984996463105), (377, 0.0), (378, 0.0258548781410861), (379, 0.028178039751021615), (380, 0.028301134384196756), (381, 0.006660036387460153), (382, 0.00563278299665189), (383, 0.025264348733493005), (384, 0.0), (385, 0.0), (386, 0.006657319375967413), (387, 0.0), (388, 0.0), (389, 0.00964148990844965), (390, 0.022904938087476616), (391, 0.0), (392, 0.0), (393, 0.0), (394, 0.013252602518319521), (395, 0.0), (396, 0.0), (397, 0.029143135976264938), (398, 0.0), (399, 0.0), (400, 0.0), (401, 0.008598471628279952), (402, 0.0), (403, 0.0), (404, 0.0), (405, 0.02648029291532059), (406, 0.0), (407, 0.0), (408, 0.0), (409, 0.007774141917052986), (410, 0.0), (411, 0.0), (412, 0.0), (413, 0.010145748331811717), (414, 0.0), (415, 0.0), (416, 0.0), (417, 0.02255661159911321), (418, 0.03243708917764687), (419, 0.00951804460494671), (420, 0.0), (421, 0.0), (422, 0.0), (423, 0.0), (424, 0.016109057646385063), (425, 0.01613126741047863), (426, 0.013027271905340929), (427, 0.009757673992198072), (428, 0.007512522816464542), (429, 0.0), (430, 0.04213513985674881), (431, 0.0), (432, 0.022442561189696685), (433, 0.0083880422243754), (434, 0.0), (435, 0.004948758844695331), (436, 0.0), (437, 0.0), (438, 0.02106089397529018), (439, 0.009708462213207175), (440, 0.02053742679364936), (441, 0.0), (442, 0.005165236725477127), (443, 0.04388196926732592), (444, 0.0), (445, 0.0), (446, 0.0), (447, 0.0), (448, 0.0), (449, 0.0), (450, 0.0), (451, 0.005963738103986702), (452, 0.010984016854066823), (453, 0.008007572980627823), (454, 0.0), (455, 0.01906464140469999), (456, 0.0), (457, 0.02785323535076703), (458, 0.006907492196434795), (459, 0.0), (460, 0.024938015874012967), (461, 0.035121338230347104), (462, 0.0), (463, 0.009259525224364528), (464, 0.0), (465, 0.07682535043971123), (466, 0.0), (467, 0.014059734156416575), (468, 0.013292311172917383), (469, 0.011838517021732189), (470, 0.0), (471, 0.0), (472, 0.07675181774044477), (473, 0.0), (474, 0.0), (475, 0.0), (476, 0.0), (477, 0.030139611019486538), (478, 0.0), (479, 0.027731761709339296), (480, 0.0), (481, 0.0), (482, 0.0), (483, 0.010488052887677393), (484, 0.0), (485, 0.0), (486, 0.0), (487, 0.0), (488, 0.0), (489, 0.026171131513523873), (490, 0.0), (491, 0.02860347854106955), (492, 0.01500485541917414), (493, 0.0), (494, 0.0), (495, 0.005548438972049122), (496, 0.012497135315795924), (497, 0.03494190069210176), (498, 0.014381849925000582), (499, 0.0), (500, 0.005798274168682527), (501, 0.013163837525543627), (502, 0.0), (503, 0.0), (504, 0.0), (505, 0.0), (506, 0.0761506267255243), (507, 0.0), (508, 0.0), (509, 0.02557725145215129), (510, 0.0), (511, 0.009035954896563926), (512, 0.00692087540312736), (513, 0.00644179504688481), (514, 0.03666403489193011), (515, 0.030471682668197574), (516, 0.015951168224130646), (517, 0.0166187142655406), (518, 0.0), (519, 0.012786634177970439), (520, 0.0), (521, 0.0), (522, 0.05646243733845871), (523, 0.0), (524, 0.0), (525, 0.0), (526, 0.0), (527, 0.0), (528, 0.014413472205417034), (529, 0.0), (530, 0.0), (531, 0.0), (532, 0.0059314956544079915), (533, 0.006887729827024057), (534, 0.0065398662665528805), (535, 0.0), (536, 0.0), (537, 0.034700608622368394), (538, 0.0), (539, 0.014191878065259638), (540, 0.013500818081073033), (541, 0.0), (542, 0.0), (543, 0.0), (544, 0.05211005937636), (545, 0.01572013077742528), (546, 0.0170008974279894), (547, 0.0), (548, 0.005607370370995302), (549, 0.009704374194673085), (550, 0.015410759299529321), (551, 0.0), (552, 0.0), (553, 0.024129123180302987), (554, 0.015586987191269719), (555, 0.03433581303535), (556, 0.0), (557, 0.0), (558, 0.0), (559, 0.0), (560, 0.01661411161108973), (561, 0.011934607038457896), (562, 0.0), (563, 0.024827434001299463), (564, 0.0), (565, 0.19775179101686385), (566, 0.0), (567, 0.12547938024233674), (568, 0.013808850407377334), (569, 0.022555464102503888), (570, 0.018293264940089836), (571, 0.0), (572, 0.060906199431414225), (573, 0.010624776319841767), (574, 0.0), (575, 0.0), (576, 0.0), (577, 0.0), (578, 0.0), (579, 0.038691004996272114), (580, 0.0), (581, 0.0), (582, 0.0), (583, 0.0), (584, 0.0), (585, 0.0), (586, 0.0), (587, 0.0), (588, 0.0), (589, 0.0), (590, 0.0), (591, 0.06607365139335392), (592, 0.04204120902453751), (593, 0.023622172710774273), (594, 0.007672098074327612), (595, 0.00647572533682292), (596, 0.0), (597, 0.0), (598, 0.0), (599, 0.0337848240976477), (600, 0.024653862123090398), (601, 0.04543843392969971), (602, 0.04452486429189951), (603, 0.06329485105982395), (604, 0.009291036734889225), (605, 0.0), (606, 0.026490863757683517), (607, 0.0), (608, 0.01717785354335225), (609, 0.0), (610, 0.008198227970463103), (611, 0.0), (612, 0.0), (613, 0.023737866772156214), (614, 0.018329500718650554), (615, 0.11249373033698529), (616, 0.0), (617, 0.0), (618, 0.0), (619, 0.05706853638666706), (620, 0.009788723534627728), (621, 0.005155428522142879), (622, 0.0), (623, 0.0), (624, 0.0), (625, 0.022868427400505254), (626, 0.0), (627, 0.0), (628, 0.0), (629, 0.0), (630, 0.0), (631, 0.014717380141292376), (632, 0.005647946397876704), (633, 0.0), (634, 0.0), (635, 0.015612434194643705), (636, 0.0), (637, 0.0), (638, 0.0), (639, 0.012135870479928357), (640, 0.021497631878003517), (641, 0.006260796785349007), (642, 0.0), (643, 0.009800923320464915), (644, 0.006203817893816626), (645, 0.0), (646, 0.0), (647, 0.020457458403392217), (648, 0.0), (649, 0.0), (650, 0.0), (651, 0.0), (652, 0.0), (653, 0.01438604135177891), (654, 0.0), (655, 0.009673799897392869), (656, 0.044591463266235226), (657, 0.0), (658, 0.0), (659, 0.0), (660, 0.0), (661, 0.021229216144819475), (662, 0.026464479127139104), (663, 0.010806066274271685), (664, 0.0), (665, 0.0), (666, 0.1107639931300437), (667, 0.0), (668, 0.00486208102489236), (669, 0.005616930303437781), (670, 0.00730283512406846), (671, 0.02781876082968744), (672, 0.010856783261493511), (673, 0.006506934753140328), (674, 0.024351893027182187), (675, 0.0), (676, 0.0), (677, 0.0), (678, 0.0), (679, 0.0), (680, 0.0), (681, 0.04524031719422715), (682, 0.00686956102887588), (683, 0.0066701669444384415), (684, 0.004751170338637139), (685, 0.010502749777687373), (686, 0.020062847398271723), (687, 0.024826310042611568), (688, 0.006657661455286662), (689, 0.0), (690, 0.027637258814188513), (691, 0.0), (692, 0.012122898838659508), (693, 0.0), (694, 0.0), (695, 0.0), (696, 0.0), (697, 0.0), (698, 0.0), (699, 0.007270007749468757), (700, 0.037529297618078286), (701, 0.030277295711259193), (702, 0.009446339966339187), (703, 0.0), (704, 0.0), (705, 0.0), (706, 0.0), (707, 0.0), (708, 0.0), (709, 0.0), (710, 0.0579119460170613), (711, 0.0), (712, 0.0), (713, 0.015715520811307223), (714, 0.014367069183909665), (715, 0.015365092049293178), (716, 0.10783304703558136), (717, 0.0), (718, 0.0), (719, 0.0050871064240702564), (720, 0.008227629719138239), (721, 0.0), (722, 0.0), (723, 0.005177713940960053), (724, 0.01839698958912281), (725, 0.020905520759114143), (726, 0.00692442837538102), (727, 0.03239296693565211), (728, 0.035091253716546825), (729, 0.03599444884481053), (730, 0.0), (731, 0.0), (732, 0.0), (733, 0.022040693232327303), (734, 0.0), (735, 0.0), (736, 0.0), (737, 0.0), (738, 0.00497858021068397), (739, 0.011469069870845127), (740, 0.0), (741, 0.0), (742, 0.0), (743, 0.023585316530892388), (744, 0.0), (745, 0.030648512142502554), (746, 0.0), (747, 0.010612436560157886), (748, 0.0), (749, 0.0060781463085768945), (750, 0.025082817360709782), (751, 0.021054205841726924), (752, 0.0), (753, 0.006906339617935648), (754, 0.0), (755, 0.0), (756, 0.028528744408287898), (757, 0.0), (758, 0.02689894207365158), (759, 0.0), (760, 0.0), (761, 0.0), (762, 0.022006919915963985), (763, 0.014858389875717654), (764, 0.0), (765, 0.0), (766, 0.0), (767, 0.0), (768, 0.0), (769, 0.025183625463536155), (770, 0.0), (771, 0.0), (772, 0.0), (773, 0.0), (774, 0.0), (775, 0.006441308434843254), (776, 0.00912843202212561), (777, 0.05368624021348255), (778, 0.010219770491162534), (779, 0.005366343468080443), (780, 0.0), (781, 0.0), (782, 0.0), (783, 0.0), (784, 0.0), (785, 0.0), (786, 0.0), (787, 0.006458520346541171), (788, 0.028459890248515033), (789, 0.0), (790, 0.0), (791, 0.0), (792, 0.0), (793, 0.0146797805786456), (794, 0.0), (795, 0.007060277809195229), (796, 0.0), (797, 0.0), (798, 0.009799625317623425), (799, 0.0), (800, 0.00541621052992397), (801, 0.0), (802, 0.05689014907007563), (803, 0.005414251147513315), (804, 0.005544585466945867), (805, 0.009377333212672253), (806, 0.0), (807, 0.0), (808, 0.023835536615893875), (809, 0.006246248554083358), (810, 0.0), (811, 0.0), (812, 0.009348773469536446), (813, 0.0), (814, 0.0), (815, 0.0), (816, 0.0), (817, 0.08477376256304917), (818, 0.0), (819, 0.0), (820, 0.0), (821, 0.014210319751138623), (822, 0.0), (823, 0.0), (824, 0.0), (825, 0.006139140169250251), (826, 0.01529998906461947), (827, 0.005769613358472647), (828, 0.019609241657198833), (829, 0.009547883334654124), (830, 0.0), (831, 0.0), (832, 0.0), (833, 0.0), (834, 0.0), (835, 0.021419256653985846), (836, 0.0), (837, 0.0), (838, 0.0), (839, 0.0), (840, 0.0), (841, 0.0), (842, 0.016948896512862216), (843, 0.008551244393945459), (844, 0.0), (845, 0.006251603182386223), (846, 0.0), (847, 0.0), (848, 0.006477328224611071), (849, 0.0148660661661426), (850, 0.010237520749360749), (851, 0.005505142078024388), (852, 0.034116497410008564), (853, 0.0), (854, 0.0059055816548896686), (855, 0.0), (856, 0.01818686288729153), (857, 0.0), (858, 0.0), (859, 0.022165202116160992), (860, 0.03573547214234633), (861, 0.0), (862, 0.0), (863, 0.0), (864, 0.0), (865, 0.02863034856069565), (866, 0.005788233315580175), (867, 0.0), (868, 0.005749307018420313), (869, 0.006127828626213515), (870, 0.0), (871, 0.00845459344877232), (872, 0.025492504156348756), (873, 0.0), (874, 0.02881278168605512), (875, 0.01513825110118427), (876, 0.0), (877, 0.020623923200578577), (878, 0.005844079441542776), (879, 0.0), (880, 0.0), (881, 0.0), (882, 0.0), (883, 0.0), (884, 0.0), (885, 0.0), (886, 0.0), (887, 0.0), (888, 0.0), (889, 0.0), (890, 0.0), (891, 0.033225149793219916), (892, 0.0), (893, 0.07735095915640355), (894, 0.0), (895, 0.0), (896, 0.0), (897, 0.0), (898, 0.0), (899, 0.0), (900, 0.0), (901, 0.0), (902, 0.031688673001379314), (903, 0.019117943108856318), (904, 0.08033611923246894), (905, 0.06335554800512885), (906, 0.0), (907, 0.0), (908, 0.006289268080760194), (909, 0.008217048531388924), (910, 0.0), (911, 0.0134049638339125), (912, 0.008713558630991925), (913, 0.043735738880524205), (914, 0.02784471123018933), (915, 0.013531987240903348), (916, 0.0), (917, 0.0), (918, 0.04092236197290669), (919, 0.01563658833305989), (920, 0.028405207794852717), (921, 0.008242193406317051), (922, 0.0), (923, 0.0), (924, 0.0), (925, 0.0), (926, 0.006483524966246677), (927, 0.0), (928, 0.0062580418188777015), (929, 0.004686706900607496), (930, 0.0), (931, 0.0), (932, 0.022568206136130996), (933, 0.0), (934, 0.0), (935, 0.007909545930918261), (936, 0.016680005939895576), (937, 0.0), (938, 0.010182737007022885), (939, 0.0), (940, 0.034775740420496686), (941, 0.0), (942, 0.0), (943, 0.0), (944, 0.0), (945, 0.014030650483152479), (946, 0.014515193495879557), (947, 0.008742985460305937), (948, 0.0075165545454049885), (949, 0.011972528978580504), (950, 0.0), (951, 0.007438274098598242), (952, 0.026557310151905683), (953, 0.0), (954, 0.013654746534518751), (955, 0.0), (956, 0.015208157908856997), (957, 0.0), (958, 0.0), (959, 0.026593981729946935), (960, 0.0), (961, 0.011021605855038344), (962, 0.0), (963, 0.024501567047464777), (964, 0.0), (965, 0.01469008574638311), (966, 0.013986921378380097), (967, 0.0), (968, 0.0), (969, 0.010245925246147598), (970, 0.0), (971, 0.0), (972, 0.0), (973, 0.0), (974, 0.005747840099098966), (975, 0.0), (976, 0.0), (977, 0.05958171947909495), (978, 0.0), (979, 0.0), (980, 0.0), (981, 0.028357247561699564), (982, 0.0), (983, 0.010326980378033692), (984, 0.0), (985, 0.0), (986, 0.006489401822731936), (987, 0.04096487582667318), (988, 0.0), (989, 0.0), (990, 0.015120139564719921), (991, 0.0), (992, 0.017021024968416443), (993, 0.010279445016457917), (994, 0.006239678966699451), (995, 0.0), (996, 0.008419506828693048), (997, 0.028503675966976796), (998, 0.0), (999, 0.0), (1000, 0.005586075870345747), (1001, 0.013626047734571023), (1002, 0.0), (1003, 0.010687508779762104), (1004, 0.0), (1005, 0.01300002799741435), (1006, 0.0), (1007, 0.02446282343349478), (1008, 0.0), (1009, 0.0), (1010, 0.005116807873260191), (1011, 0.04341315432840921), (1012, 0.014059431046510636), (1013, 0.04716855233229825), (1014, 0.01818585350478874), (1015, 0.006325541477675022), (1016, 0.007322933091380684), (1017, 0.006103441233683854), (1018, 0.0), (1019, 0.010434876710887124), (1020, 0.0), (1021, 0.0), (1022, 0.01783473183010842), (1023, 0.006854022513905884), (1024, 0.0063544357594166245), (1025, 0.0), (1026, 0.0), (1027, 0.0), (1028, 0.010211388509975746), (1029, 0.009606764062831296), (1030, 0.0), (1031, 0.016608393215385292), (1032, 0.0), (1033, 0.0), (1034, 0.0), (1035, 0.0), (1036, 0.0), (1037, 0.0), (1038, 0.0), (1039, 0.01813953638565048), (1040, 0.0), (1041, 0.0), (1042, 0.0), (1043, 0.0), (1044, 0.00593233717528312), (1045, 0.014607593393096443), (1046, 0.013775676386996843), (1047, 0.02740797379518737), (1048, 0.0), (1049, 0.0), (1050, 0.007279453557295379), (1051, 0.009784946936993364), (1052, 0.0), (1053, 0.0), (1054, 0.005623787059547072), (1055, 0.009029481289495276), (1056, 0.03226013321132964), (1057, 0.026451122518008758), (1058, 0.0), (1059, 0.0), (1060, 0.0), (1061, 0.009620362329687817), (1062, 0.0), (1063, 0.005893118729523327), (1064, 0.0), (1065, 0.005679725046699386), (1066, 0.04047372540102975), (1067, 0.0075736797082678825), (1068, 0.0), (1069, 0.051457070659481484), (1070, 0.0), (1071, 0.0), (1072, 0.0), (1073, 0.02584634122784353), (1074, 0.10259860023036742), (1075, 0.0), (1076, 0.0056722983340947285), (1077, 0.010386873412741476), (1078, 0.0), (1079, 0.0075671991178755844), (1080, 0.0), (1081, 0.0), (1082, 0.029940134378510088), (1083, 0.026120404410138423), (1084, 0.0), (1085, 0.0), (1086, 0.0), (1087, 0.008063048324292416), (1088, 0.0), (1089, 0.0), (1090, 0.0), (1091, 0.034518869282364674), (1092, 0.02603578034342932), (1093, 0.0), (1094, 0.0), (1095, 0.008802368677041974), (1096, 0.005843124650749588), (1097, 0.026916558286790473), (1098, 0.0), (1099, 0.061619848880405365), (1100, 0.0), (1101, 0.010050574420058437), (1102, 0.0), (1103, 0.0), (1104, 0.0), (1105, 0.0), (1106, 0.0), (1107, 0.0), (1108, 0.0689445150574479), (1109, 0.0), (1110, 0.0), (1111, 0.11283278903432356), (1112, 0.0), (1113, 0.01381949142627055), (1114, 0.007532454632428713), (1115, 0.09726067366227513), (1116, 0.010725701504255194), (1117, 0.0), (1118, 0.0), (1119, 0.0), (1120, 0.008552325382451341), (1121, 0.0), (1122, 0.00627720991765944), (1123, 0.0), (1124, 0.0), (1125, 0.0), (1126, 0.0), (1127, 0.048855537721195316), (1128, 0.0), (1129, 0.015649846386780734), (1130, 0.0), (1131, 0.010478999037381942), (1132, 0.0), (1133, 0.0), (1134, 0.021444618864652085), (1135, 0.039575259388175646), (1136, 0.0), (1137, 0.04601082056190897), (1138, 0.05879020973202582), (1139, 0.02922563502972076), (1140, 0.02625965820958666), (1141, 0.006678247681158929), (1142, 0.0), (1143, 0.0), (1144, 0.0), (1145, 0.0), (1146, 0.025683537386859807), (1147, 0.0), (1148, 0.0), (1149, 0.0), (1150, 0.05322666576255695), (1151, 0.031099045891634078), (1152, 0.0), (1153, 0.004531783476539269), (1154, 0.024574400357185815), (1155, 0.0), (1156, 0.0), (1157, 0.0), (1158, 0.0), (1159, 0.0), (1160, 0.0), (1161, 0.0), (1162, 0.006674063251689802), (1163, 0.0), (1164, 0.027939184595571556), (1165, 0.008407626139716658), (1166, 0.0), (1167, 0.0), (1168, 0.0), (1169, 0.0), (1170, 0.0), (1171, 0.009034861410748555), (1172, 0.0), (1173, 0.01321426066632158), (1174, 0.006490499363688403), (1175, 0.0391817144608107), (1176, 0.0), (1177, 0.0), (1178, 0.0), (1179, 0.037545824561767686), (1180, 0.0), (1181, 0.0), (1182, 0.0), (1183, 0.005812443602063997), (1184, 0.0), (1185, 0.014700059355952668), (1186, 0.0), (1187, 0.0), (1188, 0.028862195997833663), (1189, 0.0), (1190, 0.026378294907037435), (1191, 0.0), (1192, 0.010424568737841786), (1193, 0.0), (1194, 0.007156292536966133), (1195, 0.04646911295433623), (1196, 0.0), (1197, 0.0), (1198, 0.008317566407391458), (1199, 0.0), (1200, 0.0), (1201, 0.0), (1202, 0.0), (1203, 0.0), (1204, 0.0), (1205, 0.0103066687035946), (1206, 0.015375446111667971), (1207, 0.013729266360074117), (1208, 0.0), (1209, 0.0), (1210, 0.010642361349856447), (1211, 0.0), (1212, 0.013652926599877147), (1213, 0.0), (1214, 0.005182772029519283), (1215, 0.0), (1216, 0.0), (1217, 0.0), (1218, 0.0), (1219, 0.007432164925224767), (1220, 0.0), (1221, 0.008673856076042229), (1222, 0.02256355209404657), (1223, 0.0), (1224, 0.02882475746443134), (1225, 0.015201575651509244), (1226, 0.00600266862512893), (1227, 0.0), (1228, 0.0), (1229, 0.006396894536193892), (1230, 0.03023149361299061), (1231, 0.026471079098359992), (1232, 0.0), (1233, 0.009948583391335836), (1234, 0.0), (1235, 0.0), (1236, 0.0), (1237, 0.0), (1238, 0.0), (1239, 0.0), (1240, 0.016042340507948956), (1241, 0.005255771408223664), (1242, 0.0074817160722779885), (1243, 0.0), (1244, 0.014657344024212371), (1245, 0.009542479629326367), (1246, 0.0), (1247, 0.0), (1248, 0.0), (1249, 0.008766695796443132), (1250, 0.010077846552849497), (1251, 0.0), (1252, 0.006158667687422976), (1253, 0.005902606135313745), (1254, 0.01499945732000065), (1255, 0.0), (1256, 0.009806597556789226), (1257, 0.005992145411490304), (1258, 0.0074080623084786705), (1259, 0.01516912832687595), (1260, 0.0), (1261, 0.0), (1262, 0.024708620799495876), (1263, 0.005924679815671976), (1264, 0.0), (1265, 0.027714919797348053), (1266, 0.023511076098979303), (1267, 0.0), (1268, 0.0), (1269, 0.024228494832090015), (1270, 0.0), (1271, 0.0), (1272, 0.00802926327159342), (1273, 0.013064247802182807), (1274, 0.005879571488295052), (1275, 0.011494313081083545), (1276, 0.004587440270020794), (1277, 0.013294846535744977), (1278, 0.02095262480083709), (1279, 0.0), (1280, 0.043154363993542846), (1281, 0.03718798259111116), (1282, 0.0), (1283, 0.007773445776178612), (1284, 0.02628584856594425), (1285, 0.04295039531963631), (1286, 0.0), (1287, 0.008184717505579657), (1288, 0.007362916003109141), (1289, 0.0), (1290, 0.005423587345878304), (1291, 0.009631065235810192), (1292, 0.03510067316035814), (1293, 0.06142593008107391), (1294, 0.0), (1295, 0.009424640129690588), (1296, 0.0218351956052218), (1297, 0.0), (1298, 0.0), (1299, 0.0), (1300, 0.0), (1301, 0.012282305223639394), (1302, 0.006113675108993114), (1303, 0.0), (1304, 0.01013610281263146), (1305, 0.0), (1306, 0.020085836399461092), (1307, 0.00780819345544154), (1308, 0.007632420752474426), (1309, 0.012302972759264973), (1310, 0.013268580894401642), (1311, 0.0), (1312, 0.07437536923082999), (1313, 0.0), (1314, 0.005735115799669293), (1315, 0.06474581861683265), (1316, 0.0), (1317, 0.0), (1318, 0.0), (1319, 0.0), (1320, 0.005032569826807924), (1321, 0.01604479204855307), (1322, 0.0), (1323, 0.0), (1324, 0.008646343124037746), (1325, 0.0), (1326, 0.011814552137232074), (1327, 0.007744237296379224), (1328, 0.015241731277983759), (1329, 0.010041062205284517), (1330, 0.0), (1331, 0.0), (1332, 0.006923569229921271), (1333, 0.008708557083422585), (1334, 0.0), (1335, 0.006217994735078277), (1336, 0.0283475418032797), (1337, 0.005981915825520476), (1338, 0.00606916101755472), (1339, 0.0), (1340, 0.0), (1341, 0.02856267190113064), (1342, 0.0), (1343, 0.05808416897678842), (1344, 0.0), (1345, 0.0), (1346, 0.01497557561926565), (1347, 0.0), (1348, 0.0054668485317274215), (1349, 0.0), (1350, 0.015221562251824984), (1351, 0.007531226610041154), (1352, 0.012722893114110696), (1353, 0.009922175776614238), (1354, 0.022016995205321098), (1355, 0.0), (1356, 0.0), (1357, 0.0056986665158428795), (1358, 0.03212753289789066), (1359, 0.0), (1360, 0.0), (1361, 0.010104971209014914), (1362, 0.0), (1363, 0.0), (1364, 0.0), (1365, 0.0), (1366, 0.03135031561982586), (1367, 0.0), (1368, 0.01353170344804587), (1369, 0.005079412565942612), (1370, 0.0), (1371, 0.0), (1372, 0.0), (1373, 0.03493943662506005), (1374, 0.016093226246618294), (1375, 0.0), (1376, 0.0), (1377, 0.005224739171504081), (1378, 0.0), (1379, 0.02125603489194277), (1380, 0.014895739903488466), (1381, 0.04572682818978162), (1382, 0.0), (1383, 0.0), (1384, 0.005520151316923085), (1385, 0.013603262279941783), (1386, 0.044833980445948635), (1387, 0.012646504543063855), (1388, 0.008696130283836758), (1389, 0.008541893601105358), (1390, 0.0), (1391, 0.0), (1392, 0.0), (1393, 0.006480753876615397), (1394, 0.0), (1395, 0.0), (1396, 0.024585026647153257), (1397, 0.007447713289826932), (1398, 0.016474120272749297), (1399, 0.0), (1400, 0.0), (1401, 0.008517059458379522), (1402, 0.0), (1403, 0.0), (1404, 0.0), (1405, 0.0), (1406, 0.006045235170295794), (1407, 0.028271573938693794), (1408, 0.015980515875162287), (1409, 0.0), (1410, 0.0), (1411, 0.0), (1412, 0.013419810887746651), (1413, 0.016338375417673717), (1414, 0.0), (1415, 0.0), (1416, 0.0), (1417, 0.004799149881238716), (1418, 0.011212695288772924), (1419, 0.1403302302724759), (1420, 0.0), (1421, 0.0), (1422, 0.0), (1423, 0.0), (1424, 0.0), (1425, 0.0), (1426, 0.0), (1427, 0.0), (1428, 0.0), (1429, 0.0), (1430, 0.0), (1431, 0.0), (1432, 0.006501039360028748), (1433, 0.13035364260959392), (1434, 0.0), (1435, 0.0), (1436, 0.014539110800045137), (1437, 0.01659101668973379), (1438, 0.0), (1439, 0.0), (1440, 0.014400114300538398), (1441, 0.0), (1442, 0.005976238130175607), (1443, 0.016768932469651106), (1444, 0.0), (1445, 0.03301672966144322), (1446, 0.0), (1447, 0.0), (1448, 0.0), (1449, 0.0), (1450, 0.0), (1451, 0.0), (1452, 0.0), (1453, 0.0), (1454, 0.035430069817546775), (1455, 0.006076973150378667), (1456, 0.01874444742448251), (1457, 0.0), (1458, 0.02179350344199558), (1459, 0.00823302917757046), (1460, 0.016198634806465266), (1461, 0.0), (1462, 0.0), (1463, 0.023823759374244868), (1464, 0.0), (1465, 0.0), (1466, 0.016427541825535213), (1467, 0.020478289216958736), (1468, 0.02235390635361898), (1469, 0.031976026548127444), (1470, 0.00863394705133759), (1471, 0.007824573265352434), (1472, 0.022288457390176052), (1473, 0.03945884599947063), (1474, 0.06755839497513619), (1475, 0.008487650331458197), (1476, 0.0), (1477, 0.03365962735935028), (1478, 0.027200900746309164), (1479, 0.0), (1480, 0.0), (1481, 0.0), (1482, 0.0), (1483, 0.0059861531285419515), (1484, 0.00624685961014611), (1485, 0.0), (1486, 0.017441213883908326), (1487, 0.009599062265664213), (1488, 0.0), (1489, 0.0), (1490, 0.00797016474155543), (1491, 0.0), (1492, 0.0), (1493, 0.0), (1494, 0.0), (1495, 0.019635384242718087), (1496, 0.0), (1497, 0.0), (1498, 0.0), (1499, 0.034513028073478585), (1500, 0.0), (1501, 0.0), (1502, 0.042724442363342115), (1503, 0.0), (1504, 0.00621837940216048), (1505, 0.09597018067214938), (1506, 0.0070375318843318175), (1507, 0.0), (1508, 0.0), (1509, 0.0), (1510, 0.042106162934573574), (1511, 0.0065951397653931125), (1512, 0.12787472464606728), (1513, 0.006542171385896946), (1514, 0.007727025676536752), (1515, 0.023865103948420917), (1516, 0.0063905532609138125), (1517, 0.0), (1518, 0.0), (1519, 0.0), (1520, 0.0), (1521, 0.007544497492559051), (1522, 0.014414381663109255), (1523, 0.0), (1524, 0.0), (1525, 0.0), (1526, 0.0), (1527, 0.0059818922779505575), (1528, 0.0), (1529, 0.007550641871848265), (1530, 0.026551221435358274), (1531, 0.0), (1532, 0.0), (1533, 0.0), (1534, 0.0), (1535, 0.022142792937466335), (1536, 0.03155017147373364), (1537, 0.006526059744295197), (1538, 0.0), (1539, 0.0), (1540, 0.00710547612689261), (1541, 0.0), (1542, 0.0), (1543, 0.0), (1544, 0.0058714432532139), (1545, 0.005846922953757304), (1546, 0.014248254591763227), (1547, 0.016699419175499393), (1548, 0.0), (1549, 0.0), (1550, 0.0), (1551, 0.0), (1552, 0.005913797828833916), (1553, 0.0), (1554, 0.042902698117244294), (1555, 0.0), (1556, 0.0), (1557, 0.0), (1558, 0.0), (1559, 0.0), (1560, 0.006912399024626271), (1561, 0.0), (1562, 0.0), (1563, 0.0), (1564, 0.006437913460601145), (1565, 0.0), (1566, 0.032824618565918576), (1567, 0.012958214670143114), (1568, 0.0), (1569, 0.0), (1570, 0.015326386337829935), (1571, 0.00911391321628745), (1572, 0.014981301246140222), (1573, 0.0), (1574, 0.0), (1575, 0.026701646791700673), (1576, 0.023679612164081532), (1577, 0.014737451036569354), (1578, 0.027777119036826448), (1579, 0.22544375483697882), (1580, 0.0), (1581, 0.015772427345567015), (1582, 0.0), (1583, 0.0), (1584, 0.008990648607036342), (1585, 0.0), (1586, 0.0), (1587, 0.014974540148391793), (1588, 0.0), (1589, 0.027315304521283435), (1590, 0.017638979610756226), (1591, 0.006856036333125771), (1592, 0.038099989547759984), (1593, 0.0), (1594, 0.0), (1595, 0.0), (1596, 0.0), (1597, 0.0), (1598, 0.007994664876958631), (1599, 0.006268667323294193), (1600, 0.017129290434151193), (1601, 0.009206650115337845), (1602, 0.0), (1603, 0.11117449187226255), (1604, 0.014103563379466468), (1605, 0.0), (1606, 0.009396494001854199), (1607, 0.007826042692795491), (1608, 0.023810423561485224), (1609, 0.0), (1610, 0.0), (1611, 0.014250204711960812), (1612, 0.0), (1613, 0.026053315173365333), (1614, 0.0), (1615, 0.0), (1616, 0.0), (1617, 0.026380804179034902), (1618, 0.023068648162864015), (1619, 0.0), (1620, 0.0), (1621, 0.0), (1622, 0.0), (1623, 0.0), (1624, 0.008605163127337305), (1625, 0.0), (1626, 0.0), (1627, 0.005537878534564394), (1628, 0.0), (1629, 0.0), (1630, 0.0), (1631, 0.0), (1632, 0.0), (1633, 0.0), (1634, 0.0), (1635, 0.0), (1636, 0.0), (1637, 0.0), (1638, 0.0), (1639, 0.0), (1640, 0.009233567870462712), (1641, 0.0), (1642, 0.0), (1643, 0.028175064923423764), (1644, 0.0), (1645, 0.02474764097262468), (1646, 0.0), (1647, 0.0), (1648, 0.0), (1649, 0.13488282895164547), (1650, 0.024353402971097858), (1651, 0.04453032677132161), (1652, 0.0), (1653, 0.03127467690627078), (1654, 0.0), (1655, 0.0), (1656, 0.0), (1657, 0.01541643214828414), (1658, 0.0), (1659, 0.00648758468869979), (1660, 0.0), (1661, 0.0), (1662, 0.023613363359690057), (1663, 0.0), (1664, 0.026523481225733433), (1665, 0.005839938852127193), (1666, 0.0), (1667, 0.0), (1668, 0.0), (1669, 0.0), (1670, 0.0), (1671, 0.0), (1672, 0.0), (1673, 0.0), (1674, 0.0), (1675, 0.013107249811228922), (1676, 0.0), (1677, 0.016306612293899923), (1678, 0.006107619774626286), (1679, 0.0), (1680, 0.005677691390102295), (1681, 0.0068466224555306), (1682, 0.0), (1683, 0.0), (1684, 0.0), (1685, 0.0), (1686, 0.0), (1687, 0.006564262328109692), (1688, 0.0), (1689, 0.0), (1690, 0.0), (1691, 0.0), (1692, 0.0), (1693, 0.0), (1694, 0.0), (1695, 0.0), (1696, 0.05238566652167864), (1697, 0.016854042548634162), (1698, 0.01982765045271637), (1699, 0.0), (1700, 0.016345083508315542), (1701, 0.019872850710639656), (1702, 0.0), (1703, 0.0), (1704, 0.0), (1705, 0.015504737582853825), (1706, 0.008098161929744592), (1707, 0.00873524580946501), (1708, 0.006989468751945818), (1709, 0.012018438134895247), (1710, 0.0), (1711, 0.03324628600513855), (1712, 0.0), (1713, 0.016691525471201958), (1714, 0.005632947767955424), (1715, 0.02480407427597368), (1716, 0.027733561321915585), (1717, 0.0), (1718, 0.0), (1719, 0.0), (1720, 0.0), (1721, 0.0059593518196307226), (1722, 0.0), (1723, 0.0), (1724, 0.0), (1725, 0.03086134060924556), (1726, 0.0), (1727, 0.05876646570836946), (1728, 0.005050403952448606), (1729, 0.0), (1730, 0.0), (1731, 0.008704002346797484), (1732, 0.006447106130658902), (1733, 0.02484203993816807), (1734, 0.006376308952119902), (1735, 0.006431151807258101), (1736, 0.006528611382776341), (1737, 0.0), (1738, 0.00804162026611849), (1739, 0.0), (1740, 0.006130024112359209), (1741, 0.0), (1742, 0.0), (1743, 0.0), (1744, 0.0), (1745, 0.02128985624975515), (1746, 0.0), (1747, 0.0), (1748, 0.0), (1749, 0.005945304962091339), (1750, 0.009559947325350468), (1751, 0.0), (1752, 0.0), (1753, 0.0), (1754, 0.0), (1755, 0.0), (1756, 0.009317935587487636), (1757, 0.0), (1758, 0.009274930374975801), (1759, 0.0), (1760, 0.0), (1761, 0.0), (1762, 0.0), (1763, 0.0), (1764, 0.03687489841313122), (1765, 0.0), (1766, 0.0), (1767, 0.0), (1768, 0.0), (1769, 0.0), (1770, 0.0), (1771, 0.0), (1772, 0.03542359310282414), (1773, 0.0), (1774, 0.0), (1775, 0.022815872111376548), (1776, 0.0461581534747464), (1777, 0.0), (1778, 0.0), (1779, 0.0), (1780, 0.0), (1781, 0.005117504954317058), (1782, 0.009900502724903571), (1783, 0.009786613114318315), (1784, 0.0), (1785, 0.0), (1786, 0.0), (1787, 0.021030504617601687), (1788, 0.021068639310961236), (1789, 0.01362445991620265), (1790, 0.0), (1791, 0.023234382818807436), (1792, 0.0), (1793, 0.0), (1794, 0.0), (1795, 0.0), (1796, 0.005817041983708299), (1797, 0.01341962670136355), (1798, 0.0245431569530923), (1799, 0.0348464963139966), (1800, 0.0217636399713943), (1801, 0.0), (1802, 0.020560582162679975), (1803, 0.0), (1804, 0.0), (1805, 0.01678763502910532), (1806, 0.0), (1807, 0.0), (1808, 0.0), (1809, 0.012915393003860316), (1810, 0.01968745351667442), (1811, 0.0), (1812, 0.015507793986154327), (1813, 0.0), (1814, 0.0), (1815, 0.0069959348275646744), (1816, 0.0), (1817, 0.0), (1818, 0.005712053393586298), (1819, 0.0), (1820, 0.0), (1821, 0.0), (1822, 0.0066554445787353565), (1823, 0.0), (1824, 0.0), (1825, 0.0), (1826, 0.0), (1827, 0.0), (1828, 0.005209335432925063), (1829, 0.0), (1830, 0.0), (1831, 0.0), (1832, 0.0), (1833, 0.007650603670555804), (1834, 0.0), (1835, 0.0), (1836, 0.011011506718917603), (1837, 0.022942011402524026), (1838, 0.009055942880566086), (1839, 0.0), (1840, 0.0), (1841, 0.04433863859780274), (1842, 0.0), (1843, 0.0), (1844, 0.00877856214067571), (1845, 0.0), (1846, 0.014050564629901105), (1847, 0.006220954493422834), (1848, 0.02966981233470786), (1849, 0.0), (1850, 0.00719758950994684), (1851, 0.0), (1852, 0.02664648392357378), (1853, 0.006402806272795079), (1854, 0.0), (1855, 0.033522424618863754), (1856, 0.0), (1857, 0.0), (1858, 0.029142554217872353), (1859, 0.0), (1860, 0.0), (1861, 0.0), (1862, 0.0), (1863, 0.0), (1864, 0.024135295345198628), (1865, 0.018657187234009373), (1866, 0.0), (1867, 0.08202470671652756), (1868, 0.0), (1869, 0.0), (1870, 0.005486819491208147), (1871, 0.0), (1872, 0.0), (1873, 0.042495201116104046), (1874, 0.0), (1875, 0.0), (1876, 0.030141884833568684), (1877, 0.0), (1878, 0.0), (1879, 0.0), (1880, 0.0), (1881, 0.006215609526309053), (1882, 0.0), (1883, 0.01491062044020264), (1884, 0.0), (1885, 0.0), (1886, 0.020161354925268344), (1887, 0.030768094311385778), (1888, 0.0), (1889, 0.008416422894576923), (1890, 0.0), (1891, 0.0), (1892, 0.0), (1893, 0.0), (1894, 0.006625470392021565), (1895, 0.023004208848490797), (1896, 0.0), (1897, 0.0), (1898, 0.013571607395195098), (1899, 0.0), (1900, 0.0), (1901, 0.014844683613814403), (1902, 0.0), (1903, 0.04460400342860235), (1904, 0.04313467417845314), (1905, 0.0), (1906, 0.0), (1907, 0.0), (1908, 0.018439872897079424), (1909, 0.0), (1910, 0.0), (1911, 0.04519229618246137), (1912, 0.022161068672295867), (1913, 0.0), (1914, 0.0), (1915, 0.0), (1916, 0.0), (1917, 0.0), (1918, 0.0), (1919, 0.007118315167686867), (1920, 0.0), (1921, 0.0), (1922, 0.0), (1923, 0.011239938418688724), (1924, 0.011397568661268386), (1925, 0.045050013108443775), (1926, 0.0088757496958919), (1927, 0.0), (1928, 0.0112916973693444), (1929, 0.0), (1930, 0.0), (1931, 0.01461806731387403), (1932, 0.008719508718902364), (1933, 0.0), (1934, 0.029387036108721287), (1935, 0.0), (1936, 0.014420541670301379), (1937, 0.0060028512649475604), (1938, 0.0), (1939, 0.018552583512593084), (1940, 0.04914565037831362), (1941, 0.00702879447244885), (1942, 0.0), (1943, 0.0), (1944, 0.0), (1945, 0.006145143132029523), (1946, 0.0), (1947, 0.0), (1948, 0.017148054380676805), (1949, 0.006324424234518063), (1950, 0.00860108794401865), (1951, 0.0), (1952, 0.0), (1953, 0.0), (1954, 0.0), (1955, 0.008781183228290147), (1956, 0.0), (1957, 0.0), (1958, 0.0), (1959, 0.0), (1960, 0.0), (1961, 0.008300938678962661), (1962, 0.0), (1963, 0.0), (1964, 0.009250654060277601), (1965, 0.008406380652628484), (1966, 0.00967361982428435), (1967, 0.0), (1968, 0.006801919457833198), (1969, 0.0), (1970, 0.0), (1971, 0.014573608658041318), (1972, 0.0), (1973, 0.015506579449893193), (1974, 0.020917116252154394), (1975, 0.0), (1976, 0.034052304244097345), (1977, 0.005438741780163687), (1978, 0.0), (1979, 0.0), (1980, 0.0), (1981, 0.0), (1982, 0.030826718309399793), (1983, 0.010393513908178177), (1984, 0.009623223709997696), (1985, 0.006186342246900102), (1986, 0.0), (1987, 0.012959437724452232), (1988, 0.0), (1989, 0.006659355426277295), (1990, 0.0), (1991, 0.009756001695646482), (1992, 0.0), (1993, 0.0), (1994, 0.0), (1995, 0.0), (1996, 0.0), (1997, 0.0), (1998, 0.010421856762131872), (1999, 0.1329207987888394), (2000, 0.0), (2001, 0.0), (2002, 0.0), (2003, 0.0), (2004, 0.0), (2005, 0.0), (2006, 0.007061732692411704), (2007, 0.0), (2008, 0.0), (2009, 0.0), (2010, 0.011801207147544037), (2011, 0.0), (2012, 0.006789286196353345), (2013, 0.0196649102665526), (2014, 0.013844676688294423), (2015, 0.01510851998862893), (2016, 0.015185671870629535), (2017, 0.0), (2018, 0.008263010064650607), (2019, 0.03040010895699604), (2020, 0.0), (2021, 0.01738848520597562), (2022, 0.050665502798273775), (2023, 0.0), (2024, 0.006023078653460216), (2025, 0.02434338247516054), (2026, 0.0), (2027, 0.0), (2028, 0.0), (2029, 0.0), (2030, 0.02389553491603614), (2031, 0.02491101439784841), (2032, 0.0), (2033, 0.005425879071092714), (2034, 0.006980465468977948), (2035, 0.0), (2036, 0.0), (2037, 0.028598989193986454), (2038, 0.018320749930643334), (2039, 0.0), (2040, 0.006566755493792072), (2041, 0.0), (2042, 0.0), (2043, 0.0), (2044, 0.006467269329250512), (2045, 0.014218530151007169), (2046, 0.0), (2047, 0.0), (2048, 0.008663548939719138), (2049, 0.0), (2050, 0.007880128271829793), (2051, 0.011836112171107124), (2052, 0.00599024905413291), (2053, 0.0), (2054, 0.0), (2055, 0.027774997329929753), (2056, 0.0), (2057, 0.0), (2058, 0.01440555042499174), (2059, 0.0), (2060, 0.0), (2061, 0.015762312834584524), (2062, 0.04517168971501498), (2063, 0.0), (2064, 0.0), (2065, 0.012629331961845163), (2066, 0.01583694154479809), (2067, 0.015146742119377988), (2068, 0.0), (2069, 0.0), (2070, 0.0), (2071, 0.0), (2072, 0.0), (2073, 0.0), (2074, 0.00915700972254917), (2075, 0.01818771240420855), (2076, 0.0), (2077, 0.007296520945568245), (2078, 0.012857380058246834), (2079, 0.0), (2080, 0.0), (2081, 0.0063205399856922344), (2082, 0.006837562440333996), (2083, 0.006356164534414719), (2084, 0.0), (2085, 0.006478921004449443), (2086, 0.010432608318682882), (2087, 0.0), (2088, 0.03515699272829678), (2089, 0.0), (2090, 0.010238014591930005), (2091, 0.03267824798375944), (2092, 0.0), (2093, 0.013449442925851984), (2094, 0.005714221906007141), (2095, 0.01578520785355291), (2096, 0.0), (2097, 0.0), (2098, 0.0), (2099, 0.0), (2100, 0.009745552799602578), (2101, 0.0678932610832632), (2102, 0.0), (2103, 0.013930290222922779), (2104, 0.0), (2105, 0.0), (2106, 0.0), (2107, 0.025937631679043345), (2108, 0.0), (2109, 0.0), (2110, 0.0), (2111, 0.0), (2112, 0.0), (2113, 0.005176355794449309), (2114, 0.013560751740478875), (2115, 0.0), (2116, 0.0), (2117, 0.023553768207744064), (2118, 0.0), (2119, 0.0), (2120, 0.0), (2121, 0.0), (2122, 0.0), (2123, 0.0), (2124, 0.006286119821460358), (2125, 0.024535737834885555), (2126, 0.0), (2127, 0.006966105389507993), (2128, 0.010035369196832181), (2129, 0.0), (2130, 0.0), (2131, 0.026337360359550123), (2132, 0.0), (2133, 0.0), (2134, 0.0), (2135, 0.0), (2136, 0.04210000743449556), (2137, 0.0), (2138, 0.0), (2139, 0.0134904691189001), (2140, 0.0), (2141, 0.0), (2142, 0.0), (2143, 0.0), (2144, 0.0), (2145, 0.009406860290074651), (2146, 0.0), (2147, 0.0), (2148, 0.0), (2149, 0.0), (2150, 0.035126169218971194), (2151, 0.0), (2152, 0.0), (2153, 0.014072223889988767), (2154, 0.03298188339050341), (2155, 0.0), (2156, 0.0), (2157, 0.0), (2158, 0.030300439722080658), (2159, 0.0), (2160, 0.0), (2161, 0.03496665229887304), (2162, 0.0), (2163, 0.0), (2164, 0.01630999272676143), (2165, 0.0), (2166, 0.005839996023615993), (2167, 0.0), (2168, 0.009171257206022406), (2169, 0.01030863561811029), (2170, 0.0), (2171, 0.0), (2172, 0.0), (2173, 0.0), (2174, 0.0), (2175, 0.0), (2176, 0.030260845021042183), (2177, 0.015499321553270856), (2178, 0.030857334826339698), (2179, 0.0), (2180, 0.01805259124901077), (2181, 0.0), (2182, 0.028651274571941825), (2183, 0.0076581221541328695), (2184, 0.005885750210907881), (2185, 0.012913338790528547), (2186, 0.0), (2187, 0.0351142271064613), (2188, 0.007163929019062177), (2189, 0.0), (2190, 0.0), (2191, 0.0), (2192, 0.0), (2193, 0.0), (2194, 0.0), (2195, 0.0), (2196, 0.0), (2197, 0.005201760401704778), (2198, 0.01649213618200687), (2199, 0.0), (2200, 0.0), (2201, 0.0), (2202, 0.019976036553753927), (2203, 0.0), (2204, 0.0), (2205, 0.1183920730467689), (2206, 0.00590884534643764), (2207, 0.0), (2208, 0.014945845791853145), (2209, 0.025276540756994818), (2210, 0.005965500106469202), (2211, 0.0), (2212, 0.006114246968030345), (2213, 0.0), (2214, 0.0), (2215, 0.0), (2216, 0.022054869673683333), (2217, 0.0162408861125783), (2218, 0.024304647512014096), (2219, 0.022008407694038938), (2220, 0.0), (2221, 0.02103925733720812), (2222, 0.0), (2223, 0.0338745016901054), (2224, 0.005662740758356035), (2225, 0.0), (2226, 0.010188395412838253), (2227, 0.005400068637148873), (2228, 0.0), (2229, 0.0), (2230, 0.0), (2231, 0.029627749135604717), (2232, 0.015513676980924315), (2233, 0.0329042029903707), (2234, 0.0), (2235, 0.0), (2236, 0.0), (2237, 0.012486586686152153), (2238, 0.0), (2239, 0.0060015823813790985), (2240, 0.0), (2241, 0.0), (2242, 0.0), (2243, 0.006643841605434085), (2244, 0.0), (2245, 0.0), (2246, 0.01048455222862761), (2247, 0.0), (2248, 0.0), (2249, 0.00846604024279896), (2250, 0.0), (2251, 0.0), (2252, 0.0), (2253, 0.0), (2254, 0.0), (2255, 0.0), (2256, 0.02123176650955892), (2257, 0.0), (2258, 0.0), (2259, 0.017580137816823393), (2260, 0.0), (2261, 0.0), (2262, 0.0), (2263, 0.0), (2264, 0.0), (2265, 0.009037159819726172), (2266, 0.0), (2267, 0.0), (2268, 0.0), (2269, 0.02903693664285807), (2270, 0.0), (2271, 0.009899565063468237), (2272, 0.0), (2273, 0.0), (2274, 0.005478113246856092), (2275, 0.008141138476455465), (2276, 0.006061098644189673), (2277, 0.025189337672562075), (2278, 0.025891120651629573), (2279, 0.0), (2280, 0.024848692557720237), (2281, 0.0), (2282, 0.0), (2283, 0.03472062772985892), (2284, 0.0), (2285, 0.014740767247066027), (2286, 0.01212229996205287), (2287, 0.015130971737669573), (2288, 0.0), (2289, 0.0), (2290, 0.0), (2291, 0.0), (2292, 0.0), (2293, 0.0), (2294, 0.014350995425281659), (2295, 0.0), (2296, 0.01184065494577419), (2297, 0.010338084149443162), (2298, 0.013961023277342211), (2299, 0.0), (2300, 0.0), (2301, 0.0), (2302, 0.0), (2303, 0.0), (2304, 0.0), (2305, 0.0), (2306, 0.05207987766714853), (2307, 0.0), (2308, 0.0), (2309, 0.010853679499242744), (2310, 0.0), (2311, 0.0), (2312, 0.0), (2313, 0.0), (2314, 0.0), (2315, 0.005564819773917204), (2316, 0.05193303149973811), (2317, 0.0), (2318, 0.0), (2319, 0.0), (2320, 0.0), (2321, 0.02733348596938453), (2322, 0.0), (2323, 0.0), (2324, 0.011049314195254612), (2325, 0.0), (2326, 0.021355871042653518), (2327, 0.0), (2328, 0.0), (2329, 0.0), (2330, 0.04115964350088036), (2331, 0.0), (2332, 0.0), (2333, 0.0), (2334, 0.0), (2335, 0.0), (2336, 0.0), (2337, 0.019274633656218905), (2338, 0.02449667929908308), (2339, 0.0), (2340, 0.031893766929187474), (2341, 0.0), (2342, 0.0), (2343, 0.0), (2344, 0.0), (2345, 0.0), (2346, 0.0), (2347, 0.0), (2348, 0.0), (2349, 0.0), (2350, 0.0), (2351, 0.03186406325911623), (2352, 0.00725307677002708), (2353, 0.014746714077617747), (2354, 0.0), (2355, 0.021794211470340694), (2356, 0.01584698911970357), (2357, 0.046865377868048744), (2358, 0.0), (2359, 0.019295467892462777), (2360, 0.0), (2361, 0.006659316667859956), (2362, 0.0), (2363, 0.007738878338548205), (2364, 0.006947423572113583), (2365, 0.0), (2366, 0.0), (2367, 0.0), (2368, 0.0), (2369, 0.0), (2370, 0.0), (2371, 0.03005294926852789), (2372, 0.0), (2373, 0.0), (2374, 0.0), (2375, 0.0), (2376, 0.0), (2377, 0.00850230095912074), (2378, 0.007413230484791719), (2379, 0.0), (2380, 0.0), (2381, 0.015858296683582022), (2382, 0.0), (2383, 0.006691143899927959), (2384, 0.0), (2385, 0.0), (2386, 0.0), (2387, 0.0), (2388, 0.0), (2389, 0.037573141946690286), (2390, 0.0), (2391, 0.0), (2392, 0.0), (2393, 0.0), (2394, 0.0), (2395, 0.0), (2396, 0.0), (2397, 0.0), (2398, 0.0), (2399, 0.005578381939547899), (2400, 0.0), (2401, 0.0), (2402, 0.0), (2403, 0.011780605865623803), (2404, 0.0), (2405, 0.0), (2406, 0.0), (2407, 0.0), (2408, 0.0), (2409, 0.0), (2410, 0.0), (2411, 0.0), (2412, 0.005255507076224097), (2413, 0.025356003672898555), (2414, 0.0), (2415, 0.007745418200771389), (2416, 0.010526578874822825), (2417, 0.0), (2418, 0.011153104607776618), (2419, 0.0), (2420, 0.0), (2421, 0.07326875847475736), (2422, 0.0), (2423, 0.0), (2424, 0.00571836954228228), (2425, 0.0), (2426, 0.013048538432349856), (2427, 0.016741491944477445), (2428, 0.017083365524098948), (2429, 0.005843497422514229), (2430, 0.0), (2431, 0.03196770618885724), (2432, 0.03051823038952135), (2433, 0.013007903133331937), (2434, 0.0), (2435, 0.0), (2436, 0.011308654969899475), (2437, 0.0), (2438, 0.0), (2439, 0.028022789662879015), (2440, 0.0), (2441, 0.008513725220500657), (2442, 0.0628109863742741), (2443, 0.017164950877800216), (2444, 0.01472798571444368), (2445, 0.0), (2446, 0.0), (2447, 0.023499659818680067), (2448, 0.013160138545168749), (2449, 0.0), (2450, 0.033023998410252865), (2451, 0.019224933688493543), (2452, 0.02520731475011134), (2453, 0.0), (2454, 0.0), (2455, 0.0), (2456, 0.0), (2457, 0.0), (2458, 0.0), (2459, 0.007105442498750439), (2460, 0.023382199921354138), (2461, 0.0), (2462, 0.0), (2463, 0.0), (2464, 0.0), (2465, 0.0), (2466, 0.0), (2467, 0.0), (2468, 0.05741786310953013), (2469, 0.0), (2470, 0.0), (2471, 0.026038790704805095), (2472, 0.017211639052022634), (2473, 0.007865053879493862), (2474, 0.023022482329918454), (2475, 0.0), (2476, 0.006921980824644092), (2477, 0.0), (2478, 0.0), (2479, 0.028680097751009073), (2480, 0.0), (2481, 0.0), (2482, 0.0), (2483, 0.0), (2484, 0.012894303387488282), (2485, 0.0), (2486, 0.0), (2487, 0.0), (2488, 0.0), (2489, 0.0), (2490, 0.0), (2491, 0.02097009021306215), (2492, 0.0), (2493, 0.017897917373816706), (2494, 0.0), (2495, 0.0), (2496, 0.00956210338747565), (2497, 0.0), (2498, 0.0), (2499, 0.0), (2500, 0.034888704545826175), (2501, 0.04009019903693814), (2502, 0.0), (2503, 0.0), (2504, 0.008519689575141414), (2505, 0.0), (2506, 0.015333768337581918), (2507, 0.0457428213790186), (2508, 0.0), (2509, 0.0), (2510, 0.0), (2511, 0.032479082792528424), (2512, 0.0), (2513, 0.005669898833105025), (2514, 0.0), (2515, 0.0), (2516, 0.0), (2517, 0.029835830400821862), (2518, 0.0), (2519, 0.0), (2520, 0.0), (2521, 0.020441285098244708), (2522, 0.01540459171401451), (2523, 0.035468817559355964), (2524, 0.0), (2525, 0.0), (2526, 0.0), (2527, 0.023977543657603344), (2528, 0.0), (2529, 0.0), (2530, 0.03027593905091759), (2531, 0.0), (2532, 0.009545817806243298), (2533, 0.0), (2534, 0.004746598745246388), (2535, 0.03180911434672793), (2536, 0.0), (2537, 0.0), (2538, 0.0), (2539, 0.022525713238814048), (2540, 0.005883488148911352), (2541, 0.0), (2542, 0.009628044714807013), (2543, 0.0), (2544, 0.02877775905643538), (2545, 0.0), (2546, 0.0), (2547, 0.0), (2548, 0.0), (2549, 0.014333056799604232), (2550, 0.0), (2551, 0.0), (2552, 0.0), (2553, 0.0), (2554, 0.014839010660626954), (2555, 0.015651905927176205), (2556, 0.0), (2557, 0.0), (2558, 0.0), (2559, 0.018822837046399525), (2560, 0.0), (2561, 0.0), (2562, 0.006201257130045343), (2563, 0.0), (2564, 0.0), (2565, 0.0), (2566, 0.0), (2567, 0.017224617666004916), (2568, 0.0), (2569, 0.008427301380633398), (2570, 0.0), (2571, 0.0246291729110998), (2572, 0.0), (2573, 0.013305182924197339), (2574, 0.015707948038067913), (2575, 0.0), (2576, 0.006829205768337155), (2577, 0.0), (2578, 0.009388400340221235), (2579, 0.011392122503668773), (2580, 0.0), (2581, 0.007375274745064242), (2582, 0.010531926290501826), (2583, 0.0), (2584, 0.013160498443963916), (2585, 0.0), (2586, 0.0), (2587, 0.0), (2588, 0.02858893612156315), (2589, 0.0), (2590, 0.007981726594786704), (2591, 0.0), (2592, 0.0), (2593, 0.0), (2594, 0.0), (2595, 0.029361006718018574), (2596, 0.0), (2597, 0.0), (2598, 0.019189521579312335), (2599, 0.027600889574698487), (2600, 0.007945416981390781), (2601, 0.0), (2602, 0.0), (2603, 0.0), (2604, 0.0), (2605, 0.018951978675826014), (2606, 0.0), (2607, 0.0), (2608, 0.0), (2609, 0.04088632234106935), (2610, 0.0), (2611, 0.0), (2612, 0.02650021083780654), (2613, 0.0), (2614, 0.0), (2615, 0.0074613178078786965), (2616, 0.02387183912974364), (2617, 0.0), (2618, 0.024250026884014515), (2619, 0.012218950390249608), (2620, 0.0), (2621, 0.0), (2622, 0.013448304510339749), (2623, 0.0), (2624, 0.0), (2625, 0.00699766014508231), (2626, 0.00654008868799442), (2627, 0.0), (2628, 0.0), (2629, 0.0), (2630, 0.0), (2631, 0.0), (2632, 0.022833969321832497), (2633, 0.0), (2634, 0.005898554713167456), (2635, 0.0), (2636, 0.0), (2637, 0.00833934920140997), (2638, 0.0), (2639, 0.0), (2640, 0.01444829649534942), (2641, 0.008299609219491022), (2642, 0.02385152631999008), (2643, 0.0), (2644, 0.009381698850052066), (2645, 0.02114743187587869), (2646, 0.011530558160194162), (2647, 0.02467561513694342), (2648, 0.0), (2649, 0.042315598600163526), (2650, 0.02803523185520959), (2651, 0.0), (2652, 0.0), (2653, 0.0), (2654, 0.00919578201517409), (2655, 0.0), (2656, 0.0), (2657, 0.00836433131185586), (2658, 0.0), (2659, 0.00835709137696911), (2660, 0.0), (2661, 0.0), (2662, 0.0), (2663, 0.0), (2664, 0.0), (2665, 0.0), (2666, 0.0496744367179409), (2667, 0.008500436340162988), (2668, 0.006246142791663657), (2669, 0.0), (2670, 0.006985698041152087), (2671, 0.007882848532389622), (2672, 0.01606965095496217), (2673, 0.0), (2674, 0.005850437119193808), (2675, 0.0), (2676, 0.0070148273154195424), (2677, 0.0), (2678, 0.0), (2679, 0.0), (2680, 0.029472706234530306), (2681, 0.0), (2682, 0.014420155207697799), (2683, 0.0), (2684, 0.0), (2685, 0.0), (2686, 0.0), (2687, 0.0), (2688, 0.016139100226914636), (2689, 0.03277158710116427), (2690, 0.0), (2691, 0.024784779741183576), (2692, 0.0), (2693, 0.0), (2694, 0.03517821162690888), (2695, 0.0), (2696, 0.02654911936356377), (2697, 0.005061447403660969), (2698, 0.0), (2699, 0.0), (2700, 0.0), (2701, 0.0), (2702, 0.0), (2703, 0.0), (2704, 0.0), (2705, 0.0), (2706, 0.0061253132495866225), (2707, 0.016780439239197576), (2708, 0.02641699607031705), (2709, 0.0), (2710, 0.05257471648811474), (2711, 0.015042064215813812), (2712, 0.0), (2713, 0.024644434673050636), (2714, 0.006489318361486051), (2715, 0.023861094612989242), (2716, 0.0), (2717, 0.0), (2718, 0.005594143941314693), (2719, 0.0), (2720, 0.006918564499291492), (2721, 0.0), (2722, 0.0), (2723, 0.0), (2724, 0.022687898812307004), (2725, 0.0084995692053769), (2726, 0.0), (2727, 0.0), (2728, 0.0), (2729, 0.024812320111135412), (2730, 0.0), (2731, 0.0), (2732, 0.01049803976959025), (2733, 0.0), (2734, 0.0), (2735, 0.0), (2736, 0.0), (2737, 0.0), (2738, 0.027367507738121577), (2739, 0.0), (2740, 0.009452628854989504), (2741, 0.007583870217088792), (2742, 0.005589083521065472), (2743, 0.0), (2744, 0.0), (2745, 0.0), (2746, 0.0), (2747, 0.0), (2748, 0.0), (2749, 0.02146222985775947), (2750, 0.0), (2751, 0.015426707169456681), (2752, 0.0), (2753, 0.0), (2754, 0.006839372094896611), (2755, 0.009005831243642185), (2756, 0.011851892818878496), (2757, 0.0), (2758, 0.0), (2759, 0.0), (2760, 0.0), (2761, 0.02674421345003938), (2762, 0.0), (2763, 0.008038684133241287), (2764, 0.0), (2765, 0.0), (2766, 0.0), (2767, 0.004812411935162474), (2768, 0.008395226404133637), (2769, 0.011860796263940545), (2770, 0.023057709629311668), (2771, 0.0), (2772, 0.007229047703145325), (2773, 0.0), (2774, 0.011494700104038387), (2775, 0.04145169892230349), (2776, 0.0), (2777, 0.005892038881314056), (2778, 0.007411488638319244), (2779, 0.0), (2780, 0.1346331616081917), (2781, 0.0), (2782, 0.02987081039643636), (2783, 0.0), (2784, 0.0), (2785, 0.0), (2786, 0.0), (2787, 0.005983791602851094), (2788, 0.02921580544416985), (2789, 0.021314683407880508), (2790, 0.0103448723976514), (2791, 0.005839863043198856), (2792, 0.010469737512339062), (2793, 0.03105020823112708), (2794, 0.0), (2795, 0.007878990226049147), (2796, 0.0), (2797, 0.0), (2798, 0.010761814913465742), (2799, 0.0), (2800, 0.021185519584795646), (2801, 0.0), (2802, 0.010184711555063033), (2803, 0.013208670454533033), (2804, 0.024893537331390037), (2805, 0.0), (2806, 0.009348544000480121), (2807, 0.0), (2808, 0.010130206401499055), (2809, 0.0), (2810, 0.00701474305109022), (2811, 0.006528231965381153), (2812, 0.0), (2813, 0.02726912703315132), (2814, 0.0), (2815, 0.09902442959981747), (2816, 0.0), (2817, 0.0), (2818, 0.0), (2819, 0.006565068408866794), (2820, 0.005345479815394947), (2821, 0.0), (2822, 0.01245534489510152), (2823, 0.0), (2824, 0.009652028109980795), (2825, 0.005968341709702086), (2826, 0.014023377519047383), (2827, 0.0), (2828, 0.009536238798147172), (2829, 0.0), (2830, 0.04248888373844235), (2831, 0.0), (2832, 0.0), (2833, 0.0), (2834, 0.0), (2835, 0.009718194861442101), (2836, 0.0), (2837, 0.012441994187580128), (2838, 0.0), (2839, 0.0), (2840, 0.006780501381491303), (2841, 0.0), (2842, 0.023429816116247677), (2843, 0.03584957886827703), (2844, 0.004988232055022735), (2845, 0.0), (2846, 0.0), (2847, 0.046000510053835354), (2848, 0.03235018192656025), (2849, 0.0), (2850, 0.21527608340202561), (2851, 0.03714150721077072), (2852, 0.0), (2853, 0.0), (2854, 0.0066854143173282615), (2855, 0.0), (2856, 0.0), (2857, 0.0), (2858, 0.0), (2859, 0.030043403664925535), (2860, 0.025980587405636184), (2861, 0.0), (2862, 0.005747640124112142), (2863, 0.044925275477150396), (2864, 0.007571659958535645), (2865, 0.04021597740456177), (2866, 0.0), (2867, 0.07552980758487665), (2868, 0.0), (2869, 0.0), (2870, 0.0), (2871, 0.0), (2872, 0.0), (2873, 0.0), (2874, 0.0), (2875, 0.0), (2876, 0.0), (2877, 0.008710350068161466), (2878, 0.0), (2879, 0.0), (2880, 0.006596475296852944), (2881, 0.006991612858670467), (2882, 0.0), (2883, 0.0), (2884, 0.0), (2885, 0.006011365032902219), (2886, 0.0), (2887, 0.00825192582454923), (2888, 0.046810161849928734), (2889, 0.0), (2890, 0.0), (2891, 0.0), (2892, 0.0), (2893, 0.0), (2894, 0.0), (2895, 0.01694263366996622), (2896, 0.0), (2897, 0.0), (2898, 0.037798174852071834), (2899, 0.029380312978771247), (2900, 0.0), (2901, 0.0), (2902, 0.0), (2903, 0.0), (2904, 0.0), (2905, 0.0), (2906, 0.009346701085654384), (2907, 0.0), (2908, 0.004881044916336101), (2909, 0.0), (2910, 0.006320388181996138), (2911, 0.0), (2912, 0.0), (2913, 0.005300223186471206), (2914, 0.0), (2915, 0.0), (2916, 0.0), (2917, 0.0), (2918, 0.006015992552817715), (2919, 0.0), (2920, 0.007644205389869683), (2921, 0.0), (2922, 0.008067549684464902), (2923, 0.0), (2924, 0.0), (2925, 0.0), (2926, 0.02892142391887288), (2927, 0.03990897523217848), (2928, 0.0), (2929, 0.0), (2930, 0.0), (2931, 0.0), (2932, 0.0), (2933, 0.0), (2934, 0.0), (2935, 0.005760276170423539), (2936, 0.0), (2937, 0.0202718189848501), (2938, 0.0), (2939, 0.0), (2940, 0.014786713154884147), (2941, 0.0), (2942, 0.0), (2943, 0.006816158325330961), (2944, 0.032052823491216714), (2945, 0.0), (2946, 0.0), (2947, 0.006804111361730493), (2948, 0.0), (2949, 0.0), (2950, 0.024065516410266694), (2951, 0.0), (2952, 0.0), (2953, 0.0), (2954, 0.0), (2955, 0.03697957815935671), (2956, 0.0), (2957, 0.0), (2958, 0.0), (2959, 0.006454893338650492), (2960, 0.0089350842982538), (2961, 0.0), (2962, 0.005717546385992876), (2963, 0.006446822886124484), (2964, 0.0), (2965, 0.030205877897375843), (2966, 0.0), (2967, 0.0), (2968, 0.0), (2969, 0.005205473146148672), (2970, 0.0), (2971, 0.0057380700077330595), (2972, 0.0), (2973, 0.0), (2974, 0.0), (2975, 0.0), (2976, 0.0), (2977, 0.0), (2978, 0.0), (2979, 0.0), (2980, 0.0), (2981, 0.0), (2982, 0.028490596463229448), (2983, 0.0), (2984, 0.02491191191257137), (2985, 0.0), (2986, 0.0), (2987, 0.0), (2988, 0.01074058574662619), (2989, 0.0), (2990, 0.008232466650798648), (2991, 0.0320071192324026), (2992, 0.005748211479406132), (2993, 0.0), (2994, 0.011427645677243557), (2995, 0.009484303758239042), (2996, 0.03316140996848002), (2997, 0.0), (2998, 0.02054922712549905), (2999, 0.0), (3000, 0.0), (3001, 0.01089894976123056), (3002, 0.0), (3003, 0.0), (3004, 0.0), (3005, 0.0), (3006, 0.0), (3007, 0.0), (3008, 0.0), (3009, 0.0), (3010, 0.0), (3011, 0.0), (3012, 0.0), (3013, 0.0), (3014, 0.0), (3015, 0.0), (3016, 0.027490875929744314), (3017, 0.0), (3018, 0.03203709253537221), (3019, 0.0), (3020, 0.0), (3021, 0.018787221237921155), (3022, 0.03607506925660134), (3023, 0.0), (3024, 0.005119475178209809), (3025, 0.0), (3026, 0.0), (3027, 0.0), (3028, 0.025838991602444197), (3029, 0.0), (3030, 0.0), (3031, 0.03673384299932466), (3032, 0.0), (3033, 0.0), (3034, 0.0), (3035, 0.0), (3036, 0.045048922587542464), (3037, 0.0), (3038, 0.0), (3039, 0.0), (3040, 0.0), (3041, 0.0), (3042, 0.0), (3043, 0.0), (3044, 0.006892001565518498), (3045, 0.02602383769609635), (3046, 0.0), (3047, 0.0095796072002834), (3048, 0.010773115219361086), (3049, 0.0), (3050, 0.0), (3051, 0.013622942761733278), (3052, 0.0), (3053, 0.0), (3054, 0.0), (3055, 0.0), (3056, 0.0), (3057, 0.0), (3058, 0.00826888316168579), (3059, 0.018209312561243314), (3060, 0.0), (3061, 0.02345573310843593), (3062, 0.01665717036723353), (3063, 0.008755969160388398), (3064, 0.007121791690963073), (3065, 0.012731356529594975), (3066, 0.010142180679592069), (3067, 0.022582808148523047), (3068, 0.00883938153565356), (3069, 0.0), (3070, 0.005604213380560764), (3071, 0.0), (3072, 0.0), (3073, 0.0), (3074, 0.0), (3075, 0.0), (3076, 0.0), (3077, 0.0), (3078, 0.0), (3079, 0.009381317985151948), (3080, 0.011370380591679195), (3081, 0.0), (3082, 0.00915369718288589), (3083, 0.02945096553705683), (3084, 0.02358673202623383), (3085, 0.005802137825771408), (3086, 0.0), (3087, 0.0), (3088, 0.0), (3089, 0.011751945154007506), (3090, 0.0), (3091, 0.008573237478346839), (3092, 0.0), (3093, 0.0), (3094, 0.031151649795123627), (3095, 0.0), (3096, 0.012407334943114471), (3097, 0.006489005967079195), (3098, 0.0), (3099, 0.013081208777030461), (3100, 0.038546693244654706), (3101, 0.0), (3102, 0.0), (3103, 0.0), (3104, 0.0), (3105, 0.01758423493567502), (3106, 0.0), (3107, 0.0), (3108, 0.0), (3109, 0.0), (3110, 0.0), (3111, 0.0), (3112, 0.006614753019311408), (3113, 0.0), (3114, 0.022649403153488568), (3115, 0.008852247102553164), (3116, 0.0), (3117, 0.0), (3118, 0.026372569121166266), (3119, 0.0), (3120, 0.0), (3121, 0.007940614323249369), (3122, 0.0), (3123, 0.030128827465746952), (3124, 0.014603874228369031), (3125, 0.0), (3126, 0.006012252658764331), (3127, 0.009598738544962654), (3128, 0.0), (3129, 0.021181149923088442), (3130, 0.0), (3131, 0.03192411765398902), (3132, 0.5520667880837227), (3133, 0.5748552326599322), (3134, 1.0000000000000002), (3135, 0.10619217017605899), (3136, 0.013948893282843261), (3137, 0.0), (3138, 0.0), (3139, 0.0), (3140, 0.0), (3141, 0.058836071371954526), (3142, 0.0), (3143, 0.0055599735999480706), (3144, 0.0), (3145, 0.0), (3146, 0.0), (3147, 0.0), (3148, 0.0), (3149, 0.0), (3150, 0.0), (3151, 0.0), (3152, 0.006694402448150999), (3153, 0.0), (3154, 0.0), (3155, 0.0), (3156, 0.014634433902314448), (3157, 0.0), (3158, 0.027001229681053736), (3159, 0.0), (3160, 0.008801130990006763), (3161, 0.005953777583608176), (3162, 0.0), (3163, 0.02676216350684213), (3164, 0.0), (3165, 0.007222638012258029), (3166, 0.04432480942078694), (3167, 0.0), (3168, 0.00736399404250345), (3169, 0.0061814662791041496), (3170, 0.0), (3171, 0.0), (3172, 0.01678453447779872), (3173, 0.027392481474189573), (3174, 0.006151394888777915), (3175, 0.0), (3176, 0.0), (3177, 0.0), (3178, 0.0), (3179, 0.0), (3180, 0.027493891943659053), (3181, 0.016927552835089836), (3182, 0.0), (3183, 0.0), (3184, 0.034176120556707594), (3185, 0.008785492992371016), (3186, 0.0), (3187, 0.0), (3188, 0.0), (3189, 0.0), (3190, 0.011650251512431037), (3191, 0.06814113713517139), (3192, 0.0), (3193, 0.028764460084497442), (3194, 0.021630788711314162), (3195, 0.02219371850397361), (3196, 0.0), (3197, 0.0), (3198, 0.0), (3199, 0.0), (3200, 0.0), (3201, 0.009022195525900355), (3202, 0.015634638176075317), (3203, 0.0), (3204, 0.0), (3205, 0.01136244459555864), (3206, 0.016825911306483803), (3207, 0.0), (3208, 0.008663198882930129), (3209, 0.0), (3210, 0.006490595209182552), (3211, 0.0), (3212, 0.0), (3213, 0.005113007149210214), (3214, 0.0), (3215, 0.005280086051526456), (3216, 0.0), (3217, 0.0), (3218, 0.0), (3219, 0.0), (3220, 0.0), (3221, 0.006818882804565005), (3222, 0.0), (3223, 0.009555828317861047), (3224, 0.0), (3225, 0.07320138354292101), (3226, 0.0), (3227, 0.006360852874219024), (3228, 0.0), (3229, 0.0), (3230, 0.0), (3231, 0.016241966564093074), (3232, 0.013514318829517896), (3233, 0.010209080572527472), (3234, 0.0), (3235, 0.0), (3236, 0.0), (3237, 0.0), (3238, 0.0), (3239, 0.0), (3240, 0.02571555629974851), (3241, 0.006312437002575772), (3242, 0.0), (3243, 0.0), (3244, 0.0), (3245, 0.0), (3246, 0.0), (3247, 0.03779887328549295), (3248, 0.0), (3249, 0.0), (3250, 0.0), (3251, 0.0), (3252, 0.0), (3253, 0.006823738495090183), (3254, 0.0), (3255, 0.0), (3256, 0.0), (3257, 0.0), (3258, 0.0), (3259, 0.006472188274905204), (3260, 0.0), (3261, 0.0), (3262, 0.0), (3263, 0.007102723425203976), (3264, 0.0), (3265, 0.0), (3266, 0.0), (3267, 0.005662331540413753), (3268, 0.0), (3269, 0.0), (3270, 0.01591036158776777), (3271, 0.0), (3272, 0.008669044503816167), (3273, 0.0), (3274, 0.0), (3275, 0.007521604220793939), (3276, 0.020712681852036778), (3277, 0.0), (3278, 0.0), (3279, 0.0), (3280, 0.0213909635061557), (3281, 0.03528017711132849), (3282, 0.0), (3283, 0.0), (3284, 0.0), (3285, 0.0), (3286, 0.14896097516068688), (3287, 0.0), (3288, 0.0), (3289, 0.0), (3290, 0.0), (3291, 0.0), (3292, 0.0), (3293, 0.0), (3294, 0.009301102936892486), (3295, 0.0), (3296, 0.0), (3297, 0.006161550139938274), (3298, 0.03540122068572475), (3299, 0.0), (3300, 0.0), (3301, 0.0), (3302, 0.0), (3303, 0.0), (3304, 0.0), (3305, 0.009962600703948032), (3306, 0.005584519955485311), (3307, 0.012236710748611901), (3308, 0.0), (3309, 0.0), (3310, 0.006513374189720341), (3311, 0.005658473896086918), (3312, 0.006872518914506778), (3313, 0.0), (3314, 0.0), (3315, 0.010084256472738562), (3316, 0.0), (3317, 0.0), (3318, 0.0), (3319, 0.0), (3320, 0.0), (3321, 0.0), (3322, 0.0), (3323, 0.16749639882085304), (3324, 0.0), (3325, 0.0), (3326, 0.0), (3327, 0.007326679357454168), (3328, 0.02282750891521844), (3329, 0.0), (3330, 0.0), (3331, 0.00853316084071248), (3332, 0.01628256312850605), (3333, 0.0), (3334, 0.0), (3335, 0.027010594669053395), (3336, 0.029399161200781263), (3337, 0.0), (3338, 0.0), (3339, 0.005278445294438886), (3340, 0.0), (3341, 0.0), (3342, 0.01530087912004189), (3343, 0.005949463948949075), (3344, 0.0), (3345, 0.0), (3346, 0.008217230998600071), (3347, 0.0), (3348, 0.0), (3349, 0.0), (3350, 0.0), (3351, 0.0), (3352, 0.03126437148188539), (3353, 0.0), (3354, 0.0), (3355, 0.0), (3356, 0.0), (3357, 0.0), (3358, 0.0), (3359, 0.0), (3360, 0.023534397064359072), (3361, 0.022397109825628515), (3362, 0.0), (3363, 0.0), (3364, 0.0), (3365, 0.004402075241589241), (3366, 0.0), (3367, 0.023524366198735002), (3368, 0.015975314419128986), (3369, 0.0), (3370, 0.0), (3371, 0.0), (3372, 0.0), (3373, 0.07487430897785743), (3374, 0.006467456523590489), (3375, 0.0), (3376, 0.0), (3377, 0.00954704580428337), (3378, 0.0), (3379, 0.0), (3380, 0.0), (3381, 0.0), (3382, 0.0), (3383, 0.007198943284206289), (3384, 0.006990151247795352), (3385, 0.028691584288292396), (3386, 0.0), (3387, 0.008907040252955311), (3388, 0.0), (3389, 0.00901039640478194), (3390, 0.0), (3391, 0.011435322520418153), (3392, 0.0), (3393, 0.0), (3394, 0.007131031424121623), (3395, 0.007608320670919588), (3396, 0.0), (3397, 0.008013272846021638), (3398, 0.0), (3399, 0.0), (3400, 0.0), (3401, 0.0), (3402, 0.0), (3403, 0.0), (3404, 0.015396783316961545), (3405, 0.026219617052608585), (3406, 0.0), (3407, 0.009906906826767438), (3408, 0.010789861821492079), (3409, 0.0), (3410, 0.0), (3411, 0.0), (3412, 0.0), (3413, 0.0), (3414, 0.0), (3415, 0.0), (3416, 0.006069740299446741), (3417, 0.0), (3418, 0.0), (3419, 0.016644782766508756), (3420, 0.0), (3421, 0.0), (3422, 0.022981482408452523), (3423, 0.0), (3424, 0.0068760289520766555), (3425, 0.0), (3426, 0.033666405477110015), (3427, 0.024187921436867113), (3428, 0.0), (3429, 0.004407551197767996), (3430, 0.0), (3431, 0.0), (3432, 0.006323285508541328), (3433, 0.0), (3434, 0.0), (3435, 0.010293662306921832), (3436, 0.0), (3437, 0.0), (3438, 0.006552963687749453), (3439, 0.011077663802157432), (3440, 0.006921512519205769), (3441, 0.006091300952153284), (3442, 0.0), (3443, 0.006218904073872649), (3444, 0.00891942273552791), (3445, 0.006140931865335935), (3446, 0.0228751949807764), (3447, 0.0), (3448, 0.01785296989214709), (3449, 0.028491182222610927), (3450, 0.006865866822922765), (3451, 0.006434036530691245), (3452, 0.025055697856159354), (3453, 0.018277651952060332), (3454, 0.07762311575412942), (3455, 0.0), (3456, 0.0), (3457, 0.0), (3458, 0.007514494776290359), (3459, 0.0), (3460, 0.0), (3461, 0.008734938024848362), (3462, 0.0), (3463, 0.15087886046078558), (3464, 0.006271210105235263), (3465, 0.005781094002492789), (3466, 0.005691191959868448), (3467, 0.0346343383956363), (3468, 0.017722133320932146), (3469, 0.14224472275002928), (3470, 0.0), (3471, 0.0), (3472, 0.008010511825906886), (3473, 0.0), (3474, 0.0), (3475, 0.0), (3476, 0.0), (3477, 0.0), (3478, 0.027590506638557718), (3479, 0.0), (3480, 0.032119349100485285), (3481, 0.0), (3482, 0.008466827008727204), (3483, 0.0), (3484, 0.008815162047600028), (3485, 0.0), (3486, 0.0063029510825957456), (3487, 0.026405793480782598), (3488, 0.0), (3489, 0.0), (3490, 0.0), (3491, 0.0), (3492, 0.03890874330456385), (3493, 0.0), (3494, 0.0), (3495, 0.0), (3496, 0.0), (3497, 0.0), (3498, 0.0), (3499, 0.0), (3500, 0.0), (3501, 0.0), (3502, 0.03063749576247374), (3503, 0.0), (3504, 0.0), (3505, 0.0), (3506, 0.0), (3507, 0.006325595179464557), (3508, 0.0), (3509, 0.0), (3510, 0.0), (3511, 0.01087107249897703), (3512, 0.0), (3513, 0.03220379554258321), (3514, 0.006323490455738681), (3515, 0.010502185627569096), (3516, 0.016399085072842365), (3517, 0.0), (3518, 0.0), (3519, 0.0), (3520, 0.029629890022980585), (3521, 0.0), (3522, 0.00653979563585906), (3523, 0.0), (3524, 0.0), (3525, 0.01491026039264903), (3526, 0.0), (3527, 0.0), (3528, 0.023618916045167828), (3529, 0.0), (3530, 0.0), (3531, 0.03269995135968387), (3532, 0.026884907083009037), (3533, 0.0), (3534, 0.04541443641175925), (3535, 0.0), (3536, 0.0), (3537, 0.0), (3538, 0.008480289581169465), (3539, 0.0), (3540, 0.0), (3541, 0.0), (3542, 0.01008440318543766), (3543, 0.021704937656058337), (3544, 0.0), (3545, 0.0), (3546, 0.006189829829354146), (3547, 0.0), (3548, 0.0), (3549, 0.0), (3550, 0.0), (3551, 0.010640739413876648), (3552, 0.0), (3553, 0.0), (3554, 0.0), (3555, 0.006030901193377071), (3556, 0.005355694599468867), (3557, 0.02666603890362575), (3558, 0.0), (3559, 0.008386946504183075), (3560, 0.01629877617915413), (3561, 0.0), (3562, 0.051916173030845975), (3563, 0.0), (3564, 0.0), (3565, 0.023063561171132774), (3566, 0.07905267394943492), (3567, 0.0), (3568, 0.0142353072062417), (3569, 0.0), (3570, 0.0), (3571, 0.0), (3572, 0.0), (3573, 0.0), (3574, 0.012764460952616255), (3575, 0.0), (3576, 0.010452610148948415), (3577, 0.0), (3578, 0.010248365801371085), (3579, 0.0), (3580, 0.0), (3581, 0.0), (3582, 0.013876652913283863), (3583, 0.0), (3584, 0.011344203857868475), (3585, 0.0), (3586, 0.01530944822577722), (3587, 0.07199607121997341), (3588, 0.019533091167429066), (3589, 0.0), (3590, 0.04482079734678541), (3591, 0.05814811039294775), (3592, 0.03290282942489239), (3593, 0.006625688472478062), (3594, 0.009941467283475173), (3595, 0.015374546264093819), (3596, 0.0), (3597, 0.1122948630873863), (3598, 0.007422063794931045), (3599, 0.0), (3600, 0.005823374824315842), (3601, 0.0), (3602, 0.006195802445918669), (3603, 0.006322832251663863), (3604, 0.006417981079786181), (3605, 0.01554158339989278), (3606, 0.0), (3607, 0.06494081515360203), (3608, 0.0), (3609, 0.04141269361959767), (3610, 0.01205666158124763), (3611, 0.03011799681167562), (3612, 0.0), (3613, 0.0), (3614, 0.0), (3615, 0.0), (3616, 0.0), (3617, 0.0), (3618, 0.0), (3619, 0.02309549051866163), (3620, 0.0), (3621, 0.0), (3622, 0.0), (3623, 0.016654015100989825), (3624, 0.0), (3625, 0.010814766562784496), (3626, 0.0), (3627, 0.0), (3628, 0.009035952649792954), (3629, 0.013943626449570477), (3630, 0.020500775049311814), (3631, 0.0), (3632, 0.0), (3633, 0.0), (3634, 0.008923105581037505), (3635, 0.00813580595524484), (3636, 0.0), (3637, 0.005465770714458074), (3638, 0.009897535060896126), (3639, 0.0), (3640, 0.0), (3641, 0.017811129885864595), (3642, 0.006332191689985365), (3643, 0.0), (3644, 0.0), (3645, 0.013619248703445386), (3646, 0.0), (3647, 0.0), (3648, 0.010606538156010639), (3649, 0.0), (3650, 0.0), (3651, 0.0), (3652, 0.0), (3653, 0.0), (3654, 0.0), (3655, 0.009297071180689991), (3656, 0.00928187848966086), (3657, 0.03625364756623797), (3658, 0.02813092523103857), (3659, 0.039701857225543466), (3660, 0.005806289305124649), (3661, 0.0), (3662, 0.0), (3663, 0.0), (3664, 0.0), (3665, 0.0), (3666, 0.0), (3667, 0.0), (3668, 0.005226289782355589), (3669, 0.0), (3670, 0.02755473912317026), (3671, 0.0), (3672, 0.0), (3673, 0.0), (3674, 0.0), (3675, 0.0), (3676, 0.006587802789014379), (3677, 0.0), (3678, 0.02363903206080897), (3679, 0.0), (3680, 0.00705177136756384), (3681, 0.0), (3682, 0.0), (3683, 0.0), (3684, 0.005222652893156013), (3685, 0.01774659098140525), (3686, 0.0), (3687, 0.0), (3688, 0.010794836679817107), (3689, 0.0), (3690, 0.07308327313696367), (3691, 0.0), (3692, 0.033957365390962814), (3693, 0.028157634262231404), (3694, 0.0), (3695, 0.008948355891878966), (3696, 0.0), (3697, 0.01536021660961701), (3698, 0.006469683162639535), (3699, 0.0), (3700, 0.014076649450622526), (3701, 0.010297552563815952), (3702, 0.0), (3703, 0.009000744001043294), (3704, 0.0), (3705, 0.00946019676929652), (3706, 0.005875557556178981), (3707, 0.0), (3708, 0.007179145521189558), (3709, 0.033002516749792724), (3710, 0.0064426050225721), (3711, 0.0), (3712, 0.0), (3713, 0.008665627519657564), (3714, 0.02822495214105086), (3715, 0.008171243313131585), (3716, 0.0), (3717, 0.0), (3718, 0.031059718765908243), (3719, 0.0), (3720, 0.01564960144232603), (3721, 0.0), (3722, 0.028066203947152504), (3723, 0.04099596023638933), (3724, 0.016782083433059748), (3725, 0.02932006879893925), (3726, 0.0077561929058845794), (3727, 0.0), (3728, 0.0), (3729, 0.0), (3730, 0.0), (3731, 0.0), (3732, 0.0), (3733, 0.0), (3734, 0.03036422471128784), (3735, 0.00853338533687465), (3736, 0.0), (3737, 0.0), (3738, 0.005569914989842849), (3739, 0.0), (3740, 0.0), (3741, 0.007262846732173127), (3742, 0.01861570210795016), (3743, 0.024118053766328744), (3744, 0.04797314315020079), (3745, 0.031258501274827113), (3746, 0.0), (3747, 0.05171586051076658), (3748, 0.0), (3749, 0.0), (3750, 0.0), (3751, 0.0), (3752, 0.0), (3753, 0.0), (3754, 0.0), (3755, 0.0), (3756, 0.0), (3757, 0.0), (3758, 0.0), (3759, 0.03093532201083958), (3760, 0.0), (3761, 0.0), (3762, 0.0), (3763, 0.0), (3764, 0.0), (3765, 0.027942345244361084), (3766, 0.0), (3767, 0.0), (3768, 0.0), (3769, 0.0), (3770, 0.0), (3771, 0.01737749175319167), (3772, 0.03185058231079785), (3773, 0.038359343223493686), (3774, 0.0), (3775, 0.0), (3776, 0.005338735983222307), (3777, 0.010793830420234499), (3778, 0.010546021505238867), (3779, 0.012225278321228264), (3780, 0.0), (3781, 0.0), (3782, 0.01580436854172074), (3783, 0.1499598160532872), (3784, 0.0), (3785, 0.007400893107660955), (3786, 0.1926704906897896), (3787, 0.04270444733900837), (3788, 0.0), (3789, 0.0), (3790, 0.0), (3791, 0.0), (3792, 0.010396642510420589), (3793, 0.0), (3794, 0.015534788541193934), (3795, 0.01351545078016532), (3796, 0.0), (3797, 0.027999107652648868), (3798, 0.033150633198716556), (3799, 0.0), (3800, 0.0), (3801, 0.0), (3802, 0.017573740741305036), (3803, 0.007183223310354902), (3804, 0.0), (3805, 0.00833972896909232), (3806, 0.0), (3807, 0.0061554504641885876), (3808, 0.0), (3809, 0.010677646165734253), (3810, 0.0), (3811, 0.0), (3812, 0.035257393327728745), (3813, 0.0), (3814, 0.006168682517618501), (3815, 0.0), (3816, 0.0), (3817, 0.009082827566009031), (3818, 0.0), (3819, 0.0), (3820, 0.0), (3821, 0.0), (3822, 0.0), (3823, 0.0), (3824, 0.0), (3825, 0.0), (3826, 0.00781620062097949), (3827, 0.0), (3828, 0.0), (3829, 0.0), (3830, 0.0), (3831, 0.0), (3832, 0.0), (3833, 0.0), (3834, 0.04346768930463996), (3835, 0.0), (3836, 0.0), (3837, 0.0), (3838, 0.0), (3839, 0.024630610809251323), (3840, 0.0427098329479176), (3841, 0.0), (3842, 0.0), (3843, 0.0), (3844, 0.0), (3845, 0.0), (3846, 0.04859420405740928), (3847, 0.0), (3848, 0.0), (3849, 0.014780873602514845), (3850, 0.016644579944804082), (3851, 0.0), (3852, 0.0), (3853, 0.009552285816407493), (3854, 0.0), (3855, 0.0), (3856, 0.0), (3857, 0.011076605172351844), (3858, 0.0), (3859, 0.0), (3860, 0.044233529643017855), (3861, 0.0), (3862, 0.006609144763636297), (3863, 0.0), (3864, 0.0), (3865, 0.0), (3866, 0.03160175526212934), (3867, 0.04303653136357124), (3868, 0.0), (3869, 0.03565808975126837), (3870, 0.014438280150054607), (3871, 0.018826018282968992), (3872, 0.0), (3873, 0.10170927346051614), (3874, 0.0), (3875, 0.0), (3876, 0.03128025650961744), (3877, 0.05451195503356576), (3878, 0.0), (3879, 0.0), (3880, 0.0), (3881, 0.0), (3882, 0.0), (3883, 0.0), (3884, 0.0), (3885, 0.0), (3886, 0.034379567044817747), (3887, 0.0), (3888, 0.025497832614971756), (3889, 0.02698306707922172), (3890, 0.0), (3891, 0.0), (3892, 0.0), (3893, 0.0), (3894, 0.0), (3895, 0.0), (3896, 0.0), (3897, 0.027933620998918024), (3898, 0.0), (3899, 0.0), (3900, 0.025516308028353966), (3901, 0.0), (3902, 0.0), (3903, 0.0), (3904, 0.0), (3905, 0.0), (3906, 0.0), (3907, 0.03295325771989584), (3908, 0.0325218729296083), (3909, 0.0), (3910, 0.019025448054167875), (3911, 0.0), (3912, 0.0), (3913, 0.0), (3914, 0.07368993055840897), (3915, 0.0), (3916, 0.0), (3917, 0.008321127304312927), (3918, 0.0), (3919, 0.010485989444288567), (3920, 0.0), (3921, 0.0), (3922, 0.0), (3923, 0.03627892529818622), (3924, 0.0), (3925, 0.0), (3926, 0.0), (3927, 0.0), (3928, 0.0), (3929, 0.0100935793007073), (3930, 0.0), (3931, 0.0), (3932, 0.025185059329224976), (3933, 0.0), (3934, 0.0), (3935, 0.0), (3936, 0.0), (3937, 0.03174312046437594), (3938, 0.024047159673139664), (3939, 0.0), (3940, 0.0), (3941, 0.0), (3942, 0.0), (3943, 0.0), (3944, 0.0), (3945, 0.0), (3946, 0.004944736565953596), (3947, 0.00721836391368439), (3948, 0.0), (3949, 0.0), (3950, 0.0), (3951, 0.0), (3952, 0.0), (3953, 0.0), (3954, 0.009571074218672575), (3955, 0.01588987452431433), (3956, 0.0), (3957, 0.021698566958169848), (3958, 0.0), (3959, 0.03507953238416012), (3960, 0.0), (3961, 0.0), (3962, 0.0), (3963, 0.02519738408769921), (3964, 0.0), (3965, 0.037180229561369314), (3966, 0.024983910949042745), (3967, 0.0), (3968, 0.21325188260304917), (3969, 0.0), (3970, 0.0), (3971, 0.0), (3972, 0.13559898970075235), (3973, 0.0), (3974, 0.0), (3975, 0.0), (3976, 0.0), (3977, 0.0550218919989752), (3978, 0.006072800449801668), (3979, 0.2456625850542835), (3980, 0.036169002316396234), (3981, 0.0), (3982, 0.21000653339419995), (3983, 0.0), (3984, 0.0), (3985, 0.0), (3986, 0.0), (3987, 0.0), (3988, 0.0), (3989, 0.0), (3990, 0.0), (3991, 0.007852657360417476), (3992, 0.0), (3993, 0.005659193152672296), (3994, 0.00958193682270323), (3995, 0.0), (3996, 0.0), (3997, 0.0170425629792224), (3998, 0.015558396943037536), (3999, 0.0), (4000, 0.0), (4001, 0.0062300629455864145), (4002, 0.0), (4003, 0.0), (4004, 0.0), (4005, 0.006435195401766235), (4006, 0.0), (4007, 0.0), (4008, 0.0), (4009, 0.0076598537023685785), (4010, 0.0), (4011, 0.0), (4012, 0.00598919077436304), (4013, 0.0), (4014, 0.010639338875398259), (4015, 0.0355395627807753), (4016, 0.01054655954803626), (4017, 0.0), (4018, 0.014135443349126562), (4019, 0.0), (4020, 0.0), (4021, 0.0), (4022, 0.009837732140405665), (4023, 0.0), (4024, 0.0), (4025, 0.0), (4026, 0.0), (4027, 0.0), (4028, 0.0), (4029, 0.0), (4030, 0.0), (4031, 0.03916095772361787), (4032, 0.0), (4033, 0.03478521118957402), (4034, 0.009086859507282039), (4035, 0.0), (4036, 0.008116081761671173), (4037, 0.0060029024417688195), (4038, 0.006434268608567621), (4039, 0.005912189451902662), (4040, 0.03938045852369276), (4041, 0.09142278271149819), (4042, 0.0), (4043, 0.0), (4044, 0.015928072709605858), (4045, 0.006335425055025658), (4046, 0.03364642922244914), (4047, 0.0), (4048, 0.0), (4049, 0.0), (4050, 0.0), (4051, 0.0), (4052, 0.0), (4053, 0.0), (4054, 0.010063346402077875), (4055, 0.07795835788887373), (4056, 0.014795656950714796), (4057, 0.0), (4058, 0.0), (4059, 0.0), (4060, 0.0), (4061, 0.0), (4062, 0.0), (4063, 0.02374706812039614), (4064, 0.0), (4065, 0.0), (4066, 0.0), (4067, 0.0), (4068, 0.006068535590067469), (4069, 0.0), (4070, 0.28383606184932897), (4071, 0.11508201264888825), (4072, 0.0), (4073, 0.0), (4074, 0.0), (4075, 0.0), (4076, 0.03537396694757293), (4077, 0.02614219844862479), (4078, 0.0), (4079, 0.0), (4080, 0.0), (4081, 0.0), (4082, 0.0), (4083, 0.0), (4084, 0.0), (4085, 0.025908572708130528), (4086, 0.009358638993388926), (4087, 0.053748973679099615), (4088, 0.0), (4089, 0.02744133628848814), (4090, 0.03295261716608233), (4091, 0.04179000224458239), (4092, 0.0), (4093, 0.13374551439794863), (4094, 0.00647053517583261), (4095, 0.02828719304857187), (4096, 0.0), (4097, 0.0), (4098, 0.006670932377728168), (4099, 0.01410802243209041), (4100, 0.016614726007275666), (4101, 0.011410453491638986), (4102, 0.0), (4103, 0.014415332596448768), (4104, 0.0), (4105, 0.0), (4106, 0.03464561370143214), (4107, 0.0), (4108, 0.0), (4109, 0.0), (4110, 0.009796944614563772), (4111, 0.0), (4112, 0.014144812837985285), (4113, 0.03482763032419098), (4114, 0.028583297501918885), (4115, 0.0), (4116, 0.006679561170472721), (4117, 0.0), (4118, 0.00922122665579581), (4119, 0.01765609529820842), (4120, 0.0), (4121, 0.006875129155124022), (4122, 0.007711626756726412), (4123, 0.041640981247078164), (4124, 0.0), (4125, 0.0), (4126, 0.0), (4127, 0.0), (4128, 0.02574044363678804), (4129, 0.0), (4130, 0.009137544848543375), (4131, 0.006945047051747735), (4132, 0.0), (4133, 0.0), (4134, 0.0), (4135, 0.0), (4136, 0.0), (4137, 0.026619350333489958), (4138, 0.0), (4139, 0.024880528929043043), (4140, 0.030127343277517156), (4141, 0.0), (4142, 0.01806623578025462), (4143, 0.0), (4144, 0.00735586724855381), (4145, 0.0), (4146, 0.02814479418032481), (4147, 0.0), (4148, 0.005983929349780092), (4149, 0.010538468160355158), (4150, 0.025544537000192824), (4151, 0.0), (4152, 0.027192517867638606), (4153, 0.03153894036782144), (4154, 0.024204337877820135), (4155, 0.025347848594608896), (4156, 0.02333766942593723), (4157, 0.0), (4158, 0.008855608460946374), (4159, 0.0), (4160, 0.009255900234899932), (4161, 0.0), (4162, 0.0), (4163, 0.0), (4164, 0.07570361235441295), (4165, 0.023266807415248385), (4166, 0.0), (4167, 0.0), (4168, 0.01860676269738226), (4169, 0.0), (4170, 0.0), (4171, 0.0), (4172, 0.0), (4173, 0.0), (4174, 0.0), (4175, 0.0), (4176, 0.0), (4177, 0.0), (4178, 0.0), (4179, 0.0), (4180, 0.0), (4181, 0.06723044025121853), (4182, 0.0), (4183, 0.026782174242383935), (4184, 0.0), (4185, 0.0), (4186, 0.005628409473152936), (4187, 0.0), (4188, 0.04330108591280572), (4189, 0.01002296650336206), (4190, 0.0), (4191, 0.009163040616851895), (4192, 0.009785766404317761), (4193, 0.013478689797660372), (4194, 0.01006825773283663), (4195, 0.008209577622668676), (4196, 0.018044922295916418), (4197, 0.0), (4198, 0.0), (4199, 0.018057128817298915), (4200, 0.0), (4201, 0.0), (4202, 0.00863708132597807), (4203, 0.0), (4204, 0.0), (4205, 0.05165861746452423), (4206, 0.0), (4207, 0.011442594445349534), (4208, 0.0), (4209, 0.0), (4210, 0.0145076306153655), (4211, 0.014899251686963624), (4212, 0.0), (4213, 0.026474121362203624), (4214, 0.0), (4215, 0.0), (4216, 0.010067150534458572), (4217, 0.0), (4218, 0.008217701649158492), (4219, 0.0), (4220, 0.0), (4221, 0.007691924104531242), (4222, 0.0), (4223, 0.0), (4224, 0.08272096554583076), (4225, 0.0), (4226, 0.0), (4227, 0.0), (4228, 0.0), (4229, 0.0), (4230, 0.0), (4231, 0.0), (4232, 0.0), (4233, 0.0), (4234, 0.023509979796652442), (4235, 0.0), (4236, 0.00592507319906632), (4237, 0.0), (4238, 0.02756374131414879), (4239, 0.0), (4240, 0.05462056924406059), (4241, 0.0), (4242, 0.0), (4243, 0.0), (4244, 0.007200993221444175), (4245, 0.0), (4246, 0.0), (4247, 0.0), (4248, 0.0062188784488308455), (4249, 0.006569659421725526), (4250, 0.011048865631357945), (4251, 0.0), (4252, 0.009965502315305342), (4253, 0.0), (4254, 0.0), (4255, 0.016548589113213514), (4256, 0.0), (4257, 0.0), (4258, 0.0), (4259, 0.0), (4260, 0.0), (4261, 0.011806495338506902), (4262, 0.0), (4263, 0.0), (4264, 0.04079676216817906), (4265, 0.0), (4266, 0.025716855252879034), (4267, 0.011841268309811071), (4268, 0.0), (4269, 0.009384630104329654), (4270, 0.00778686424245849), (4271, 0.0), (4272, 0.03136234278903708), (4273, 0.03262940462824331), (4274, 0.015469102871777142), (4275, 0.0), (4276, 0.018193881346752764), (4277, 0.009538929189812901), (4278, 0.027565035988955638), (4279, 0.0), (4280, 0.0), (4281, 0.011834883752116944), (4282, 0.0), (4283, 0.02452145114595313), (4284, 0.0), (4285, 0.1095394535674572), (4286, 0.0), (4287, 0.0), (4288, 0.008554073938884538), (4289, 0.043822254614134235), (4290, 0.0), (4291, 0.0), (4292, 0.00782650482249332), (4293, 0.007090648407499561), (4294, 0.13956610051456797), (4295, 0.0), (4296, 0.0), (4297, 0.0), (4298, 0.03368453196253495), (4299, 0.03125822167384656), (4300, 0.011050051248482292), (4301, 0.0), (4302, 0.012535131169039032), (4303, 0.008101789175488648), (4304, 0.0), (4305, 0.0), (4306, 0.0), (4307, 0.0), (4308, 0.0), (4309, 0.010075517908353631), (4310, 0.006002422385883998), (4311, 0.0), (4312, 0.016956420954501332), (4313, 0.0), (4314, 0.010317090493540538), (4315, 0.0), (4316, 0.0), (4317, 0.0), (4318, 0.033526352606969664), (4319, 0.0), (4320, 0.026808160068256127), (4321, 0.0), (4322, 0.0), (4323, 0.008984590806535075), (4324, 0.0), (4325, 0.005705190500242199), (4326, 0.0), (4327, 0.0), (4328, 0.005887369112517598), (4329, 0.0), (4330, 0.0), (4331, 0.0), (4332, 0.0), (4333, 0.02628229881938354), (4334, 0.037795687491491106), (4335, 0.0), (4336, 0.0), (4337, 0.0), (4338, 0.05524768089618017), (4339, 0.02436689779683614), (4340, 0.0), (4341, 0.0), (4342, 0.06604216741341103), (4343, 0.0), (4344, 0.021730068025359008), (4345, 0.0), (4346, 0.028300323202861986), (4347, 0.008474822477576381), (4348, 0.025028947790165186), (4349, 0.0), (4350, 0.009491900902121455), (4351, 0.008997541255103852), (4352, 0.0), (4353, 0.005382462332543758), (4354, 0.028433021366123842), (4355, 0.0), (4356, 0.0), (4357, 0.0), (4358, 0.0), (4359, 0.0), (4360, 0.0), (4361, 0.0), (4362, 0.0), (4363, 0.04138584760941352), (4364, 0.018396222165151934), (4365, 0.022830105302929952), (4366, 0.0), (4367, 0.0), (4368, 0.0), (4369, 0.0), (4370, 0.0), (4371, 0.010947436996005819), (4372, 0.0), (4373, 0.012202976697850082), (4374, 0.0), (4375, 0.02708660752505322), (4376, 0.0), (4377, 0.0), (4378, 0.010666263671548108), (4379, 0.01719037902029305), (4380, 0.0), (4381, 0.0), (4382, 0.009749842867598595), (4383, 0.009946353795799459), (4384, 0.006576201574987957), (4385, 0.0), (4386, 0.0), (4387, 0.0), (4388, 0.0), (4389, 0.0), (4390, 0.006381771033177699), (4391, 0.026012169320476203), (4392, 0.00641530232026946), (4393, 0.0), (4394, 0.0), (4395, 0.010719767516985057), (4396, 0.0), (4397, 0.0), (4398, 0.0), (4399, 0.0), (4400, 0.0), (4401, 0.019312086118681696), (4402, 0.0), (4403, 0.0), (4404, 0.0), (4405, 0.007668384506489049), (4406, 0.20400419564587915), (4407, 0.0), (4408, 0.0), (4409, 0.0), (4410, 0.0), (4411, 0.023634179678993908), (4412, 0.0), (4413, 0.0), (4414, 0.0), (4415, 0.1978126634092915), (4416, 0.0), (4417, 0.0), (4418, 0.039216753923581274), (4419, 0.026460239465607598), (4420, 0.0), (4421, 0.0), (4422, 0.0), (4423, 0.0), (4424, 0.0), (4425, 0.0), (4426, 0.0), (4427, 0.0), (4428, 0.008146087797561942), (4429, 0.005544560516104127), (4430, 0.006459722290077631), (4431, 0.0), (4432, 0.005296209956630427), (4433, 0.0), (4434, 0.0), (4435, 0.006368877635857988), (4436, 0.006541436963928808), (4437, 0.0), (4438, 0.0), (4439, 0.014077478852185275), (4440, 0.007385965434832572), (4441, 0.0), (4442, 0.0), (4443, 0.0073070438301473355), (4444, 0.008043512394569822), (4445, 0.0), (4446, 0.0), (4447, 0.0058782806131526455), (4448, 0.0), (4449, 0.0), (4450, 0.0056944944534875605), (4451, 0.0), (4452, 0.0), (4453, 0.0296397761801138), (4454, 0.020142160775322243), (4455, 0.010364826358758305), (4456, 0.006250814582999488), (4457, 0.008472438792155899), (4458, 0.0), (4459, 0.0), (4460, 0.030376425307722915), (4461, 0.0), (4462, 0.05752650977836157), (4463, 0.0), (4464, 0.02955155043247672), (4465, 0.03045226238472009), (4466, 0.044247135257175337), (4467, 0.028722238152377157), (4468, 0.008763777050324556), (4469, 0.0), (4470, 0.010820893626897863), (4471, 0.02959691463595767), (4472, 0.009316008170185817), (4473, 0.0), (4474, 0.0), (4475, 0.0), (4476, 0.0), (4477, 0.007327456146494715), (4478, 0.05024467181884089), (4479, 0.025399965734278517), (4480, 0.0), (4481, 0.005887711941320632), (4482, 0.034030660996738474), (4483, 0.0), (4484, 0.0), (4485, 0.0), (4486, 0.016771992756873653), (4487, 0.024995794128840846), (4488, 0.0), (4489, 0.0), (4490, 0.019339721654021015), (4491, 0.009139111166817423), (4492, 0.008558720643723882), (4493, 0.1352180468728087), (4494, 0.0), (4495, 0.0), (4496, 0.0), (4497, 0.0), (4498, 0.0), (4499, 0.0), (4500, 0.0), (4501, 0.037173245239736995), (4502, 0.0), (4503, 0.006022560835446045), (4504, 0.0), (4505, 0.0), (4506, 0.0), (4507, 0.02992697838572444), (4508, 0.0), (4509, 0.0059018525795514875), (4510, 0.02826693416416967), (4511, 0.0), (4512, 0.0), (4513, 0.0), (4514, 0.0), (4515, 0.0), (4516, 0.021360368389474582), (4517, 0.0), (4518, 0.0), (4519, 0.007340768143811574), (4520, 0.0), (4521, 0.0), (4522, 0.0), (4523, 0.033036066075556786), (4524, 0.0), (4525, 0.0), (4526, 0.0), (4527, 0.0), (4528, 0.0), (4529, 0.04131445749549946), (4530, 0.0), (4531, 0.0), (4532, 0.0), (4533, 0.03602221520179086), (4534, 0.005812441085527809), (4535, 0.03168202456732736), (4536, 0.025838138267601618), (4537, 0.0), (4538, 0.0), (4539, 0.0), (4540, 0.0), (4541, 0.0), (4542, 0.009868939481601053), (4543, 0.006024828070724138), (4544, 0.0), (4545, 0.0), (4546, 0.012646819410907523), (4547, 0.011409693876065904), (4548, 0.0), (4549, 0.0), (4550, 0.014067418996077956), (4551, 0.0), (4552, 0.0), (4553, 0.005740485414119681), (4554, 0.0), (4555, 0.0), (4556, 0.0), (4557, 0.014957206655057648), (4558, 0.0), (4559, 0.0), (4560, 0.0), (4561, 0.0), (4562, 0.0), (4563, 0.027697974522591907), (4564, 0.19411170782225434), (4565, 0.0), (4566, 0.0), (4567, 0.0), (4568, 0.00947242123084343), (4569, 0.0077125427579538), (4570, 0.0), (4571, 0.0), (4572, 0.0), (4573, 0.0), (4574, 0.0), (4575, 0.0305731865734264), (4576, 0.0), (4577, 0.0), (4578, 0.0), (4579, 0.0), (4580, 0.0), (4581, 0.024333240784452915), (4582, 0.0), (4583, 0.0), (4584, 0.0), (4585, 0.0), (4586, 0.006475056927576739), (4587, 0.0), (4588, 0.02728686133793213), (4589, 0.0071564065663423555), (4590, 0.014386339365777281), (4591, 0.03170959929868368), (4592, 0.022821375808903033), (4593, 0.0), (4594, 0.0), (4595, 0.0), (4596, 0.0), (4597, 0.0), (4598, 0.0), (4599, 0.031123388688518903), (4600, 0.005879475398854143), (4601, 0.0), (4602, 0.02963728295215342), (4603, 0.0), (4604, 0.0), (4605, 0.0), (4606, 0.007944609157299786), (4607, 0.0), (4608, 0.005668831638256496), (4609, 0.14216306529519943), (4610, 0.0), (4611, 0.0), (4612, 0.0), (4613, 0.01729045117586797), (4614, 0.0), (4615, 0.0), (4616, 0.0), (4617, 0.0), (4618, 0.0), (4619, 0.007309321035979585), (4620, 0.0), (4621, 0.0), (4622, 0.02631716117977996), (4623, 0.0), (4624, 0.0), (4625, 0.0), (4626, 0.020772817225922415), (4627, 0.0), (4628, 0.0), (4629, 0.017246411303283558), (4630, 0.006541615893414318), (4631, 0.007695820668766213), (4632, 0.0), (4633, 0.0), (4634, 0.0), (4635, 0.0), (4636, 0.03424061134904632), (4637, 0.02797037988385104), (4638, 0.009206463613397272), (4639, 0.0), (4640, 0.0), (4641, 0.0), (4642, 0.007050313974375173), (4643, 0.008777073997884804), (4644, 0.0), (4645, 0.0), (4646, 0.008066083319532465), (4647, 0.005393545006689568), (4648, 0.0), (4649, 0.005681880662620386), (4650, 0.0), (4651, 0.0), (4652, 0.0), (4653, 0.0072543783203410294), (4654, 0.0), (4655, 0.0), (4656, 0.0), (4657, 0.0), (4658, 0.0), (4659, 0.0), (4660, 0.011974872884034773), (4661, 0.005397965260561845), (4662, 0.0), (4663, 0.01846034599451544), (4664, 0.0), (4665, 0.0), (4666, 0.0), (4667, 0.0), (4668, 0.0), (4669, 0.029181358358003735), (4670, 0.009679256051025181), (4671, 0.0), (4672, 0.0), (4673, 0.027741694994735732), (4674, 0.0), (4675, 0.0), (4676, 0.026664073186769187), (4677, 0.025793841293732737), (4678, 0.0), (4679, 0.0), (4680, 0.0), (4681, 0.0), (4682, 0.0), (4683, 0.009805075171421089), (4684, 0.0061999062753287275), (4685, 0.0), (4686, 0.0), (4687, 0.020471796052498117), (4688, 0.05315173829590658), (4689, 0.009595098412906542), (4690, 0.005718401916515526), (4691, 0.0), (4692, 0.0), (4693, 0.0), (4694, 0.0), (4695, 0.02833913620778795), (4696, 0.0), (4697, 0.009634390430481414), (4698, 0.0075536559658989245), (4699, 0.0), (4700, 0.0), (4701, 0.026169916353348432), (4702, 0.0), (4703, 0.008594511532063762), (4704, 0.0), (4705, 0.009411608214281168), (4706, 0.0), (4707, 0.0), (4708, 0.006139693817640305), (4709, 0.007965708870314392), (4710, 0.0), (4711, 0.0), (4712, 0.0), (4713, 0.0), (4714, 0.011652882356515865), (4715, 0.0), (4716, 0.0), (4717, 0.0), (4718, 0.0), (4719, 0.0), (4720, 0.0), (4721, 0.0), (4722, 0.0), (4723, 0.03641113470937764), (4724, 0.0), (4725, 0.021610296438523597), (4726, 0.007378518248578559), (4727, 0.030209945737165504), (4728, 0.0), (4729, 0.0), (4730, 0.05755039828045903), (4731, 0.0), (4732, 0.011030326646117021), (4733, 0.029132796866466908), (4734, 0.0), (4735, 0.0), (4736, 0.0), (4737, 0.0), (4738, 0.0), (4739, 0.012651072158057964), (4740, 0.0), (4741, 0.0), (4742, 0.016272176668511905), (4743, 0.005928035545128445), (4744, 0.0), (4745, 0.0), (4746, 0.0), (4747, 0.006893048439601954), (4748, 0.0090097989411692), (4749, 0.0), (4750, 0.0), (4751, 0.0), (4752, 0.0), (4753, 0.0), (4754, 0.013867908014253048), (4755, 0.0), (4756, 0.0), (4757, 0.0), (4758, 0.0), (4759, 0.0)]\n"
          ]
        }
      ]
    },
    {
      "cell_type": "code",
      "source": [
        "len(Recommendation_Score)"
      ],
      "metadata": {
        "colab": {
          "base_uri": "https://localhost:8080/"
        },
        "id": "W6Ke1XcLw4kL",
        "outputId": "3a0ca2fd-109a-4690-b5cd-47b6c2ebc463"
      },
      "execution_count": null,
      "outputs": [
        {
          "output_type": "execute_result",
          "data": {
            "text/plain": [
              "4760"
            ]
          },
          "metadata": {},
          "execution_count": 49
        }
      ]
    },
    {
      "cell_type": "markdown",
      "source": [
        "# Get All Movies Sort Based on Recommendation Score wrt Favourite Movie"
      ],
      "metadata": {
        "id": "iiaI4wWkxE3n"
      }
    },
    {
      "cell_type": "code",
      "source": [
        "# sorting the movies based on their similarity score\n",
        "\n",
        "Sorted_Similar_Movies = sorted(Recommendation_Score, key=lambda x:x[1], reverse=True)\n",
        "\n",
        "print(Sorted_Similar_Movies)"
      ],
      "metadata": {
        "colab": {
          "base_uri": "https://localhost:8080/"
        },
        "id": "xDhj_hXaxK3y",
        "outputId": "e771c0a7-22ac-4936-f3aa-648477bd0561"
      },
      "execution_count": null,
      "outputs": [
        {
          "output_type": "stream",
          "name": "stdout",
          "text": [
            "[(3134, 1.0000000000000002), (3133, 0.5748552326599322), (3132, 0.5520667880837227), (4070, 0.28383606184932897), (3979, 0.2456625850542835), (1579, 0.22544375483697882), (2850, 0.21527608340202561), (3968, 0.21325188260304917), (3982, 0.21000653339419995), (4406, 0.20400419564587915), (4415, 0.1978126634092915), (565, 0.19775179101686385), (4564, 0.19411170782225434), (3786, 0.1926704906897896), (3323, 0.16749639882085304), (3463, 0.15087886046078558), (3783, 0.1499598160532872), (3286, 0.14896097516068688), (3469, 0.14224472275002928), (4609, 0.14216306529519943), (1419, 0.1403302302724759), (4294, 0.13956610051456797), (3972, 0.13559898970075235), (4493, 0.1352180468728087), (1649, 0.13488282895164547), (2780, 0.1346331616081917), (4093, 0.13374551439794863), (1999, 0.1329207987888394), (1433, 0.13035364260959392), (1512, 0.12787472464606728), (88, 0.12759031028528756), (567, 0.12547938024233674), (2205, 0.1183920730467689), (231, 0.11636916240075505), (4071, 0.11508201264888825), (1111, 0.11283278903432356), (615, 0.11249373033698529), (3597, 0.1122948630873863), (1603, 0.11117449187226255), (666, 0.1107639931300437), (4285, 0.1095394535674572), (56, 0.10933504906509948), (55, 0.10872229559251607), (250, 0.10868365352286297), (716, 0.10783304703558136), (3135, 0.10619217017605899), (90, 0.10339682617878682), (1074, 0.10259860023036742), (3873, 0.10170927346051614), (2815, 0.09902442959981747), (1115, 0.09726067366227513), (1505, 0.09597018067214938), (95, 0.09530959162856134), (93, 0.09380906706011202), (4041, 0.09142278271149819), (94, 0.0861334686547939), (817, 0.08477376256304917), (4224, 0.08272096554583076), (1867, 0.08202470671652756), (54, 0.08129411036811122), (904, 0.08033611923246894), (3566, 0.07905267394943492), (4055, 0.07795835788887373), (3454, 0.07762311575412942), (893, 0.07735095915640355), (465, 0.07682535043971123), (472, 0.07675181774044477), (506, 0.0761506267255243), (4164, 0.07570361235441295), (2867, 0.07552980758487665), (3373, 0.07487430897785743), (1312, 0.07437536923082999), (3914, 0.07368993055840897), (2421, 0.07326875847475736), (3225, 0.07320138354292101), (3690, 0.07308327313696367), (3587, 0.07199607121997341), (1108, 0.0689445150574479), (3191, 0.06814113713517139), (2101, 0.0678932610832632), (1474, 0.06755839497513619), (4181, 0.06723044025121853), (591, 0.06607365139335392), (4342, 0.06604216741341103), (3607, 0.06494081515360203), (1315, 0.06474581861683265), (905, 0.06335554800512885), (603, 0.06329485105982395), (2442, 0.0628109863742741), (214, 0.06181494943793883), (1099, 0.061619848880405365), (1293, 0.06142593008107391), (572, 0.060906199431414225), (977, 0.05958171947909495), (341, 0.05885587392350184), (3141, 0.058836071371954526), (1138, 0.05879020973202582), (1727, 0.05876646570836946), (3591, 0.05814811039294775), (1343, 0.05808416897678842), (710, 0.0579119460170613), (4730, 0.05755039828045903), (4462, 0.05752650977836157), (2468, 0.05741786310953013), (619, 0.05706853638666706), (802, 0.05689014907007563), (522, 0.05646243733845871), (6, 0.05644135044906138), (4338, 0.05524768089618017), (3977, 0.0550218919989752), (4240, 0.05462056924406059), (3877, 0.05451195503356576), (4087, 0.053748973679099615), (777, 0.05368624021348255), (1150, 0.05322666576255695), (4688, 0.05315173829590658), (2710, 0.05257471648811474), (143, 0.05247673731442092), (1696, 0.05238566652167864), (544, 0.05211005937636), (2306, 0.05207987766714853), (323, 0.05194374151119654), (2316, 0.05193303149973811), (3562, 0.051916173030845975), (3747, 0.05171586051076658), (4205, 0.05165861746452423), (1069, 0.051457070659481484), (2022, 0.050665502798273775), (4478, 0.05024467181884089), (2666, 0.0496744367179409), (1940, 0.04914565037831362), (1127, 0.048855537721195316), (3846, 0.04859420405740928), (3744, 0.04797314315020079), (1013, 0.04716855233229825), (2357, 0.046865377868048744), (2888, 0.046810161849928734), (1195, 0.04646911295433623), (1776, 0.0461581534747464), (1137, 0.04601082056190897), (2847, 0.046000510053835354), (2507, 0.0457428213790186), (1381, 0.04572682818978162), (601, 0.04543843392969971), (3534, 0.04541443641175925), (681, 0.04524031719422715), (1911, 0.04519229618246137), (2062, 0.04517168971501498), (1925, 0.045050013108443775), (3036, 0.045048922587542464), (69, 0.04493918718070653), (2863, 0.044925275477150396), (1386, 0.044833980445948635), (3590, 0.04482079734678541), (1903, 0.04460400342860235), (656, 0.044591463266235226), (1651, 0.04453032677132161), (602, 0.04452486429189951), (1841, 0.04433863859780274), (3166, 0.04432480942078694), (4466, 0.044247135257175337), (3860, 0.044233529643017855), (443, 0.04388196926732592), (4289, 0.043822254614134235), (913, 0.043735738880524205), (3834, 0.04346768930463996), (1011, 0.04341315432840921), (4188, 0.04330108591280572), (1280, 0.043154363993542846), (1904, 0.04313467417845314), (3867, 0.04303653136357124), (1285, 0.04295039531963631), (1554, 0.042902698117244294), (1502, 0.042724442363342115), (3840, 0.0427098329479176), (3787, 0.04270444733900837), (128, 0.04258492832756641), (1873, 0.042495201116104046), (2830, 0.04248888373844235), (2649, 0.042315598600163526), (430, 0.04213513985674881), (1510, 0.042106162934573574), (2136, 0.04210000743449556), (592, 0.04204120902453751), (4091, 0.04179000224458239), (4123, 0.041640981247078164), (2775, 0.04145169892230349), (3609, 0.04141269361959767), (4363, 0.04138584760941352), (4529, 0.04131445749549946), (2330, 0.04115964350088036), (3723, 0.04099596023638933), (987, 0.04096487582667318), (918, 0.04092236197290669), (2609, 0.04088632234106935), (4264, 0.04079676216817906), (65, 0.04072095200733715), (189, 0.0406978528512004), (1066, 0.04047372540102975), (2865, 0.04021597740456177), (2501, 0.04009019903693814), (234, 0.03993572254939044), (2927, 0.03990897523217848), (3659, 0.039701857225543466), (1135, 0.039575259388175646), (1473, 0.03945884599947063), (4040, 0.03938045852369276), (4418, 0.039216753923581274), (1175, 0.0391817144608107), (4031, 0.03916095772361787), (3492, 0.03890874330456385), (579, 0.038691004996272114), (3100, 0.038546693244654706), (3773, 0.038359343223493686), (1592, 0.038099989547759984), (338, 0.037863119537232086), (320, 0.03782192552591683), (3247, 0.03779887328549295), (2898, 0.037798174852071834), (4334, 0.037795687491491106), (191, 0.037577575867966465), (2389, 0.037573141946690286), (1179, 0.037545824561767686), (700, 0.037529297618078286), (1281, 0.03718798259111116), (3965, 0.037180229561369314), (4501, 0.037173245239736995), (2851, 0.03714150721077072), (2955, 0.03697957815935671), (46, 0.036913919840356336), (1764, 0.03687489841313122), (339, 0.03681211147606368), (3031, 0.03673384299932466), (514, 0.03666403489193011), (22, 0.036544994377008165), (4723, 0.03641113470937764), (3923, 0.03627892529818622), (3657, 0.03625364756623797), (3980, 0.036169002316396234), (3022, 0.03607506925660134), (4533, 0.03602221520179086), (729, 0.03599444884481053), (67, 0.03587876550870182), (2843, 0.03584957886827703), (860, 0.03573547214234633), (3869, 0.03565808975126837), (76, 0.035642318424926066), (4015, 0.0355395627807753), (80, 0.0354804797902711), (2523, 0.035468817559355964), (1454, 0.035430069817546775), (1772, 0.03542359310282414), (3298, 0.03540122068572475), (4076, 0.03537396694757293), (3281, 0.03528017711132849), (3812, 0.035257393327728745), (2694, 0.03517821162690888), (2088, 0.03515699272829678), (2150, 0.035126169218971194), (461, 0.035121338230347104), (2187, 0.0351142271064613), (1292, 0.03510067316035814), (728, 0.035091253716546825), (3959, 0.03507953238416012), (2161, 0.03496665229887304), (497, 0.03494190069210176), (1373, 0.03493943662506005), (2500, 0.034888704545826175), (1799, 0.0348464963139966), (4113, 0.03482763032419098), (4033, 0.03478521118957402), (940, 0.034775740420496686), (2283, 0.03472062772985892), (537, 0.034700608622368394), (4106, 0.03464561370143214), (3467, 0.0346343383956363), (1091, 0.034518869282364674), (1499, 0.034513028073478585), (3886, 0.034379567044817747), (555, 0.03433581303535), (4636, 0.03424061134904632), (3184, 0.034176120556707594), (852, 0.034116497410008564), (1976, 0.034052304244097345), (4482, 0.034030660996738474), (3692, 0.033957365390962814), (2223, 0.0338745016901054), (599, 0.0337848240976477), (4298, 0.03368453196253495), (3426, 0.033666405477110015), (1477, 0.03365962735935028), (4046, 0.03364642922244914), (78, 0.03363958901556407), (179, 0.03362970638740875), (4318, 0.033526352606969664), (1855, 0.033522424618863754), (19, 0.033424188279445204), (1711, 0.03324628600513855), (233, 0.03323094286994276), (891, 0.033225149793219916), (2996, 0.03316140996848002), (3798, 0.033150633198716556), (53, 0.03304300154271729), (4523, 0.033036066075556786), (2450, 0.033023998410252865), (1445, 0.03301672966144322), (3709, 0.033002516749792724), (2154, 0.03298188339050341), (3907, 0.03295325771989584), (4090, 0.03295261716608233), (2233, 0.0329042029903707), (3592, 0.03290282942489239), (1566, 0.032824618565918576), (171, 0.032808471483898045), (2689, 0.03277158710116427), (307, 0.03274947799447402), (3531, 0.03269995135968387), (2091, 0.03267824798375944), (4273, 0.03262940462824331), (3908, 0.0325218729296083), (220, 0.032513081842866644), (2511, 0.032479082792528424), (418, 0.03243708917764687), (727, 0.03239296693565211), (2848, 0.03235018192656025), (1056, 0.03226013321132964), (3513, 0.03220379554258321), (1358, 0.03212753289789066), (3480, 0.032119349100485285), (375, 0.03210864612634643), (2944, 0.032052823491216714), (3018, 0.03203709253537221), (2991, 0.0320071192324026), (1469, 0.031976026548127444), (2431, 0.03196770618885724), (3131, 0.03192411765398902), (2340, 0.031893766929187474), (2351, 0.03186406325911623), (3772, 0.03185058231079785), (2535, 0.03180911434672793), (3937, 0.03174312046437594), (4591, 0.03170959929868368), (902, 0.031688673001379314), (4535, 0.03168202456732736), (3866, 0.03160175526212934), (1536, 0.03155017147373364), (45, 0.03154552567132661), (4153, 0.03153894036782144), (4272, 0.03136234278903708), (1366, 0.03135031561982586), (3876, 0.03128025650961744), (1653, 0.03127467690627078), (3352, 0.03126437148188539), (3745, 0.031258501274827113), (4299, 0.03125822167384656), (252, 0.03124299430686024), (273, 0.03116504628921079), (3094, 0.031151649795123627), (4599, 0.031123388688518903), (1151, 0.031099045891634078), (3718, 0.031059718765908243), (242, 0.03105615202336802), (2793, 0.03105020823112708), (3759, 0.03093532201083958), (1725, 0.03086134060924556), (2178, 0.030857334826339698), (1982, 0.030826718309399793), (1887, 0.030768094311385778), (39, 0.03066526636600044), (745, 0.030648512142502554), (3502, 0.03063749576247374), (274, 0.030618568873957308), (277, 0.030607922943298296), (4575, 0.0305731865734264), (2432, 0.03051823038952135), (515, 0.030471682668197574), (4465, 0.03045226238472009), (2019, 0.03040010895699604), (4460, 0.030376425307722915), (3734, 0.03036422471128784), (2158, 0.030300439722080658), (701, 0.030277295711259193), (2530, 0.03027593905091759), (2176, 0.030260845021042183), (1230, 0.03023149361299061), (4727, 0.030209945737165504), (2965, 0.030205877897375843), (1876, 0.030141884833568684), (477, 0.030139611019486538), (3123, 0.030128827465746952), (4140, 0.030127343277517156), (3611, 0.03011799681167562), (2371, 0.03005294926852789), (2859, 0.030043403664925535), (84, 0.030039970147984405), (1082, 0.029940134378510088), (4507, 0.02992697838572444), (257, 0.02991221485967477), (2782, 0.02987081039643636), (2517, 0.029835830400821862), (254, 0.029766179410743866), (1848, 0.02966981233470786), (4453, 0.0296397761801138), (4602, 0.02963728295215342), (3520, 0.029629890022980585), (2231, 0.029627749135604717), (4471, 0.02959691463595767), (4464, 0.02955155043247672), (2680, 0.029472706234530306), (3083, 0.02945096553705683), (3336, 0.029399161200781263), (1934, 0.029387036108721287), (2899, 0.029380312978771247), (2595, 0.029361006718018574), (3725, 0.02932006879893925), (1139, 0.02922563502972076), (2788, 0.02921580544416985), (206, 0.029199282610830643), (4669, 0.029181358358003735), (397, 0.029143135976264938), (1858, 0.029142554217872353), (4733, 0.029132796866466908), (2269, 0.02903693664285807), (2926, 0.02892142391887288), (342, 0.028906912747137005), (1188, 0.028862195997833663), (1224, 0.02882475746443134), (165, 0.028814066337883554), (874, 0.02881278168605512), (2544, 0.02877775905643538), (3193, 0.028764460084497442), (4467, 0.028722238152377157), (3385, 0.028691584288292396), (2479, 0.028680097751009073), (2182, 0.028651274571941825), (865, 0.02863034856069565), (491, 0.02860347854106955), (2037, 0.028598989193986454), (2588, 0.02858893612156315), (4114, 0.028583297501918885), (1341, 0.02856267190113064), (756, 0.028528744408287898), (997, 0.028503675966976796), (3449, 0.028491182222610927), (2982, 0.028490596463229448), (788, 0.028459890248515033), (4354, 0.028433021366123842), (920, 0.028405207794852717), (981, 0.028357247561699564), (1336, 0.0283475418032797), (4695, 0.02833913620778795), (380, 0.028301134384196756), (4346, 0.028300323202861986), (4095, 0.02828719304857187), (1407, 0.028271573938693794), (4510, 0.02826693416416967), (3714, 0.02822495214105086), (379, 0.028178039751021615), (1643, 0.028175064923423764), (3693, 0.028157634262231404), (4146, 0.02814479418032481), (3658, 0.02813092523103857), (3722, 0.028066203947152504), (2650, 0.02803523185520959), (174, 0.028030545186199695), (2439, 0.028022789662879015), (3797, 0.027999107652648868), (4637, 0.02797037988385104), (3765, 0.027942345244361084), (1164, 0.027939184595571556), (3897, 0.027933620998918024), (457, 0.02785323535076703), (914, 0.02784471123018933), (671, 0.02781876082968744), (333, 0.027803651266620984), (284, 0.027795928821779017), (1578, 0.027777119036826448), (2055, 0.027774997329929753), (4673, 0.027741694994735732), (1716, 0.027733561321915585), (479, 0.027731761709339296), (1265, 0.027714919797348053), (4563, 0.027697974522591907), (690, 0.027637258814188513), (2599, 0.027600889574698487), (3478, 0.027590506638557718), (4278, 0.027565035988955638), (4238, 0.02756374131414879), (3670, 0.02755473912317026), (3180, 0.027493891943659053), (3016, 0.027490875929744314), (4089, 0.02744133628848814), (1047, 0.02740797379518737), (3173, 0.027392481474189573), (2738, 0.027367507738121577), (2321, 0.02733348596938453), (1589, 0.027315304521283435), (4588, 0.02728686133793213), (2813, 0.02726912703315132), (1478, 0.027200900746309164), (4152, 0.027192517867638606), (4375, 0.02708660752505322), (81, 0.02702781032206108), (3335, 0.027010594669053395), (3158, 0.027001229681053736), (3889, 0.02698306707922172), (172, 0.026957165568896782), (1097, 0.026916558286790473), (758, 0.02689894207365158), (3532, 0.026884907083009037), (4320, 0.026808160068256127), (4183, 0.026782174242383935), (3163, 0.02676216350684213), (92, 0.026758603706587086), (2761, 0.02674421345003938), (1575, 0.026701646791700673), (117, 0.02666860126826262), (104, 0.026666235919955525), (3557, 0.02666603890362575), (4676, 0.026664073186769187), (1852, 0.02664648392357378), (4137, 0.026619350333489958), (959, 0.026593981729946935), (952, 0.026557310151905683), (1530, 0.026551221435358274), (2696, 0.02654911936356377), (1664, 0.026523481225733433), (2612, 0.02650021083780654), (606, 0.026490863757683517), (405, 0.02648029291532059), (4213, 0.026474121362203624), (1231, 0.026471079098359992), (662, 0.026464479127139104), (4419, 0.026460239465607598), (1057, 0.026451122518008758), (2708, 0.02641699607031705), (3487, 0.026405793480782598), (1617, 0.026380804179034902), (1190, 0.026378294907037435), (3118, 0.026372569121166266), (2131, 0.026337360359550123), (4622, 0.02631716117977996), (1284, 0.02628584856594425), (4333, 0.02628229881938354), (1140, 0.02625965820958666), (3405, 0.026219617052608585), (489, 0.026171131513523873), (4701, 0.026169916353348432), (4077, 0.02614219844862479), (1083, 0.026120404410138423), (1613, 0.026053315173365333), (138, 0.026051925615131706), (2471, 0.026038790704805095), (1092, 0.02603578034342932), (3045, 0.02602383769609635), (4391, 0.026012169320476203), (2860, 0.025980587405636184), (150, 0.02596983751678517), (106, 0.025940320137040604), (2107, 0.025937631679043345), (4085, 0.025908572708130528), (2278, 0.025891120651629573), (378, 0.0258548781410861), (1073, 0.02584634122784353), (3028, 0.025838991602444197), (4536, 0.025838138267601618), (4677, 0.025793841293732737), (4128, 0.02574044363678804), (4266, 0.025716855252879034), (3240, 0.02571555629974851), (1146, 0.025683537386859807), (509, 0.02557725145215129), (4150, 0.025544537000192824), (3900, 0.025516308028353966), (3888, 0.025497832614971756), (872, 0.025492504156348756), (4479, 0.025399965734278517), (2413, 0.025356003672898555), (4155, 0.025347848594608896), (364, 0.025317320183408473), (347, 0.025300829738163094), (2209, 0.025276540756994818), (383, 0.025264348733493005), (2452, 0.02520731475011134), (3963, 0.02519738408769921), (151, 0.025189699152147506), (2277, 0.025189337672562075), (3932, 0.025185059329224976), (769, 0.025183625463536155), (750, 0.025082817360709782), (3452, 0.025055697856159354), (4348, 0.025028947790165186), (4487, 0.024995794128840846), (3966, 0.024983910949042745), (460, 0.024938015874012967), (2984, 0.02491191191257137), (2031, 0.02491101439784841), (2804, 0.024893537331390037), (4139, 0.024880528929043043), (2280, 0.024848692557720237), (1733, 0.02484203993816807), (324, 0.024832459222495773), (563, 0.024827434001299463), (687, 0.024826310042611568), (2729, 0.024812320111135412), (1715, 0.02480407427597368), (2691, 0.024784779741183576), (1645, 0.02474764097262468), (1262, 0.024708620799495876), (2647, 0.02467561513694342), (600, 0.024653862123090398), (2713, 0.024644434673050636), (3839, 0.024630610809251323), (2571, 0.0246291729110998), (258, 0.024623763277871386), (1396, 0.024585026647153257), (1154, 0.024574400357185815), (1798, 0.0245431569530923), (2125, 0.024535737834885555), (4283, 0.02452145114595313), (963, 0.024501567047464777), (2338, 0.02449667929908308), (1007, 0.02446282343349478), (264, 0.02445529875021584), (4339, 0.02436689779683614), (1650, 0.024353402971097858), (674, 0.024351893027182187), (2025, 0.02434338247516054), (4581, 0.024333240784452915), (2218, 0.024304647512014096), (2618, 0.024250026884014515), (1269, 0.024228494832090015), (4154, 0.024204337877820135), (3427, 0.024187921436867113), (1864, 0.024135295345198628), (553, 0.024129123180302987), (3743, 0.024118053766328744), (2950, 0.024065516410266694), (3938, 0.024047159673139664), (2527, 0.023977543657603344), (31, 0.02390361073920043), (2030, 0.02389553491603614), (2616, 0.02387183912974364), (1515, 0.023865103948420917), (2715, 0.023861094612989242), (2642, 0.02385152631999008), (808, 0.023835536615893875), (1463, 0.023823759374244868), (260, 0.023819802438119313), (1608, 0.023810423561485224), (4063, 0.02374706812039614), (613, 0.023737866772156214), (1576, 0.023679612164081532), (3678, 0.02363903206080897), (4411, 0.023634179678993908), (593, 0.023622172710774273), (3528, 0.023618916045167828), (1662, 0.023613363359690057), (152, 0.023610532880514998), (367, 0.023589170409017327), (3084, 0.02358673202623383), (743, 0.023585316530892388), (261, 0.02358004390087392), (2117, 0.023553768207744064), (3360, 0.023534397064359072), (3367, 0.023524366198735002), (23, 0.02351851586287326), (1266, 0.023511076098979303), (4234, 0.023509979796652442), (2447, 0.023499659818680067), (3061, 0.02345573310843593), (2842, 0.023429816116247677), (2460, 0.023382199921354138), (4156, 0.02333766942593723), (4165, 0.023266807415248385), (1791, 0.023234382818807436), (3, 0.023211196306263657), (3619, 0.02309549051866163), (263, 0.023082317700728522), (15, 0.023079446581683594), (1618, 0.023068648162864015), (3565, 0.023063561171132774), (2770, 0.023057709629311668), (2474, 0.023022482329918454), (1895, 0.023004208848490797), (3422, 0.022981482408452523), (1837, 0.022942011402524026), (390, 0.022904938087476616), (3446, 0.0228751949807764), (625, 0.022868427400505254), (2632, 0.022833969321832497), (4365, 0.022830105302929952), (3328, 0.02282750891521844), (4592, 0.022821375808903033), (1775, 0.022815872111376548), (187, 0.02276762038988328), (2724, 0.022687898812307004), (3114, 0.022649403153488568), (3067, 0.022582808148523047), (932, 0.022568206136130996), (1222, 0.02256355209404657), (417, 0.02255661159911321), (569, 0.022555464102503888), (2539, 0.022525713238814048), (196, 0.022525242202680776), (432, 0.022442561189696685), (75, 0.022414738087983655), (3361, 0.022397109825628515), (1468, 0.02235390635361898), (1472, 0.022288457390176052), (64, 0.02220642072300761), (3195, 0.02219371850397361), (859, 0.022165202116160992), (1912, 0.022161068672295867), (1535, 0.022142792937466335), (2216, 0.022054869673683333), (733, 0.022040693232327303), (1354, 0.022016995205321098), (2219, 0.022008407694038938), (762, 0.022006919915963985), (349, 0.02196021591776595), (1296, 0.0218351956052218), (2355, 0.021794211470340694), (1458, 0.02179350344199558), (61, 0.021783901050254604), (1800, 0.0217636399713943), (4344, 0.021730068025359008), (1, 0.021728052516511973), (3543, 0.021704937656058337), (3957, 0.021698566958169848), (3194, 0.021630788711314162), (4725, 0.021610296438523597), (640, 0.021497631878003517), (2749, 0.02146222985775947), (1134, 0.021444618864652085), (116, 0.02143633077291075), (835, 0.021419256653985846), (3280, 0.0213909635061557), (4516, 0.021360368389474582), (2326, 0.021355871042653518), (2789, 0.021314683407880508), (1745, 0.02128985624975515), (1379, 0.02125603489194277), (2256, 0.02123176650955892), (661, 0.021229216144819475), (2800, 0.021185519584795646), (3129, 0.021181149923088442), (2645, 0.02114743187587869), (1788, 0.021068639310961236), (438, 0.02106089397529018), (751, 0.021054205841726924), (2221, 0.02103925733720812), (1787, 0.021030504617601687), (2491, 0.02097009021306215), (1278, 0.02095262480083709), (1974, 0.020917116252154394), (725, 0.020905520759114143), (4626, 0.020772817225922415), (368, 0.020714996629189457), (3276, 0.020712681852036778), (877, 0.020623923200578577), (314, 0.020589573897842335), (1802, 0.020560582162679975), (2998, 0.02054922712549905), (440, 0.02053742679364936), (3630, 0.020500775049311814), (1467, 0.020478289216958736), (4687, 0.020471796052498117), (647, 0.020457458403392217), (2521, 0.020441285098244708), (2937, 0.0202718189848501), (1886, 0.020161354925268344), (4454, 0.020142160775322243), (1306, 0.020085836399461092), (686, 0.020062847398271723), (2202, 0.019976036553753927), (1701, 0.019872850710639656), (1698, 0.01982765045271637), (1810, 0.01968745351667442), (2013, 0.0196649102665526), (1495, 0.019635384242718087), (828, 0.019609241657198833), (3588, 0.019533091167429066), (4490, 0.019339721654021015), (4401, 0.019312086118681696), (2359, 0.019295467892462777), (2337, 0.019274633656218905), (2451, 0.019224933688493543), (2598, 0.019189521579312335), (219, 0.019137425351697993), (903, 0.019117943108856318), (455, 0.01906464140469999), (3910, 0.019025448054167875), (2605, 0.018951978675826014), (3871, 0.018826018282968992), (2559, 0.018822837046399525), (3021, 0.018787221237921155), (1456, 0.01874444742448251), (1865, 0.018657187234009373), (3742, 0.01861570210795016), (4168, 0.01860676269738226), (1939, 0.018552583512593084), (4663, 0.01846034599451544), (1908, 0.018439872897079424), (724, 0.01839698958912281), (4364, 0.018396222165151934), (614, 0.018329500718650554), (2038, 0.018320749930643334), (570, 0.018293264940089836), (3453, 0.018277651952060332), (27, 0.018260132334049533), (38, 0.018213767752001887), (3059, 0.018209312561243314), (4276, 0.018193881346752764), (2075, 0.01818771240420855), (856, 0.01818686288729153), (1014, 0.01818585350478874), (1039, 0.01813953638565048), (4142, 0.01806623578025462), (283, 0.01806190808708181), (4199, 0.018057128817298915), (2180, 0.01805259124901077), (4196, 0.018044922295916418), (2493, 0.017897917373816706), (3448, 0.01785296989214709), (1022, 0.01783473183010842), (3641, 0.017811129885864595), (3685, 0.01774659098140525), (3468, 0.017722133320932146), (79, 0.017690904215645446), (4119, 0.01765609529820842), (1590, 0.017638979610756226), (3105, 0.01758423493567502), (2259, 0.017580137816823393), (3802, 0.017573740741305036), (1486, 0.017441213883908326), (2021, 0.01738848520597562), (101, 0.01738041728799255), (3771, 0.01737749175319167), (4613, 0.01729045117586797), (4629, 0.017246411303283558), (102, 0.01724498904914942), (2567, 0.017224617666004916), (303, 0.01721438431196373), (2472, 0.017211639052022634), (4379, 0.01719037902029305), (608, 0.01717785354335225), (2443, 0.017164950877800216), (1948, 0.017148054380676805), (1600, 0.017129290434151193), (2428, 0.017083365524098948), (218, 0.017057439731060622), (3997, 0.0170425629792224), (992, 0.017021024968416443), (546, 0.0170008974279894), (4312, 0.016956420954501332), (842, 0.016948896512862216), (2895, 0.01694263366996622), (153, 0.016939223912817856), (3181, 0.016927552835089836), (1697, 0.016854042548634162), (73, 0.01683538454823871), (3206, 0.016825911306483803), (1805, 0.01678763502910532), (3172, 0.01678453447779872), (3724, 0.016782083433059748), (2707, 0.016780439239197576), (4486, 0.016771992756873653), (1443, 0.016768932469651106), (2427, 0.016741491944477445), (1547, 0.016699419175499393), (1713, 0.016691525471201958), (936, 0.016680005939895576), (3062, 0.01665717036723353), (3623, 0.016654015100989825), (3419, 0.016644782766508756), (3850, 0.016644579944804082), (517, 0.0166187142655406), (4100, 0.016614726007275666), (560, 0.01661411161108973), (1031, 0.016608393215385292), (1437, 0.01659101668973379), (4255, 0.016548589113213514), (2198, 0.01649213618200687), (1398, 0.016474120272749297), (1466, 0.016427541825535213), (3516, 0.016399085072842365), (1700, 0.016345083508315542), (1413, 0.016338375417673717), (2164, 0.01630999272676143), (1677, 0.016306612293899923), (3560, 0.01629877617915413), (3332, 0.01628256312850605), (4742, 0.016272176668511905), (3231, 0.016241966564093074), (2217, 0.0162408861125783), (1460, 0.016198634806465266), (2688, 0.016139100226914636), (425, 0.01613126741047863), (424, 0.016109057646385063), (1374, 0.016093226246618294), (247, 0.016089550172968), (2672, 0.01606965095496217), (1321, 0.01604479204855307), (1240, 0.016042340507948956), (259, 0.016034242603518455), (1408, 0.015980515875162287), (3368, 0.015975314419128986), (516, 0.015951168224130646), (4044, 0.015928072709605858), (208, 0.01592297934828054), (3270, 0.01591036158776777), (3955, 0.01588987452431433), (2381, 0.015858296683582022), (2356, 0.01584698911970357), (2066, 0.01583694154479809), (3782, 0.01580436854172074), (2095, 0.01578520785355291), (135, 0.015777255764994474), (1581, 0.015772427345567015), (2061, 0.015762312834584524), (91, 0.015750793347000365), (545, 0.01572013077742528), (713, 0.015715520811307223), (2574, 0.015707948038067913), (217, 0.015691152959424526), (2555, 0.015651905927176205), (1129, 0.015649846386780734), (3720, 0.01564960144232603), (919, 0.01563658833305989), (3202, 0.015634638176075317), (57, 0.015629433229945852), (635, 0.015612434194643705), (554, 0.015586987191269719), (3998, 0.015558396943037536), (3605, 0.01554158339989278), (3794, 0.015534788541193934), (2232, 0.015513676980924315), (1812, 0.015507793986154327), (1973, 0.015506579449893193), (1705, 0.015504737582853825), (2177, 0.015499321553270856), (4274, 0.015469102871777142), (2751, 0.015426707169456681), (1657, 0.01541643214828414), (550, 0.015410759299529321), (2522, 0.01540459171401451), (3404, 0.015396783316961545), (1206, 0.015375446111667971), (3595, 0.015374546264093819), (715, 0.015365092049293178), (3697, 0.01536021660961701), (2506, 0.015333768337581918), (1570, 0.015326386337829935), (3586, 0.01530944822577722), (3342, 0.01530087912004189), (826, 0.01529998906461947), (1328, 0.015241731277983759), (1350, 0.015221562251824984), (956, 0.015208157908856997), (1225, 0.015201575651509244), (2016, 0.015185671870629535), (1259, 0.01516912832687595), (2067, 0.015146742119377988), (875, 0.01513825110118427), (2287, 0.015130971737669573), (990, 0.015120139564719921), (2015, 0.01510851998862893), (2711, 0.015042064215813812), (492, 0.01500485541917414), (1254, 0.01499945732000065), (1572, 0.014981301246140222), (1346, 0.01497557561926565), (1587, 0.014974540148391793), (4557, 0.014957206655057648), (2208, 0.014945845791853145), (201, 0.01492154116551192), (1883, 0.01491062044020264), (3525, 0.01491026039264903), (4211, 0.014899251686963624), (1380, 0.014895739903488466), (118, 0.014883318280397437), (849, 0.0148660661661426), (763, 0.014858389875717654), (1901, 0.014844683613814403), (2554, 0.014839010660626954), (36, 0.014815371462214472), (4056, 0.014795656950714796), (2940, 0.014786713154884147), (3849, 0.014780873602514845), (148, 0.014776190662912508), (2353, 0.014746714077617747), (2285, 0.014740767247066027), (1577, 0.014737451036569354), (130, 0.014735228329244072), (2444, 0.01472798571444368), (631, 0.014717380141292376), (1185, 0.014700059355952668), (965, 0.01469008574638311), (793, 0.0146797805786456), (1244, 0.014657344024212371), (3156, 0.014634433902314448), (1931, 0.01461806731387403), (1045, 0.014607593393096443), (3124, 0.014603874228369031), (1971, 0.014573608658041318), (160, 0.014559823194088994), (1436, 0.014539110800045137), (946, 0.014515193495879557), (4210, 0.0145076306153655), (2640, 0.01444829649534942), (3870, 0.014438280150054607), (1936, 0.014420541670301379), (2682, 0.014420155207697799), (4103, 0.014415332596448768), (1522, 0.014414381663109255), (528, 0.014413472205417034), (2058, 0.01440555042499174), (1440, 0.014400114300538398), (4590, 0.014386339365777281), (653, 0.01438604135177891), (498, 0.014381849925000582), (714, 0.014367069183909665), (2294, 0.014350995425281659), (2549, 0.014333056799604232), (1611, 0.014250204711960812), (1546, 0.014248254591763227), (59, 0.014246907754751046), (3568, 0.0142353072062417), (2045, 0.014218530151007169), (821, 0.014210319751138623), (539, 0.014191878065259638), (4112, 0.014144812837985285), (4018, 0.014135443349126562), (4099, 0.01410802243209041), (1604, 0.014103563379466468), (321, 0.014080561606544617), (4439, 0.014077478852185275), (3700, 0.014076649450622526), (322, 0.014074576454052964), (2153, 0.014072223889988767), (4550, 0.014067418996077956), (467, 0.014059734156416575), (1012, 0.014059431046510636), (1846, 0.014050564629901105), (945, 0.014030650483152479), (2826, 0.014023377519047383), (966, 0.013986921378380097), (2298, 0.013961023277342211), (3136, 0.013948893282843261), (3629, 0.013943626449570477), (305, 0.01394028240026957), (2103, 0.013930290222922779), (315, 0.013919010455809521), (3582, 0.013876652913283863), (4754, 0.013867908014253048), (2014, 0.013844676688294423), (1113, 0.01381949142627055), (292, 0.013817440603576488), (568, 0.013808850407377334), (310, 0.013789821638523176), (1046, 0.013775676386996843), (1207, 0.013729266360074117), (954, 0.013654746534518751), (1212, 0.013652926599877147), (1001, 0.013626047734571023), (1789, 0.01362445991620265), (3051, 0.013622942761733278), (3645, 0.013619248703445386), (1385, 0.013603262279941783), (1898, 0.013571607395195098), (2114, 0.013560751740478875), (915, 0.013531987240903348), (1368, 0.01353170344804587), (3795, 0.01351545078016532), (3232, 0.013514318829517896), (540, 0.013500818081073033), (2139, 0.0134904691189001), (4193, 0.013478689797660372), (2093, 0.013449442925851984), (2622, 0.013448304510339749), (1412, 0.013419810887746651), (1797, 0.01341962670136355), (911, 0.0134049638339125), (2573, 0.013305182924197339), (1277, 0.013294846535744977), (468, 0.013292311172917383), (1310, 0.013268580894401642), (32, 0.013267803440270405), (316, 0.013262285191811045), (394, 0.013252602518319521), (1173, 0.01321426066632158), (2803, 0.013208670454533033), (306, 0.013181676694104074), (501, 0.013163837525543627), (2584, 0.013160498443963916), (2448, 0.013160138545168749), (1675, 0.013107249811228922), (3099, 0.013081208777030461), (1273, 0.013064247802182807), (2426, 0.013048538432349856), (426, 0.013027271905340929), (327, 0.013010498581025216), (2433, 0.013007903133331937), (1005, 0.01300002799741435), (1987, 0.012959437724452232), (1567, 0.012958214670143114), (1809, 0.012915393003860316), (2185, 0.012913338790528547), (2484, 0.012894303387488282), (2078, 0.012857380058246834), (519, 0.012786634177970439), (290, 0.012785217251960768), (3574, 0.012764460952616255), (3065, 0.012731356529594975), (1352, 0.012722893114110696), (4739, 0.012651072158057964), (4546, 0.012646819410907523), (1387, 0.012646504543063855), (2065, 0.012629331961845163), (4302, 0.012535131169039032), (496, 0.012497135315795924), (2237, 0.012486586686152153), (2822, 0.01245534489510152), (2837, 0.012441994187580128), (3096, 0.012407334943114471), (295, 0.012328991896417722), (1309, 0.012302972759264973), (1301, 0.012282305223639394), (3307, 0.012236710748611901), (3779, 0.012225278321228264), (2619, 0.012218950390249608), (4373, 0.012202976697850082), (639, 0.012135870479928357), (692, 0.012122898838659508), (2286, 0.01212229996205287), (63, 0.012111551255500355), (3610, 0.01205666158124763), (1709, 0.012018438134895247), (4660, 0.011974872884034773), (949, 0.011972528978580504), (561, 0.011934607038457896), (2769, 0.011860796263940545), (2756, 0.011851892818878496), (4267, 0.011841268309811071), (2296, 0.01184065494577419), (469, 0.011838517021732189), (2051, 0.011836112171107124), (4281, 0.011834883752116944), (1326, 0.011814552137232074), (4261, 0.011806495338506902), (2010, 0.011801207147544037), (2403, 0.011780605865623803), (289, 0.011769578030657254), (3089, 0.011751945154007506), (4714, 0.011652882356515865), (3190, 0.011650251512431037), (2646, 0.011530558160194162), (2774, 0.011494700104038387), (1275, 0.011494313081083545), (739, 0.011469069870845127), (4207, 0.011442594445349534), (3391, 0.011435322520418153), (2994, 0.011427645677243557), (4101, 0.011410453491638986), (4547, 0.011409693876065904), (1924, 0.011397568661268386), (2579, 0.011392122503668773), (3080, 0.011370380591679195), (3205, 0.01136244459555864), (3584, 0.011344203857868475), (2436, 0.011308654969899475), (1928, 0.0112916973693444), (1923, 0.011239938418688724), (1418, 0.011212695288772924), (2418, 0.011153104607776618), (3439, 0.011077663802157432), (3857, 0.011076605172351844), (4300, 0.011050051248482292), (2324, 0.011049314195254612), (4250, 0.011048865631357945), (4732, 0.011030326646117021), (961, 0.011021605855038344), (1836, 0.011011506718917603), (452, 0.010984016854066823), (262, 0.010971997413324474), (4371, 0.010947436996005819), (3001, 0.01089894976123056), (3511, 0.01087107249897703), (672, 0.010856783261493511), (2309, 0.010853679499242744), (4470, 0.010820893626897863), (3625, 0.010814766562784496), (663, 0.010806066274271685), (3688, 0.010794836679817107), (3777, 0.010793830420234499), (3408, 0.010789861821492079), (255, 0.010777798550205931), (3048, 0.010773115219361086), (2798, 0.010761814913465742), (2988, 0.01074058574662619), (1116, 0.010725701504255194), (4395, 0.010719767516985057), (1003, 0.010687508779762104), (3809, 0.010677646165734253), (4378, 0.010666263671548108), (1210, 0.010642361349856447), (3551, 0.010640739413876648), (4014, 0.010639338875398259), (573, 0.010624776319841767), (747, 0.010612436560157886), (3648, 0.010606538156010639), (4016, 0.01054655954803626), (3778, 0.010546021505238867), (4149, 0.010538468160355158), (2582, 0.010531926290501826), (2416, 0.010526578874822825), (685, 0.010502749777687373), (3515, 0.010502185627569096), (2732, 0.01049803976959025), (483, 0.010488052887677393), (3919, 0.010485989444288567), (2246, 0.01048455222862761), (1131, 0.010478999037381942), (2792, 0.010469737512339062), (3576, 0.010452610148948415), (1019, 0.010434876710887124), (2086, 0.010432608318682882), (74, 0.010427133758391677), (1192, 0.010424568737841786), (1998, 0.010421856762131872), (3792, 0.010396642510420589), (1983, 0.010393513908178177), (1077, 0.010386873412741476), (4455, 0.010364826358758305), (2790, 0.0103448723976514), (2297, 0.010338084149443162), (983, 0.010326980378033692), (4314, 0.010317090493540538), (2169, 0.01030863561811029), (1205, 0.0103066687035946), (3701, 0.010297552563815952), (3435, 0.010293662306921832), (993, 0.010279445016457917), (3578, 0.010248365801371085), (969, 0.010245925246147598), (2090, 0.010238014591930005), (850, 0.010237520749360749), (778, 0.010219770491162534), (1028, 0.010211388509975746), (3233, 0.010209080572527472), (2226, 0.010188395412838253), (2802, 0.010184711555063033), (938, 0.010182737007022885), (346, 0.01015365180782276), (413, 0.010145748331811717), (3066, 0.010142180679592069), (1304, 0.01013610281263146), (2808, 0.010130206401499055), (1361, 0.010104971209014914), (3929, 0.0100935793007073), (3542, 0.01008440318543766), (3315, 0.010084256472738562), (1250, 0.010077846552849497), (4309, 0.010075517908353631), (4194, 0.01006825773283663), (4216, 0.010067150534458572), (4054, 0.010063346402077875), (112, 0.010056603630721578), (1101, 0.010050574420058437), (1329, 0.010041062205284517), (2128, 0.010035369196832181), (4189, 0.01002296650336206), (28, 0.009999162745607549), (4252, 0.009965502315305342), (3305, 0.009962600703948032), (1233, 0.009948583391335836), (4383, 0.009946353795799459), (3594, 0.009941467283475173), (1353, 0.009922175776614238), (3407, 0.009906906826767438), (1782, 0.009900502724903571), (2271, 0.009899565063468237), (3638, 0.009897535060896126), (4542, 0.009868939481601053), (4022, 0.009837732140405665), (1256, 0.009806597556789226), (4683, 0.009805075171421089), (643, 0.009800923320464915), (798, 0.009799625317623425), (4110, 0.009796944614563772), (620, 0.009788723534627728), (1783, 0.009786613114318315), (4192, 0.009785766404317761), (1051, 0.009784946936993364), (427, 0.009757673992198072), (1991, 0.009756001695646482), (4382, 0.009749842867598595), (2100, 0.009745552799602578), (2835, 0.009718194861442101), (439, 0.009708462213207175), (549, 0.009704374194673085), (167, 0.009689947820561467), (4670, 0.009679256051025181), (655, 0.009673799897392869), (1966, 0.00967361982428435), (2824, 0.009652028109980795), (389, 0.00964148990844965), (4697, 0.009634390430481414), (1291, 0.009631065235810192), (2542, 0.009628044714807013), (1984, 0.009623223709997696), (1061, 0.009620362329687817), (121, 0.009611247730977112), (1029, 0.009606764062831296), (1487, 0.009599062265664213), (3127, 0.009598738544962654), (4689, 0.009595098412906542), (3994, 0.00958193682270323), (3047, 0.0095796072002834), (3954, 0.009571074218672575), (2496, 0.00956210338747565), (1750, 0.009559947325350468), (3223, 0.009555828317861047), (3853, 0.009552285816407493), (829, 0.009547883334654124), (3377, 0.00954704580428337), (2532, 0.009545817806243298), (1245, 0.009542479629326367), (4277, 0.009538929189812901), (2828, 0.009536238798147172), (419, 0.00951804460494671), (212, 0.009514751165556185), (4350, 0.009491900902121455), (2995, 0.009484303758239042), (4568, 0.00947242123084343), (3705, 0.00946019676929652), (2740, 0.009452628854989504), (702, 0.009446339966339187), (1295, 0.009424640129690588), (124, 0.009420532793222344), (4705, 0.009411608214281168), (2145, 0.009406860290074651), (1606, 0.009396494001854199), (2578, 0.009388400340221235), (4269, 0.009384630104329654), (2644, 0.009381698850052066), (3079, 0.009381317985151948), (805, 0.009377333212672253), (4086, 0.009358638993388926), (812, 0.009348773469536446), (2806, 0.009348544000480121), (2906, 0.009346701085654384), (1756, 0.009317935587487636), (4472, 0.009316008170185817), (3294, 0.009301102936892486), (3655, 0.009297071180689991), (604, 0.009291036734889225), (3656, 0.00928187848966086), (1758, 0.009274930374975801), (149, 0.0092656640773701), (463, 0.009259525224364528), (4160, 0.009255900234899932), (1964, 0.009250654060277601), (1640, 0.009233567870462712), (4118, 0.00922122665579581), (1601, 0.009206650115337845), (4638, 0.009206463613397272), (2654, 0.00919578201517409), (2168, 0.009171257206022406), (4191, 0.009163040616851895), (2074, 0.00915700972254917), (3082, 0.00915369718288589), (365, 0.009143960579590795), (4491, 0.009139111166817423), (4130, 0.009137544848543375), (776, 0.00912843202212561), (1571, 0.00911391321628745), (4034, 0.009086859507282039), (3817, 0.009082827566009031), (1838, 0.009055942880566086), (2265, 0.009037159819726172), (511, 0.009035954896563926), (3628, 0.009035952649792954), (1171, 0.009034861410748555), (1055, 0.009029481289495276), (3201, 0.009022195525900355), (3389, 0.00901039640478194), (4748, 0.0090097989411692), (2755, 0.009005831243642185), (3703, 0.009000744001043294), (4351, 0.008997541255103852), (1584, 0.008990648607036342), (4323, 0.008984590806535075), (3695, 0.008948355891878966), (2960, 0.0089350842982538), (3634, 0.008923105581037505), (3444, 0.00891942273552791), (190, 0.008913049081367332), (3387, 0.008907040252955311), (340, 0.008890021731176085), (1926, 0.0088757496958919), (4158, 0.008855608460946374), (3115, 0.008852247102553164), (86, 0.008846447700543178), (3068, 0.00883938153565356), (3484, 0.008815162047600028), (1095, 0.008802368677041974), (3160, 0.008801130990006763), (362, 0.008794925185071283), (3185, 0.008785492992371016), (1955, 0.008781183228290147), (1844, 0.00877856214067571), (4643, 0.008777073997884804), (1249, 0.008766695796443132), (4468, 0.008763777050324556), (3063, 0.008755969160388398), (947, 0.008742985460305937), (1707, 0.00873524580946501), (3461, 0.008734938024848362), (1932, 0.008719508718902364), (912, 0.008713558630991925), (2877, 0.008710350068161466), (1333, 0.008708557083422585), (363, 0.008704607880417492), (1731, 0.008704002346797484), (1388, 0.008696130283836758), (1221, 0.008673856076042229), (3272, 0.008669044503816167), (3713, 0.008665627519657564), (2048, 0.008663548939719138), (3208, 0.008663198882930129), (1324, 0.008646343124037746), (4202, 0.00863708132597807), (1470, 0.00863394705133759), (376, 0.008617984996463105), (297, 0.008615119437263473), (1624, 0.008605163127337305), (298, 0.008601255191167462), (1950, 0.00860108794401865), (401, 0.008598471628279952), (17, 0.008597915974434961), (4703, 0.008594511532063762), (3091, 0.008573237478346839), (361, 0.00855944245198988), (4492, 0.008558720643723882), (4288, 0.008554073938884538), (1120, 0.008552325382451341), (843, 0.008551244393945459), (1389, 0.008541893601105358), (3735, 0.00853338533687465), (3331, 0.00853316084071248), (2504, 0.008519689575141414), (1401, 0.008517059458379522), (2441, 0.008513725220500657), (301, 0.008504547417973287), (2377, 0.00850230095912074), (2667, 0.008500436340162988), (2725, 0.0084995692053769), (1475, 0.008487650331458197), (3538, 0.008480289581169465), (4347, 0.008474822477576381), (4457, 0.008472438792155899), (3482, 0.008466827008727204), (2249, 0.00846604024279896), (871, 0.00845459344877232), (2569, 0.008427301380633398), (996, 0.008419506828693048), (1889, 0.008416422894576923), (1165, 0.008407626139716658), (1965, 0.008406380652628484), (2768, 0.008395226404133637), (433, 0.0083880422243754), (3559, 0.008386946504183075), (156, 0.008378802871117376), (2657, 0.00836433131185586), (2659, 0.00835709137696911), (3805, 0.00833972896909232), (2637, 0.00833934920140997), (3917, 0.008321127304312927), (1198, 0.008317566407391458), (1961, 0.008300938678962661), (2641, 0.008299609219491022), (3058, 0.00826888316168579), (2018, 0.008263010064650607), (299, 0.008258140173928454), (2887, 0.00825192582454923), (921, 0.008242193406317051), (182, 0.008239603726516465), (1459, 0.00823302917757046), (2990, 0.008232466650798648), (720, 0.008227629719138239), (4218, 0.008217701649158492), (3346, 0.008217230998600071), (909, 0.008217048531388924), (4195, 0.008209577622668676), (610, 0.008198227970463103), (1287, 0.008184717505579657), (3715, 0.008171243313131585), (4428, 0.008146087797561942), (2275, 0.008141138476455465), (3635, 0.00813580595524484), (4036, 0.008116081761671173), (4303, 0.008101789175488648), (1706, 0.008098161929744592), (2922, 0.008067549684464902), (4646, 0.008066083319532465), (1087, 0.008063048324292416), (241, 0.008045903879716675), (4444, 0.008043512394569822), (1738, 0.00804162026611849), (2763, 0.008038684133241287), (1272, 0.00802926327159342), (3397, 0.008013272846021638), (3472, 0.008010511825906886), (453, 0.008007572980627823), (1598, 0.007994664876958631), (2590, 0.007981726594786704), (1490, 0.00797016474155543), (4709, 0.007965708870314392), (2600, 0.007945416981390781), (4606, 0.007944609157299786), (3121, 0.007940614323249369), (119, 0.007912375939573583), (935, 0.007909545930918261), (2671, 0.007882848532389622), (2050, 0.007880128271829793), (2795, 0.007878990226049147), (2473, 0.007865053879493862), (3991, 0.007852657360417476), (4292, 0.00782650482249332), (1607, 0.007826042692795491), (1471, 0.007824573265352434), (3826, 0.00781620062097949), (300, 0.007811964501631184), (1307, 0.00780819345544154), (4270, 0.00778686424245849), (409, 0.007774141917052986), (1283, 0.007773445776178612), (3726, 0.0077561929058845794), (2415, 0.007745418200771389), (1327, 0.007744237296379224), (2363, 0.007738878338548205), (9, 0.0077313168336082885), (1514, 0.007727025676536752), (345, 0.007716691831703952), (4569, 0.0077125427579538), (4122, 0.007711626756726412), (4631, 0.007695820668766213), (4221, 0.007691924104531242), (594, 0.007672098074327612), (4405, 0.007668384506489049), (4009, 0.0076598537023685785), (2183, 0.0076581221541328695), (1833, 0.007650603670555804), (2920, 0.007644205389869683), (369, 0.007634245861909858), (1308, 0.007632420752474426), (35, 0.007622643120056482), (3395, 0.007608320670919588), (2741, 0.007583870217088792), (1067, 0.0075736797082678825), (2864, 0.007571659958535645), (1079, 0.0075671991178755844), (4698, 0.0075536559658989245), (1529, 0.007550641871848265), (1521, 0.007544497492559051), (0, 0.007539065598706998), (1114, 0.007532454632428713), (1351, 0.007531226610041154), (3275, 0.007521604220793939), (948, 0.0075165545454049885), (3458, 0.007514494776290359), (428, 0.007512522816464542), (1242, 0.0074817160722779885), (2615, 0.0074613178078786965), (1397, 0.007447713289826932), (37, 0.0074412555177113884), (951, 0.007438274098598242), (1219, 0.007432164925224767), (286, 0.007427106879765686), (3598, 0.007422063794931045), (2378, 0.007413230484791719), (77, 0.007412553349805088), (2778, 0.007411488638319244), (1258, 0.0074080623084786705), (3785, 0.007400893107660955), (7, 0.007398017940624061), (4440, 0.007385965434832572), (4726, 0.007378518248578559), (2581, 0.007375274745064242), (3168, 0.00736399404250345), (125, 0.007363022483910137), (1288, 0.007362916003109141), (4144, 0.00735586724855381), (4519, 0.007340768143811574), (4477, 0.007327456146494715), (3327, 0.007326679357454168), (1016, 0.007322933091380684), (108, 0.00731164610547658), (4619, 0.007309321035979585), (4443, 0.0073070438301473355), (670, 0.00730283512406846), (2077, 0.007296520945568245), (1050, 0.007279453557295379), (699, 0.007270007749468757), (3741, 0.007262846732173127), (4653, 0.0072543783203410294), (2352, 0.00725307677002708), (2772, 0.007229047703145325), (3165, 0.007222638012258029), (3947, 0.00721836391368439), (4244, 0.007200993221444175), (3383, 0.007198943284206289), (1850, 0.00719758950994684), (3803, 0.007183223310354902), (3708, 0.007179145521189558), (2188, 0.007163929019062177), (4589, 0.0071564065663423555), (1194, 0.007156292536966133), (3394, 0.007131031424121623), (3064, 0.007121791690963073), (1919, 0.007118315167686867), (1540, 0.00710547612689261), (2459, 0.007105442498750439), (3263, 0.007102723425203976), (4293, 0.007090648407499561), (2006, 0.007061732692411704), (795, 0.007060277809195229), (3680, 0.00705177136756384), (4642, 0.007050313974375173), (58, 0.007047593979075877), (1506, 0.0070375318843318175), (1941, 0.00702879447244885), (2676, 0.0070148273154195424), (2810, 0.00701474305109022), (2625, 0.00699766014508231), (1815, 0.0069959348275646744), (2881, 0.006991612858670467), (3384, 0.006990151247795352), (1708, 0.006989468751945818), (2670, 0.006985698041152087), (2034, 0.006980465468977948), (2127, 0.006966105389507993), (2364, 0.006947423572113583), (4131, 0.006945047051747735), (726, 0.00692442837538102), (1332, 0.006923569229921271), (2476, 0.006921980824644092), (3440, 0.006921512519205769), (512, 0.00692087540312736), (2720, 0.006918564499291492), (1560, 0.006912399024626271), (458, 0.006907492196434795), (753, 0.006906339617935648), (4747, 0.006893048439601954), (3044, 0.006892001565518498), (533, 0.006887729827024057), (3424, 0.0068760289520766555), (4121, 0.006875129155124022), (3312, 0.006872518914506778), (682, 0.00686956102887588), (3450, 0.006865866822922765), (1591, 0.006856036333125771), (1023, 0.006854022513905884), (40, 0.006852670679556428), (1681, 0.0068466224555306), (2754, 0.006839372094896611), (2082, 0.006837562440333996), (2576, 0.006829205768337155), (3253, 0.006823738495090183), (3221, 0.006818882804565005), (2943, 0.006816158325330961), (2947, 0.006804111361730493), (1968, 0.006801919457833198), (2012, 0.006789286196353345), (2840, 0.006780501381491303), (139, 0.006734294398362588), (48, 0.006730080047060577), (3152, 0.006694402448150999), (2383, 0.006691143899927959), (2854, 0.0066854143173282615), (4116, 0.006679561170472721), (1141, 0.006678247681158929), (350, 0.006676778971325895), (1162, 0.006674063251689802), (4098, 0.006670932377728168), (683, 0.0066701669444384415), (381, 0.006660036387460153), (1989, 0.006659355426277295), (2361, 0.006659316667859956), (688, 0.006657661455286662), (386, 0.006657319375967413), (1822, 0.0066554445787353565), (2243, 0.006643841605434085), (237, 0.006638525986740932), (210, 0.006636039784475293), (3593, 0.006625688472478062), (1894, 0.006625470392021565), (3112, 0.006614753019311408), (3862, 0.006609144763636297), (2880, 0.006596475296852944), (1511, 0.0065951397653931125), (3676, 0.006587802789014379), (41, 0.006579577345982689), (4384, 0.006576201574987957), (162, 0.006570224786999222), (4249, 0.006569659421725526), (2040, 0.006566755493792072), (10, 0.006565624715513584), (180, 0.0065651340999389), (2819, 0.006565068408866794), (1687, 0.006564262328109692), (3438, 0.006552963687749453), (1513, 0.006542171385896946), (4630, 0.006541615893414318), (4436, 0.006541436963928808), (2626, 0.00654008868799442), (534, 0.0065398662665528805), (3522, 0.00653979563585906), (1736, 0.006528611382776341), (2811, 0.006528231965381153), (1537, 0.006526059744295197), (3310, 0.006513374189720341), (673, 0.006506934753140328), (1432, 0.006501039360028748), (3210, 0.006490595209182552), (1174, 0.006490499363688403), (986, 0.006489401822731936), (2714, 0.006489318361486051), (3097, 0.006489005967079195), (1659, 0.00648758468869979), (68, 0.006485356460548023), (926, 0.006483524966246677), (1393, 0.006480753876615397), (2085, 0.006478921004449443), (848, 0.006477328224611071), (595, 0.00647572533682292), (4586, 0.006475056927576739), (3259, 0.006472188274905204), (123, 0.006471865789739801), (4094, 0.00647053517583261), (3698, 0.006469683162639535), (3374, 0.006467456523590489), (2044, 0.006467269329250512), (4430, 0.006459722290077631), (787, 0.006458520346541171), (2959, 0.006454893338650492), (1732, 0.006447106130658902), (2963, 0.006446822886124484), (3710, 0.0064426050225721), (513, 0.00644179504688481), (775, 0.006441308434843254), (1564, 0.006437913460601145), (4005, 0.006435195401766235), (4038, 0.006434268608567621), (3451, 0.006434036530691245), (1735, 0.006431151807258101), (232, 0.006430482459273156), (3604, 0.006417981079786181), (4392, 0.00641530232026946), (1853, 0.006402806272795079), (1229, 0.006396894536193892), (1516, 0.0063905532609138125), (4390, 0.006381771033177699), (1734, 0.006376308952119902), (4435, 0.006368877635857988), (3227, 0.006360852874219024), (2083, 0.006356164534414719), (1024, 0.0063544357594166245), (4045, 0.006335425055025658), (3642, 0.006332191689985365), (3507, 0.006325595179464557), (1015, 0.006325541477675022), (1949, 0.006324424234518063), (3514, 0.006323490455738681), (3432, 0.006323285508541328), (3603, 0.006322832251663863), (2081, 0.0063205399856922344), (2910, 0.006320388181996138), (3241, 0.006312437002575772), (3486, 0.0063029510825957456), (908, 0.006289268080760194), (2124, 0.006286119821460358), (1122, 0.00627720991765944), (3464, 0.006271210105235263), (1599, 0.006268667323294193), (641, 0.006260796785349007), (928, 0.0062580418188777015), (845, 0.006251603182386223), (4456, 0.006250814582999488), (244, 0.006250485732433911), (1484, 0.00624685961014611), (809, 0.006246248554083358), (2668, 0.006246142791663657), (994, 0.006239678966699451), (4001, 0.0062300629455864145), (1847, 0.006220954493422834), (3443, 0.006218904073872649), (4248, 0.0062188784488308455), (1504, 0.00621837940216048), (1335, 0.006217994735078277), (1881, 0.006215609526309053), (644, 0.006203817893816626), (2562, 0.006201257130045343), (4684, 0.0061999062753287275), (3602, 0.006195802445918669), (3546, 0.006189829829354146), (1985, 0.006186342246900102), (3169, 0.0061814662791041496), (3814, 0.006168682517618501), (3297, 0.006161550139938274), (1252, 0.006158667687422976), (3807, 0.0061554504641885876), (3174, 0.006151394888777915), (1945, 0.006145143132029523), (3445, 0.006140931865335935), (4708, 0.006139693817640305), (825, 0.006139140169250251), (1740, 0.006130024112359209), (869, 0.006127828626213515), (2706, 0.0061253132495866225), (336, 0.006115971279847062), (2212, 0.006114246968030345), (1302, 0.006113675108993114), (1678, 0.006107619774626286), (1017, 0.006103441233683854), (3441, 0.006091300952153284), (328, 0.006089215761223022), (749, 0.0060781463085768945), (1455, 0.006076973150378667), (3978, 0.006072800449801668), (3416, 0.006069740299446741), (1338, 0.00606916101755472), (4068, 0.006068535590067469), (2276, 0.006061098644189673), (181, 0.006050094953919432), (1406, 0.006045235170295794), (3555, 0.006030901193377071), (4543, 0.006024828070724138), (2024, 0.006023078653460216), (4503, 0.006022560835446045), (2918, 0.006015992552817715), (3126, 0.006012252658764331), (2885, 0.006011365032902219), (4037, 0.0060029024417688195), (1937, 0.0060028512649475604), (1226, 0.00600266862512893), (4310, 0.006002422385883998), (2239, 0.0060015823813790985), (1257, 0.005992145411490304), (2052, 0.00599024905413291), (4012, 0.00598919077436304), (1483, 0.0059861531285419515), (4148, 0.005983929349780092), (2787, 0.005983791602851094), (1337, 0.005981915825520476), (1527, 0.0059818922779505575), (1442, 0.005976238130175607), (2825, 0.005968341709702086), (2210, 0.005965500106469202), (451, 0.005963738103986702), (1721, 0.0059593518196307226), (3161, 0.005953777583608176), (3343, 0.005949463948949075), (1749, 0.005945304962091339), (1044, 0.00593233717528312), (532, 0.0059314956544079915), (4743, 0.005928035545128445), (4236, 0.00592507319906632), (1263, 0.005924679815671976), (1552, 0.005913797828833916), (4039, 0.005912189451902662), (2206, 0.00590884534643764), (854, 0.0059055816548896686), (1253, 0.005902606135313745), (4509, 0.0059018525795514875), (2634, 0.005898554713167456), (1063, 0.005893118729523327), (2777, 0.005892038881314056), (4481, 0.005887711941320632), (4328, 0.005887369112517598), (2184, 0.005885750210907881), (2540, 0.005883488148911352), (1274, 0.005879571488295052), (4600, 0.005879475398854143), (144, 0.005879358018178651), (4447, 0.0058782806131526455), (3706, 0.005875557556178981), (1544, 0.0058714432532139), (2674, 0.005850437119193808), (1545, 0.005846922953757304), (878, 0.005844079441542776), (2429, 0.005843497422514229), (1096, 0.005843124650749588), (2166, 0.005839996023615993), (1665, 0.005839938852127193), (2791, 0.005839863043198856), (3600, 0.005823374824315842), (1796, 0.005817041983708299), (1183, 0.005812443602063997), (4534, 0.005812441085527809), (3660, 0.005806289305124649), (3085, 0.005802137825771408), (500, 0.005798274168682527), (866, 0.005788233315580175), (3465, 0.005781094002492789), (827, 0.005769613358472647), (2935, 0.005760276170423539), (868, 0.005749307018420313), (2992, 0.005748211479406132), (974, 0.005747840099098966), (2862, 0.005747640124112142), (4553, 0.005740485414119681), (2971, 0.0057380700077330595), (1314, 0.005735115799669293), (4690, 0.005718401916515526), (2424, 0.00571836954228228), (2962, 0.005717546385992876), (2094, 0.005714221906007141), (1818, 0.005712053393586298), (4325, 0.005705190500242199), (1357, 0.0056986665158428795), (170, 0.005696044840456531), (4450, 0.0056944944534875605), (3466, 0.005691191959868448), (4649, 0.005681880662620386), (1065, 0.005679725046699386), (1680, 0.005677691390102295), (1076, 0.0056722983340947285), (2513, 0.005669898833105025), (4608, 0.005668831638256496), (2224, 0.005662740758356035), (3267, 0.005662331540413753), (3993, 0.005659193152672296), (3311, 0.005658473896086918), (632, 0.005647946397876704), (1714, 0.005632947767955424), (382, 0.00563278299665189), (4186, 0.005628409473152936), (1054, 0.005623787059547072), (669, 0.005616930303437781), (548, 0.005607370370995302), (3070, 0.005604213380560764), (2718, 0.005594143941314693), (2742, 0.005589083521065472), (1000, 0.005586075870345747), (3306, 0.005584519955485311), (2399, 0.005578381939547899), (3738, 0.005569914989842849), (2315, 0.005564819773917204), (3143, 0.0055599735999480706), (495, 0.005548438972049122), (804, 0.005544585466945867), (4429, 0.005544560516104127), (1627, 0.005537878534564394), (1384, 0.005520151316923085), (851, 0.005505142078024388), (1870, 0.005486819491208147), (2274, 0.005478113246856092), (1348, 0.0054668485317274215), (3637, 0.005465770714458074), (1977, 0.005438741780163687), (2033, 0.005425879071092714), (1290, 0.005423587345878304), (800, 0.00541621052992397), (803, 0.005414251147513315), (2227, 0.005400068637148873), (4661, 0.005397965260561845), (4647, 0.005393545006689568), (4353, 0.005382462332543758), (779, 0.005366343468080443), (3556, 0.005355694599468867), (2820, 0.005345479815394947), (3776, 0.005338735983222307), (334, 0.005331584916540557), (2913, 0.005300223186471206), (4432, 0.005296209956630427), (3215, 0.005280086051526456), (3339, 0.005278445294438886), (1241, 0.005255771408223664), (2412, 0.005255507076224097), (269, 0.005230566802963797), (3668, 0.005226289782355589), (1377, 0.005224739171504081), (3684, 0.005222652893156013), (1828, 0.005209335432925063), (2969, 0.005205473146148672), (2197, 0.005201760401704778), (44, 0.005183353396727106), (1214, 0.005182772029519283), (723, 0.005177713940960053), (2113, 0.005176355794449309), (442, 0.005165236725477127), (621, 0.005155428522142879), (288, 0.005146288032839456), (3024, 0.005119475178209809), (1781, 0.005117504954317058), (1010, 0.005116807873260191), (3213, 0.005113007149210214), (719, 0.0050871064240702564), (1369, 0.005079412565942612), (2697, 0.005061447403660969), (1728, 0.005050403952448606), (1320, 0.005032569826807924), (319, 0.005013536277219939), (2844, 0.004988232055022735), (738, 0.00497858021068397), (435, 0.004948758844695331), (3946, 0.004944736565953596), (159, 0.00493297695100081), (2908, 0.004881044916336101), (668, 0.00486208102489236), (271, 0.004832292762923413), (294, 0.004823990068309807), (2767, 0.004812411935162474), (1417, 0.004799149881238716), (684, 0.004751170338637139), (2534, 0.004746598745246388), (266, 0.0046982645588334185), (929, 0.004686706900607496), (332, 0.004637643247033842), (1276, 0.004587440270020794), (1153, 0.004531783476539269), (3429, 0.004407551197767996), (3365, 0.004402075241589241), (2, 0.0), (4, 0.0), (5, 0.0), (8, 0.0), (11, 0.0), (12, 0.0), (13, 0.0), (14, 0.0), (16, 0.0), (18, 0.0), (20, 0.0), (21, 0.0), (24, 0.0), (25, 0.0), (26, 0.0), (29, 0.0), (30, 0.0), (33, 0.0), (34, 0.0), (42, 0.0), (43, 0.0), (47, 0.0), (49, 0.0), (50, 0.0), (51, 0.0), (52, 0.0), (60, 0.0), (62, 0.0), (66, 0.0), (70, 0.0), (71, 0.0), (72, 0.0), (82, 0.0), (83, 0.0), (85, 0.0), (87, 0.0), (89, 0.0), (96, 0.0), (97, 0.0), (98, 0.0), (99, 0.0), (100, 0.0), (103, 0.0), (105, 0.0), (107, 0.0), (109, 0.0), (110, 0.0), (111, 0.0), (113, 0.0), (114, 0.0), (115, 0.0), (120, 0.0), (122, 0.0), (126, 0.0), (127, 0.0), (129, 0.0), (131, 0.0), (132, 0.0), (133, 0.0), (134, 0.0), (136, 0.0), (137, 0.0), (140, 0.0), (141, 0.0), (142, 0.0), (145, 0.0), (146, 0.0), (147, 0.0), (154, 0.0), (155, 0.0), (157, 0.0), (158, 0.0), (161, 0.0), (163, 0.0), (164, 0.0), (166, 0.0), (168, 0.0), (169, 0.0), (173, 0.0), (175, 0.0), (176, 0.0), (177, 0.0), (178, 0.0), (183, 0.0), (184, 0.0), (185, 0.0), (186, 0.0), (188, 0.0), (192, 0.0), (193, 0.0), (194, 0.0), (195, 0.0), (197, 0.0), (198, 0.0), (199, 0.0), (200, 0.0), (202, 0.0), (203, 0.0), (204, 0.0), (205, 0.0), (207, 0.0), (209, 0.0), (211, 0.0), (213, 0.0), (215, 0.0), (216, 0.0), (221, 0.0), (222, 0.0), (223, 0.0), (224, 0.0), (225, 0.0), (226, 0.0), (227, 0.0), (228, 0.0), (229, 0.0), (230, 0.0), (235, 0.0), (236, 0.0), (238, 0.0), (239, 0.0), (240, 0.0), (243, 0.0), (245, 0.0), (246, 0.0), (248, 0.0), (249, 0.0), (251, 0.0), (253, 0.0), (256, 0.0), (265, 0.0), (267, 0.0), (268, 0.0), (270, 0.0), (272, 0.0), (275, 0.0), (276, 0.0), (278, 0.0), (279, 0.0), (280, 0.0), (281, 0.0), (282, 0.0), (285, 0.0), (287, 0.0), (291, 0.0), (293, 0.0), (296, 0.0), (302, 0.0), (304, 0.0), (308, 0.0), (309, 0.0), (311, 0.0), (312, 0.0), (313, 0.0), (317, 0.0), (318, 0.0), (325, 0.0), (326, 0.0), (329, 0.0), (330, 0.0), (331, 0.0), (335, 0.0), (337, 0.0), (343, 0.0), (344, 0.0), (348, 0.0), (351, 0.0), (352, 0.0), (353, 0.0), (354, 0.0), (355, 0.0), (356, 0.0), (357, 0.0), (358, 0.0), (359, 0.0), (360, 0.0), (366, 0.0), (370, 0.0), (371, 0.0), (372, 0.0), (373, 0.0), (374, 0.0), (377, 0.0), (384, 0.0), (385, 0.0), (387, 0.0), (388, 0.0), (391, 0.0), (392, 0.0), (393, 0.0), (395, 0.0), (396, 0.0), (398, 0.0), (399, 0.0), (400, 0.0), (402, 0.0), (403, 0.0), (404, 0.0), (406, 0.0), (407, 0.0), (408, 0.0), (410, 0.0), (411, 0.0), (412, 0.0), (414, 0.0), (415, 0.0), (416, 0.0), (420, 0.0), (421, 0.0), (422, 0.0), (423, 0.0), (429, 0.0), (431, 0.0), (434, 0.0), (436, 0.0), (437, 0.0), (441, 0.0), (444, 0.0), (445, 0.0), (446, 0.0), (447, 0.0), (448, 0.0), (449, 0.0), (450, 0.0), (454, 0.0), (456, 0.0), (459, 0.0), (462, 0.0), (464, 0.0), (466, 0.0), (470, 0.0), (471, 0.0), (473, 0.0), (474, 0.0), (475, 0.0), (476, 0.0), (478, 0.0), (480, 0.0), (481, 0.0), (482, 0.0), (484, 0.0), (485, 0.0), (486, 0.0), (487, 0.0), (488, 0.0), (490, 0.0), (493, 0.0), (494, 0.0), (499, 0.0), (502, 0.0), (503, 0.0), (504, 0.0), (505, 0.0), (507, 0.0), (508, 0.0), (510, 0.0), (518, 0.0), (520, 0.0), (521, 0.0), (523, 0.0), (524, 0.0), (525, 0.0), (526, 0.0), (527, 0.0), (529, 0.0), (530, 0.0), (531, 0.0), (535, 0.0), (536, 0.0), (538, 0.0), (541, 0.0), (542, 0.0), (543, 0.0), (547, 0.0), (551, 0.0), (552, 0.0), (556, 0.0), (557, 0.0), (558, 0.0), (559, 0.0), (562, 0.0), (564, 0.0), (566, 0.0), (571, 0.0), (574, 0.0), (575, 0.0), (576, 0.0), (577, 0.0), (578, 0.0), (580, 0.0), (581, 0.0), (582, 0.0), (583, 0.0), (584, 0.0), (585, 0.0), (586, 0.0), (587, 0.0), (588, 0.0), (589, 0.0), (590, 0.0), (596, 0.0), (597, 0.0), (598, 0.0), (605, 0.0), (607, 0.0), (609, 0.0), (611, 0.0), (612, 0.0), (616, 0.0), (617, 0.0), (618, 0.0), (622, 0.0), (623, 0.0), (624, 0.0), (626, 0.0), (627, 0.0), (628, 0.0), (629, 0.0), (630, 0.0), (633, 0.0), (634, 0.0), (636, 0.0), (637, 0.0), (638, 0.0), (642, 0.0), (645, 0.0), (646, 0.0), (648, 0.0), (649, 0.0), (650, 0.0), (651, 0.0), (652, 0.0), (654, 0.0), (657, 0.0), (658, 0.0), (659, 0.0), (660, 0.0), (664, 0.0), (665, 0.0), (667, 0.0), (675, 0.0), (676, 0.0), (677, 0.0), (678, 0.0), (679, 0.0), (680, 0.0), (689, 0.0), (691, 0.0), (693, 0.0), (694, 0.0), (695, 0.0), (696, 0.0), (697, 0.0), (698, 0.0), (703, 0.0), (704, 0.0), (705, 0.0), (706, 0.0), (707, 0.0), (708, 0.0), (709, 0.0), (711, 0.0), (712, 0.0), (717, 0.0), (718, 0.0), (721, 0.0), (722, 0.0), (730, 0.0), (731, 0.0), (732, 0.0), (734, 0.0), (735, 0.0), (736, 0.0), (737, 0.0), (740, 0.0), (741, 0.0), (742, 0.0), (744, 0.0), (746, 0.0), (748, 0.0), (752, 0.0), (754, 0.0), (755, 0.0), (757, 0.0), (759, 0.0), (760, 0.0), (761, 0.0), (764, 0.0), (765, 0.0), (766, 0.0), (767, 0.0), (768, 0.0), (770, 0.0), (771, 0.0), (772, 0.0), (773, 0.0), (774, 0.0), (780, 0.0), (781, 0.0), (782, 0.0), (783, 0.0), (784, 0.0), (785, 0.0), (786, 0.0), (789, 0.0), (790, 0.0), (791, 0.0), (792, 0.0), (794, 0.0), (796, 0.0), (797, 0.0), (799, 0.0), (801, 0.0), (806, 0.0), (807, 0.0), (810, 0.0), (811, 0.0), (813, 0.0), (814, 0.0), (815, 0.0), (816, 0.0), (818, 0.0), (819, 0.0), (820, 0.0), (822, 0.0), (823, 0.0), (824, 0.0), (830, 0.0), (831, 0.0), (832, 0.0), (833, 0.0), (834, 0.0), (836, 0.0), (837, 0.0), (838, 0.0), (839, 0.0), (840, 0.0), (841, 0.0), (844, 0.0), (846, 0.0), (847, 0.0), (853, 0.0), (855, 0.0), (857, 0.0), (858, 0.0), (861, 0.0), (862, 0.0), (863, 0.0), (864, 0.0), (867, 0.0), (870, 0.0), (873, 0.0), (876, 0.0), (879, 0.0), (880, 0.0), (881, 0.0), (882, 0.0), (883, 0.0), (884, 0.0), (885, 0.0), (886, 0.0), (887, 0.0), (888, 0.0), (889, 0.0), (890, 0.0), (892, 0.0), (894, 0.0), (895, 0.0), (896, 0.0), (897, 0.0), (898, 0.0), (899, 0.0), (900, 0.0), (901, 0.0), (906, 0.0), (907, 0.0), (910, 0.0), (916, 0.0), (917, 0.0), (922, 0.0), (923, 0.0), (924, 0.0), (925, 0.0), (927, 0.0), (930, 0.0), (931, 0.0), (933, 0.0), (934, 0.0), (937, 0.0), (939, 0.0), (941, 0.0), (942, 0.0), (943, 0.0), (944, 0.0), (950, 0.0), (953, 0.0), (955, 0.0), (957, 0.0), (958, 0.0), (960, 0.0), (962, 0.0), (964, 0.0), (967, 0.0), (968, 0.0), (970, 0.0), (971, 0.0), (972, 0.0), (973, 0.0), (975, 0.0), (976, 0.0), (978, 0.0), (979, 0.0), (980, 0.0), (982, 0.0), (984, 0.0), (985, 0.0), (988, 0.0), (989, 0.0), (991, 0.0), (995, 0.0), (998, 0.0), (999, 0.0), (1002, 0.0), (1004, 0.0), (1006, 0.0), (1008, 0.0), (1009, 0.0), (1018, 0.0), (1020, 0.0), (1021, 0.0), (1025, 0.0), (1026, 0.0), (1027, 0.0), (1030, 0.0), (1032, 0.0), (1033, 0.0), (1034, 0.0), (1035, 0.0), (1036, 0.0), (1037, 0.0), (1038, 0.0), (1040, 0.0), (1041, 0.0), (1042, 0.0), (1043, 0.0), (1048, 0.0), (1049, 0.0), (1052, 0.0), (1053, 0.0), (1058, 0.0), (1059, 0.0), (1060, 0.0), (1062, 0.0), (1064, 0.0), (1068, 0.0), (1070, 0.0), (1071, 0.0), (1072, 0.0), (1075, 0.0), (1078, 0.0), (1080, 0.0), (1081, 0.0), (1084, 0.0), (1085, 0.0), (1086, 0.0), (1088, 0.0), (1089, 0.0), (1090, 0.0), (1093, 0.0), (1094, 0.0), (1098, 0.0), (1100, 0.0), (1102, 0.0), (1103, 0.0), (1104, 0.0), (1105, 0.0), (1106, 0.0), (1107, 0.0), (1109, 0.0), (1110, 0.0), (1112, 0.0), (1117, 0.0), (1118, 0.0), (1119, 0.0), (1121, 0.0), (1123, 0.0), (1124, 0.0), (1125, 0.0), (1126, 0.0), (1128, 0.0), (1130, 0.0), (1132, 0.0), (1133, 0.0), (1136, 0.0), (1142, 0.0), (1143, 0.0), (1144, 0.0), (1145, 0.0), (1147, 0.0), (1148, 0.0), (1149, 0.0), (1152, 0.0), (1155, 0.0), (1156, 0.0), (1157, 0.0), (1158, 0.0), (1159, 0.0), (1160, 0.0), (1161, 0.0), (1163, 0.0), (1166, 0.0), (1167, 0.0), (1168, 0.0), (1169, 0.0), (1170, 0.0), (1172, 0.0), (1176, 0.0), (1177, 0.0), (1178, 0.0), (1180, 0.0), (1181, 0.0), (1182, 0.0), (1184, 0.0), (1186, 0.0), (1187, 0.0), (1189, 0.0), (1191, 0.0), (1193, 0.0), (1196, 0.0), (1197, 0.0), (1199, 0.0), (1200, 0.0), (1201, 0.0), (1202, 0.0), (1203, 0.0), (1204, 0.0), (1208, 0.0), (1209, 0.0), (1211, 0.0), (1213, 0.0), (1215, 0.0), (1216, 0.0), (1217, 0.0), (1218, 0.0), (1220, 0.0), (1223, 0.0), (1227, 0.0), (1228, 0.0), (1232, 0.0), (1234, 0.0), (1235, 0.0), (1236, 0.0), (1237, 0.0), (1238, 0.0), (1239, 0.0), (1243, 0.0), (1246, 0.0), (1247, 0.0), (1248, 0.0), (1251, 0.0), (1255, 0.0), (1260, 0.0), (1261, 0.0), (1264, 0.0), (1267, 0.0), (1268, 0.0), (1270, 0.0), (1271, 0.0), (1279, 0.0), (1282, 0.0), (1286, 0.0), (1289, 0.0), (1294, 0.0), (1297, 0.0), (1298, 0.0), (1299, 0.0), (1300, 0.0), (1303, 0.0), (1305, 0.0), (1311, 0.0), (1313, 0.0), (1316, 0.0), (1317, 0.0), (1318, 0.0), (1319, 0.0), (1322, 0.0), (1323, 0.0), (1325, 0.0), (1330, 0.0), (1331, 0.0), (1334, 0.0), (1339, 0.0), (1340, 0.0), (1342, 0.0), (1344, 0.0), (1345, 0.0), (1347, 0.0), (1349, 0.0), (1355, 0.0), (1356, 0.0), (1359, 0.0), (1360, 0.0), (1362, 0.0), (1363, 0.0), (1364, 0.0), (1365, 0.0), (1367, 0.0), (1370, 0.0), (1371, 0.0), (1372, 0.0), (1375, 0.0), (1376, 0.0), (1378, 0.0), (1382, 0.0), (1383, 0.0), (1390, 0.0), (1391, 0.0), (1392, 0.0), (1394, 0.0), (1395, 0.0), (1399, 0.0), (1400, 0.0), (1402, 0.0), (1403, 0.0), (1404, 0.0), (1405, 0.0), (1409, 0.0), (1410, 0.0), (1411, 0.0), (1414, 0.0), (1415, 0.0), (1416, 0.0), (1420, 0.0), (1421, 0.0), (1422, 0.0), (1423, 0.0), (1424, 0.0), (1425, 0.0), (1426, 0.0), (1427, 0.0), (1428, 0.0), (1429, 0.0), (1430, 0.0), (1431, 0.0), (1434, 0.0), (1435, 0.0), (1438, 0.0), (1439, 0.0), (1441, 0.0), (1444, 0.0), (1446, 0.0), (1447, 0.0), (1448, 0.0), (1449, 0.0), (1450, 0.0), (1451, 0.0), (1452, 0.0), (1453, 0.0), (1457, 0.0), (1461, 0.0), (1462, 0.0), (1464, 0.0), (1465, 0.0), (1476, 0.0), (1479, 0.0), (1480, 0.0), (1481, 0.0), (1482, 0.0), (1485, 0.0), (1488, 0.0), (1489, 0.0), (1491, 0.0), (1492, 0.0), (1493, 0.0), (1494, 0.0), (1496, 0.0), (1497, 0.0), (1498, 0.0), (1500, 0.0), (1501, 0.0), (1503, 0.0), (1507, 0.0), (1508, 0.0), (1509, 0.0), (1517, 0.0), (1518, 0.0), (1519, 0.0), (1520, 0.0), (1523, 0.0), (1524, 0.0), (1525, 0.0), (1526, 0.0), (1528, 0.0), (1531, 0.0), (1532, 0.0), (1533, 0.0), (1534, 0.0), (1538, 0.0), (1539, 0.0), (1541, 0.0), (1542, 0.0), (1543, 0.0), (1548, 0.0), (1549, 0.0), (1550, 0.0), (1551, 0.0), (1553, 0.0), (1555, 0.0), (1556, 0.0), (1557, 0.0), (1558, 0.0), (1559, 0.0), (1561, 0.0), (1562, 0.0), (1563, 0.0), (1565, 0.0), (1568, 0.0), (1569, 0.0), (1573, 0.0), (1574, 0.0), (1580, 0.0), (1582, 0.0), (1583, 0.0), (1585, 0.0), (1586, 0.0), (1588, 0.0), (1593, 0.0), (1594, 0.0), (1595, 0.0), (1596, 0.0), (1597, 0.0), (1602, 0.0), (1605, 0.0), (1609, 0.0), (1610, 0.0), (1612, 0.0), (1614, 0.0), (1615, 0.0), (1616, 0.0), (1619, 0.0), (1620, 0.0), (1621, 0.0), (1622, 0.0), (1623, 0.0), (1625, 0.0), (1626, 0.0), (1628, 0.0), (1629, 0.0), (1630, 0.0), (1631, 0.0), (1632, 0.0), (1633, 0.0), (1634, 0.0), (1635, 0.0), (1636, 0.0), (1637, 0.0), (1638, 0.0), (1639, 0.0), (1641, 0.0), (1642, 0.0), (1644, 0.0), (1646, 0.0), (1647, 0.0), (1648, 0.0), (1652, 0.0), (1654, 0.0), (1655, 0.0), (1656, 0.0), (1658, 0.0), (1660, 0.0), (1661, 0.0), (1663, 0.0), (1666, 0.0), (1667, 0.0), (1668, 0.0), (1669, 0.0), (1670, 0.0), (1671, 0.0), (1672, 0.0), (1673, 0.0), (1674, 0.0), (1676, 0.0), (1679, 0.0), (1682, 0.0), (1683, 0.0), (1684, 0.0), (1685, 0.0), (1686, 0.0), (1688, 0.0), (1689, 0.0), (1690, 0.0), (1691, 0.0), (1692, 0.0), (1693, 0.0), (1694, 0.0), (1695, 0.0), (1699, 0.0), (1702, 0.0), (1703, 0.0), (1704, 0.0), (1710, 0.0), (1712, 0.0), (1717, 0.0), (1718, 0.0), (1719, 0.0), (1720, 0.0), (1722, 0.0), (1723, 0.0), (1724, 0.0), (1726, 0.0), (1729, 0.0), (1730, 0.0), (1737, 0.0), (1739, 0.0), (1741, 0.0), (1742, 0.0), (1743, 0.0), (1744, 0.0), (1746, 0.0), (1747, 0.0), (1748, 0.0), (1751, 0.0), (1752, 0.0), (1753, 0.0), (1754, 0.0), (1755, 0.0), (1757, 0.0), (1759, 0.0), (1760, 0.0), (1761, 0.0), (1762, 0.0), (1763, 0.0), (1765, 0.0), (1766, 0.0), (1767, 0.0), (1768, 0.0), (1769, 0.0), (1770, 0.0), (1771, 0.0), (1773, 0.0), (1774, 0.0), (1777, 0.0), (1778, 0.0), (1779, 0.0), (1780, 0.0), (1784, 0.0), (1785, 0.0), (1786, 0.0), (1790, 0.0), (1792, 0.0), (1793, 0.0), (1794, 0.0), (1795, 0.0), (1801, 0.0), (1803, 0.0), (1804, 0.0), (1806, 0.0), (1807, 0.0), (1808, 0.0), (1811, 0.0), (1813, 0.0), (1814, 0.0), (1816, 0.0), (1817, 0.0), (1819, 0.0), (1820, 0.0), (1821, 0.0), (1823, 0.0), (1824, 0.0), (1825, 0.0), (1826, 0.0), (1827, 0.0), (1829, 0.0), (1830, 0.0), (1831, 0.0), (1832, 0.0), (1834, 0.0), (1835, 0.0), (1839, 0.0), (1840, 0.0), (1842, 0.0), (1843, 0.0), (1845, 0.0), (1849, 0.0), (1851, 0.0), (1854, 0.0), (1856, 0.0), (1857, 0.0), (1859, 0.0), (1860, 0.0), (1861, 0.0), (1862, 0.0), (1863, 0.0), (1866, 0.0), (1868, 0.0), (1869, 0.0), (1871, 0.0), (1872, 0.0), (1874, 0.0), (1875, 0.0), (1877, 0.0), (1878, 0.0), (1879, 0.0), (1880, 0.0), (1882, 0.0), (1884, 0.0), (1885, 0.0), (1888, 0.0), (1890, 0.0), (1891, 0.0), (1892, 0.0), (1893, 0.0), (1896, 0.0), (1897, 0.0), (1899, 0.0), (1900, 0.0), (1902, 0.0), (1905, 0.0), (1906, 0.0), (1907, 0.0), (1909, 0.0), (1910, 0.0), (1913, 0.0), (1914, 0.0), (1915, 0.0), (1916, 0.0), (1917, 0.0), (1918, 0.0), (1920, 0.0), (1921, 0.0), (1922, 0.0), (1927, 0.0), (1929, 0.0), (1930, 0.0), (1933, 0.0), (1935, 0.0), (1938, 0.0), (1942, 0.0), (1943, 0.0), (1944, 0.0), (1946, 0.0), (1947, 0.0), (1951, 0.0), (1952, 0.0), (1953, 0.0), (1954, 0.0), (1956, 0.0), (1957, 0.0), (1958, 0.0), (1959, 0.0), (1960, 0.0), (1962, 0.0), (1963, 0.0), (1967, 0.0), (1969, 0.0), (1970, 0.0), (1972, 0.0), (1975, 0.0), (1978, 0.0), (1979, 0.0), (1980, 0.0), (1981, 0.0), (1986, 0.0), (1988, 0.0), (1990, 0.0), (1992, 0.0), (1993, 0.0), (1994, 0.0), (1995, 0.0), (1996, 0.0), (1997, 0.0), (2000, 0.0), (2001, 0.0), (2002, 0.0), (2003, 0.0), (2004, 0.0), (2005, 0.0), (2007, 0.0), (2008, 0.0), (2009, 0.0), (2011, 0.0), (2017, 0.0), (2020, 0.0), (2023, 0.0), (2026, 0.0), (2027, 0.0), (2028, 0.0), (2029, 0.0), (2032, 0.0), (2035, 0.0), (2036, 0.0), (2039, 0.0), (2041, 0.0), (2042, 0.0), (2043, 0.0), (2046, 0.0), (2047, 0.0), (2049, 0.0), (2053, 0.0), (2054, 0.0), (2056, 0.0), (2057, 0.0), (2059, 0.0), (2060, 0.0), (2063, 0.0), (2064, 0.0), (2068, 0.0), (2069, 0.0), (2070, 0.0), (2071, 0.0), (2072, 0.0), (2073, 0.0), (2076, 0.0), (2079, 0.0), (2080, 0.0), (2084, 0.0), (2087, 0.0), (2089, 0.0), (2092, 0.0), (2096, 0.0), (2097, 0.0), (2098, 0.0), (2099, 0.0), (2102, 0.0), (2104, 0.0), (2105, 0.0), (2106, 0.0), (2108, 0.0), (2109, 0.0), (2110, 0.0), (2111, 0.0), (2112, 0.0), (2115, 0.0), (2116, 0.0), (2118, 0.0), (2119, 0.0), (2120, 0.0), (2121, 0.0), (2122, 0.0), (2123, 0.0), (2126, 0.0), (2129, 0.0), (2130, 0.0), (2132, 0.0), (2133, 0.0), (2134, 0.0), (2135, 0.0), (2137, 0.0), (2138, 0.0), (2140, 0.0), (2141, 0.0), (2142, 0.0), (2143, 0.0), (2144, 0.0), (2146, 0.0), (2147, 0.0), (2148, 0.0), (2149, 0.0), (2151, 0.0), (2152, 0.0), (2155, 0.0), (2156, 0.0), (2157, 0.0), (2159, 0.0), (2160, 0.0), (2162, 0.0), (2163, 0.0), (2165, 0.0), (2167, 0.0), (2170, 0.0), (2171, 0.0), (2172, 0.0), (2173, 0.0), (2174, 0.0), (2175, 0.0), (2179, 0.0), (2181, 0.0), (2186, 0.0), (2189, 0.0), (2190, 0.0), (2191, 0.0), (2192, 0.0), (2193, 0.0), (2194, 0.0), (2195, 0.0), (2196, 0.0), (2199, 0.0), (2200, 0.0), (2201, 0.0), (2203, 0.0), (2204, 0.0), (2207, 0.0), (2211, 0.0), (2213, 0.0), (2214, 0.0), (2215, 0.0), (2220, 0.0), (2222, 0.0), (2225, 0.0), (2228, 0.0), (2229, 0.0), (2230, 0.0), (2234, 0.0), (2235, 0.0), (2236, 0.0), (2238, 0.0), (2240, 0.0), (2241, 0.0), (2242, 0.0), (2244, 0.0), (2245, 0.0), (2247, 0.0), (2248, 0.0), (2250, 0.0), (2251, 0.0), (2252, 0.0), (2253, 0.0), (2254, 0.0), (2255, 0.0), (2257, 0.0), (2258, 0.0), (2260, 0.0), (2261, 0.0), (2262, 0.0), (2263, 0.0), (2264, 0.0), (2266, 0.0), (2267, 0.0), (2268, 0.0), (2270, 0.0), (2272, 0.0), (2273, 0.0), (2279, 0.0), (2281, 0.0), (2282, 0.0), (2284, 0.0), (2288, 0.0), (2289, 0.0), (2290, 0.0), (2291, 0.0), (2292, 0.0), (2293, 0.0), (2295, 0.0), (2299, 0.0), (2300, 0.0), (2301, 0.0), (2302, 0.0), (2303, 0.0), (2304, 0.0), (2305, 0.0), (2307, 0.0), (2308, 0.0), (2310, 0.0), (2311, 0.0), (2312, 0.0), (2313, 0.0), (2314, 0.0), (2317, 0.0), (2318, 0.0), (2319, 0.0), (2320, 0.0), (2322, 0.0), (2323, 0.0), (2325, 0.0), (2327, 0.0), (2328, 0.0), (2329, 0.0), (2331, 0.0), (2332, 0.0), (2333, 0.0), (2334, 0.0), (2335, 0.0), (2336, 0.0), (2339, 0.0), (2341, 0.0), (2342, 0.0), (2343, 0.0), (2344, 0.0), (2345, 0.0), (2346, 0.0), (2347, 0.0), (2348, 0.0), (2349, 0.0), (2350, 0.0), (2354, 0.0), (2358, 0.0), (2360, 0.0), (2362, 0.0), (2365, 0.0), (2366, 0.0), (2367, 0.0), (2368, 0.0), (2369, 0.0), (2370, 0.0), (2372, 0.0), (2373, 0.0), (2374, 0.0), (2375, 0.0), (2376, 0.0), (2379, 0.0), (2380, 0.0), (2382, 0.0), (2384, 0.0), (2385, 0.0), (2386, 0.0), (2387, 0.0), (2388, 0.0), (2390, 0.0), (2391, 0.0), (2392, 0.0), (2393, 0.0), (2394, 0.0), (2395, 0.0), (2396, 0.0), (2397, 0.0), (2398, 0.0), (2400, 0.0), (2401, 0.0), (2402, 0.0), (2404, 0.0), (2405, 0.0), (2406, 0.0), (2407, 0.0), (2408, 0.0), (2409, 0.0), (2410, 0.0), (2411, 0.0), (2414, 0.0), (2417, 0.0), (2419, 0.0), (2420, 0.0), (2422, 0.0), (2423, 0.0), (2425, 0.0), (2430, 0.0), (2434, 0.0), (2435, 0.0), (2437, 0.0), (2438, 0.0), (2440, 0.0), (2445, 0.0), (2446, 0.0), (2449, 0.0), (2453, 0.0), (2454, 0.0), (2455, 0.0), (2456, 0.0), (2457, 0.0), (2458, 0.0), (2461, 0.0), (2462, 0.0), (2463, 0.0), (2464, 0.0), (2465, 0.0), (2466, 0.0), (2467, 0.0), (2469, 0.0), (2470, 0.0), (2475, 0.0), (2477, 0.0), (2478, 0.0), (2480, 0.0), (2481, 0.0), (2482, 0.0), (2483, 0.0), (2485, 0.0), (2486, 0.0), (2487, 0.0), (2488, 0.0), (2489, 0.0), (2490, 0.0), (2492, 0.0), (2494, 0.0), (2495, 0.0), (2497, 0.0), (2498, 0.0), (2499, 0.0), (2502, 0.0), (2503, 0.0), (2505, 0.0), (2508, 0.0), (2509, 0.0), (2510, 0.0), (2512, 0.0), (2514, 0.0), (2515, 0.0), (2516, 0.0), (2518, 0.0), (2519, 0.0), (2520, 0.0), (2524, 0.0), (2525, 0.0), (2526, 0.0), (2528, 0.0), (2529, 0.0), (2531, 0.0), (2533, 0.0), (2536, 0.0), (2537, 0.0), (2538, 0.0), (2541, 0.0), (2543, 0.0), (2545, 0.0), (2546, 0.0), (2547, 0.0), (2548, 0.0), (2550, 0.0), (2551, 0.0), (2552, 0.0), (2553, 0.0), (2556, 0.0), (2557, 0.0), (2558, 0.0), (2560, 0.0), (2561, 0.0), (2563, 0.0), (2564, 0.0), (2565, 0.0), (2566, 0.0), (2568, 0.0), (2570, 0.0), (2572, 0.0), (2575, 0.0), (2577, 0.0), (2580, 0.0), (2583, 0.0), (2585, 0.0), (2586, 0.0), (2587, 0.0), (2589, 0.0), (2591, 0.0), (2592, 0.0), (2593, 0.0), (2594, 0.0), (2596, 0.0), (2597, 0.0), (2601, 0.0), (2602, 0.0), (2603, 0.0), (2604, 0.0), (2606, 0.0), (2607, 0.0), (2608, 0.0), (2610, 0.0), (2611, 0.0), (2613, 0.0), (2614, 0.0), (2617, 0.0), (2620, 0.0), (2621, 0.0), (2623, 0.0), (2624, 0.0), (2627, 0.0), (2628, 0.0), (2629, 0.0), (2630, 0.0), (2631, 0.0), (2633, 0.0), (2635, 0.0), (2636, 0.0), (2638, 0.0), (2639, 0.0), (2643, 0.0), (2648, 0.0), (2651, 0.0), (2652, 0.0), (2653, 0.0), (2655, 0.0), (2656, 0.0), (2658, 0.0), (2660, 0.0), (2661, 0.0), (2662, 0.0), (2663, 0.0), (2664, 0.0), (2665, 0.0), (2669, 0.0), (2673, 0.0), (2675, 0.0), (2677, 0.0), (2678, 0.0), (2679, 0.0), (2681, 0.0), (2683, 0.0), (2684, 0.0), (2685, 0.0), (2686, 0.0), (2687, 0.0), (2690, 0.0), (2692, 0.0), (2693, 0.0), (2695, 0.0), (2698, 0.0), (2699, 0.0), (2700, 0.0), (2701, 0.0), (2702, 0.0), (2703, 0.0), (2704, 0.0), (2705, 0.0), (2709, 0.0), (2712, 0.0), (2716, 0.0), (2717, 0.0), (2719, 0.0), (2721, 0.0), (2722, 0.0), (2723, 0.0), (2726, 0.0), (2727, 0.0), (2728, 0.0), (2730, 0.0), (2731, 0.0), (2733, 0.0), (2734, 0.0), (2735, 0.0), (2736, 0.0), (2737, 0.0), (2739, 0.0), (2743, 0.0), (2744, 0.0), (2745, 0.0), (2746, 0.0), (2747, 0.0), (2748, 0.0), (2750, 0.0), (2752, 0.0), (2753, 0.0), (2757, 0.0), (2758, 0.0), (2759, 0.0), (2760, 0.0), (2762, 0.0), (2764, 0.0), (2765, 0.0), (2766, 0.0), (2771, 0.0), (2773, 0.0), (2776, 0.0), (2779, 0.0), (2781, 0.0), (2783, 0.0), (2784, 0.0), (2785, 0.0), (2786, 0.0), (2794, 0.0), (2796, 0.0), (2797, 0.0), (2799, 0.0), (2801, 0.0), (2805, 0.0), (2807, 0.0), (2809, 0.0), (2812, 0.0), (2814, 0.0), (2816, 0.0), (2817, 0.0), (2818, 0.0), (2821, 0.0), (2823, 0.0), (2827, 0.0), (2829, 0.0), (2831, 0.0), (2832, 0.0), (2833, 0.0), (2834, 0.0), (2836, 0.0), (2838, 0.0), (2839, 0.0), (2841, 0.0), (2845, 0.0), (2846, 0.0), (2849, 0.0), (2852, 0.0), (2853, 0.0), (2855, 0.0), (2856, 0.0), (2857, 0.0), (2858, 0.0), (2861, 0.0), (2866, 0.0), (2868, 0.0), (2869, 0.0), (2870, 0.0), (2871, 0.0), (2872, 0.0), (2873, 0.0), (2874, 0.0), (2875, 0.0), (2876, 0.0), (2878, 0.0), (2879, 0.0), (2882, 0.0), (2883, 0.0), (2884, 0.0), (2886, 0.0), (2889, 0.0), (2890, 0.0), (2891, 0.0), (2892, 0.0), (2893, 0.0), (2894, 0.0), (2896, 0.0), (2897, 0.0), (2900, 0.0), (2901, 0.0), (2902, 0.0), (2903, 0.0), (2904, 0.0), (2905, 0.0), (2907, 0.0), (2909, 0.0), (2911, 0.0), (2912, 0.0), (2914, 0.0), (2915, 0.0), (2916, 0.0), (2917, 0.0), (2919, 0.0), (2921, 0.0), (2923, 0.0), (2924, 0.0), (2925, 0.0), (2928, 0.0), (2929, 0.0), (2930, 0.0), (2931, 0.0), (2932, 0.0), (2933, 0.0), (2934, 0.0), (2936, 0.0), (2938, 0.0), (2939, 0.0), (2941, 0.0), (2942, 0.0), (2945, 0.0), (2946, 0.0), (2948, 0.0), (2949, 0.0), (2951, 0.0), (2952, 0.0), (2953, 0.0), (2954, 0.0), (2956, 0.0), (2957, 0.0), (2958, 0.0), (2961, 0.0), (2964, 0.0), (2966, 0.0), (2967, 0.0), (2968, 0.0), (2970, 0.0), (2972, 0.0), (2973, 0.0), (2974, 0.0), (2975, 0.0), (2976, 0.0), (2977, 0.0), (2978, 0.0), (2979, 0.0), (2980, 0.0), (2981, 0.0), (2983, 0.0), (2985, 0.0), (2986, 0.0), (2987, 0.0), (2989, 0.0), (2993, 0.0), (2997, 0.0), (2999, 0.0), (3000, 0.0), (3002, 0.0), (3003, 0.0), (3004, 0.0), (3005, 0.0), (3006, 0.0), (3007, 0.0), (3008, 0.0), (3009, 0.0), (3010, 0.0), (3011, 0.0), (3012, 0.0), (3013, 0.0), (3014, 0.0), (3015, 0.0), (3017, 0.0), (3019, 0.0), (3020, 0.0), (3023, 0.0), (3025, 0.0), (3026, 0.0), (3027, 0.0), (3029, 0.0), (3030, 0.0), (3032, 0.0), (3033, 0.0), (3034, 0.0), (3035, 0.0), (3037, 0.0), (3038, 0.0), (3039, 0.0), (3040, 0.0), (3041, 0.0), (3042, 0.0), (3043, 0.0), (3046, 0.0), (3049, 0.0), (3050, 0.0), (3052, 0.0), (3053, 0.0), (3054, 0.0), (3055, 0.0), (3056, 0.0), (3057, 0.0), (3060, 0.0), (3069, 0.0), (3071, 0.0), (3072, 0.0), (3073, 0.0), (3074, 0.0), (3075, 0.0), (3076, 0.0), (3077, 0.0), (3078, 0.0), (3081, 0.0), (3086, 0.0), (3087, 0.0), (3088, 0.0), (3090, 0.0), (3092, 0.0), (3093, 0.0), (3095, 0.0), (3098, 0.0), (3101, 0.0), (3102, 0.0), (3103, 0.0), (3104, 0.0), (3106, 0.0), (3107, 0.0), (3108, 0.0), (3109, 0.0), (3110, 0.0), (3111, 0.0), (3113, 0.0), (3116, 0.0), (3117, 0.0), (3119, 0.0), (3120, 0.0), (3122, 0.0), (3125, 0.0), (3128, 0.0), (3130, 0.0), (3137, 0.0), (3138, 0.0), (3139, 0.0), (3140, 0.0), (3142, 0.0), (3144, 0.0), (3145, 0.0), (3146, 0.0), (3147, 0.0), (3148, 0.0), (3149, 0.0), (3150, 0.0), (3151, 0.0), (3153, 0.0), (3154, 0.0), (3155, 0.0), (3157, 0.0), (3159, 0.0), (3162, 0.0), (3164, 0.0), (3167, 0.0), (3170, 0.0), (3171, 0.0), (3175, 0.0), (3176, 0.0), (3177, 0.0), (3178, 0.0), (3179, 0.0), (3182, 0.0), (3183, 0.0), (3186, 0.0), (3187, 0.0), (3188, 0.0), (3189, 0.0), (3192, 0.0), (3196, 0.0), (3197, 0.0), (3198, 0.0), (3199, 0.0), (3200, 0.0), (3203, 0.0), (3204, 0.0), (3207, 0.0), (3209, 0.0), (3211, 0.0), (3212, 0.0), (3214, 0.0), (3216, 0.0), (3217, 0.0), (3218, 0.0), (3219, 0.0), (3220, 0.0), (3222, 0.0), (3224, 0.0), (3226, 0.0), (3228, 0.0), (3229, 0.0), (3230, 0.0), (3234, 0.0), (3235, 0.0), (3236, 0.0), (3237, 0.0), (3238, 0.0), (3239, 0.0), (3242, 0.0), (3243, 0.0), (3244, 0.0), (3245, 0.0), (3246, 0.0), (3248, 0.0), (3249, 0.0), (3250, 0.0), (3251, 0.0), (3252, 0.0), (3254, 0.0), (3255, 0.0), (3256, 0.0), (3257, 0.0), (3258, 0.0), (3260, 0.0), (3261, 0.0), (3262, 0.0), (3264, 0.0), (3265, 0.0), (3266, 0.0), (3268, 0.0), (3269, 0.0), (3271, 0.0), (3273, 0.0), (3274, 0.0), (3277, 0.0), (3278, 0.0), (3279, 0.0), (3282, 0.0), (3283, 0.0), (3284, 0.0), (3285, 0.0), (3287, 0.0), (3288, 0.0), (3289, 0.0), (3290, 0.0), (3291, 0.0), (3292, 0.0), (3293, 0.0), (3295, 0.0), (3296, 0.0), (3299, 0.0), (3300, 0.0), (3301, 0.0), (3302, 0.0), (3303, 0.0), (3304, 0.0), (3308, 0.0), (3309, 0.0), (3313, 0.0), (3314, 0.0), (3316, 0.0), (3317, 0.0), (3318, 0.0), (3319, 0.0), (3320, 0.0), (3321, 0.0), (3322, 0.0), (3324, 0.0), (3325, 0.0), (3326, 0.0), (3329, 0.0), (3330, 0.0), (3333, 0.0), (3334, 0.0), (3337, 0.0), (3338, 0.0), (3340, 0.0), (3341, 0.0), (3344, 0.0), (3345, 0.0), (3347, 0.0), (3348, 0.0), (3349, 0.0), (3350, 0.0), (3351, 0.0), (3353, 0.0), (3354, 0.0), (3355, 0.0), (3356, 0.0), (3357, 0.0), (3358, 0.0), (3359, 0.0), (3362, 0.0), (3363, 0.0), (3364, 0.0), (3366, 0.0), (3369, 0.0), (3370, 0.0), (3371, 0.0), (3372, 0.0), (3375, 0.0), (3376, 0.0), (3378, 0.0), (3379, 0.0), (3380, 0.0), (3381, 0.0), (3382, 0.0), (3386, 0.0), (3388, 0.0), (3390, 0.0), (3392, 0.0), (3393, 0.0), (3396, 0.0), (3398, 0.0), (3399, 0.0), (3400, 0.0), (3401, 0.0), (3402, 0.0), (3403, 0.0), (3406, 0.0), (3409, 0.0), (3410, 0.0), (3411, 0.0), (3412, 0.0), (3413, 0.0), (3414, 0.0), (3415, 0.0), (3417, 0.0), (3418, 0.0), (3420, 0.0), (3421, 0.0), (3423, 0.0), (3425, 0.0), (3428, 0.0), (3430, 0.0), (3431, 0.0), (3433, 0.0), (3434, 0.0), (3436, 0.0), (3437, 0.0), (3442, 0.0), (3447, 0.0), (3455, 0.0), (3456, 0.0), (3457, 0.0), (3459, 0.0), (3460, 0.0), (3462, 0.0), (3470, 0.0), (3471, 0.0), (3473, 0.0), (3474, 0.0), (3475, 0.0), (3476, 0.0), (3477, 0.0), (3479, 0.0), (3481, 0.0), (3483, 0.0), (3485, 0.0), (3488, 0.0), (3489, 0.0), (3490, 0.0), (3491, 0.0), (3493, 0.0), (3494, 0.0), (3495, 0.0), (3496, 0.0), (3497, 0.0), (3498, 0.0), (3499, 0.0), (3500, 0.0), (3501, 0.0), (3503, 0.0), (3504, 0.0), (3505, 0.0), (3506, 0.0), (3508, 0.0), (3509, 0.0), (3510, 0.0), (3512, 0.0), (3517, 0.0), (3518, 0.0), (3519, 0.0), (3521, 0.0), (3523, 0.0), (3524, 0.0), (3526, 0.0), (3527, 0.0), (3529, 0.0), (3530, 0.0), (3533, 0.0), (3535, 0.0), (3536, 0.0), (3537, 0.0), (3539, 0.0), (3540, 0.0), (3541, 0.0), (3544, 0.0), (3545, 0.0), (3547, 0.0), (3548, 0.0), (3549, 0.0), (3550, 0.0), (3552, 0.0), (3553, 0.0), (3554, 0.0), (3558, 0.0), (3561, 0.0), (3563, 0.0), (3564, 0.0), (3567, 0.0), (3569, 0.0), (3570, 0.0), (3571, 0.0), (3572, 0.0), (3573, 0.0), (3575, 0.0), (3577, 0.0), (3579, 0.0), (3580, 0.0), (3581, 0.0), (3583, 0.0), (3585, 0.0), (3589, 0.0), (3596, 0.0), (3599, 0.0), (3601, 0.0), (3606, 0.0), (3608, 0.0), (3612, 0.0), (3613, 0.0), (3614, 0.0), (3615, 0.0), (3616, 0.0), (3617, 0.0), (3618, 0.0), (3620, 0.0), (3621, 0.0), (3622, 0.0), (3624, 0.0), (3626, 0.0), (3627, 0.0), (3631, 0.0), (3632, 0.0), (3633, 0.0), (3636, 0.0), (3639, 0.0), (3640, 0.0), (3643, 0.0), (3644, 0.0), (3646, 0.0), (3647, 0.0), (3649, 0.0), (3650, 0.0), (3651, 0.0), (3652, 0.0), (3653, 0.0), (3654, 0.0), (3661, 0.0), (3662, 0.0), (3663, 0.0), (3664, 0.0), (3665, 0.0), (3666, 0.0), (3667, 0.0), (3669, 0.0), (3671, 0.0), (3672, 0.0), (3673, 0.0), (3674, 0.0), (3675, 0.0), (3677, 0.0), (3679, 0.0), (3681, 0.0), (3682, 0.0), (3683, 0.0), (3686, 0.0), (3687, 0.0), (3689, 0.0), (3691, 0.0), (3694, 0.0), (3696, 0.0), (3699, 0.0), (3702, 0.0), (3704, 0.0), (3707, 0.0), (3711, 0.0), (3712, 0.0), (3716, 0.0), (3717, 0.0), (3719, 0.0), (3721, 0.0), (3727, 0.0), (3728, 0.0), (3729, 0.0), (3730, 0.0), (3731, 0.0), (3732, 0.0), (3733, 0.0), (3736, 0.0), (3737, 0.0), (3739, 0.0), (3740, 0.0), (3746, 0.0), (3748, 0.0), (3749, 0.0), (3750, 0.0), (3751, 0.0), (3752, 0.0), (3753, 0.0), (3754, 0.0), (3755, 0.0), (3756, 0.0), (3757, 0.0), (3758, 0.0), (3760, 0.0), (3761, 0.0), (3762, 0.0), (3763, 0.0), (3764, 0.0), (3766, 0.0), (3767, 0.0), (3768, 0.0), (3769, 0.0), (3770, 0.0), (3774, 0.0), (3775, 0.0), (3780, 0.0), (3781, 0.0), (3784, 0.0), (3788, 0.0), (3789, 0.0), (3790, 0.0), (3791, 0.0), (3793, 0.0), (3796, 0.0), (3799, 0.0), (3800, 0.0), (3801, 0.0), (3804, 0.0), (3806, 0.0), (3808, 0.0), (3810, 0.0), (3811, 0.0), (3813, 0.0), (3815, 0.0), (3816, 0.0), (3818, 0.0), (3819, 0.0), (3820, 0.0), (3821, 0.0), (3822, 0.0), (3823, 0.0), (3824, 0.0), (3825, 0.0), (3827, 0.0), (3828, 0.0), (3829, 0.0), (3830, 0.0), (3831, 0.0), (3832, 0.0), (3833, 0.0), (3835, 0.0), (3836, 0.0), (3837, 0.0), (3838, 0.0), (3841, 0.0), (3842, 0.0), (3843, 0.0), (3844, 0.0), (3845, 0.0), (3847, 0.0), (3848, 0.0), (3851, 0.0), (3852, 0.0), (3854, 0.0), (3855, 0.0), (3856, 0.0), (3858, 0.0), (3859, 0.0), (3861, 0.0), (3863, 0.0), (3864, 0.0), (3865, 0.0), (3868, 0.0), (3872, 0.0), (3874, 0.0), (3875, 0.0), (3878, 0.0), (3879, 0.0), (3880, 0.0), (3881, 0.0), (3882, 0.0), (3883, 0.0), (3884, 0.0), (3885, 0.0), (3887, 0.0), (3890, 0.0), (3891, 0.0), (3892, 0.0), (3893, 0.0), (3894, 0.0), (3895, 0.0), (3896, 0.0), (3898, 0.0), (3899, 0.0), (3901, 0.0), (3902, 0.0), (3903, 0.0), (3904, 0.0), (3905, 0.0), (3906, 0.0), (3909, 0.0), (3911, 0.0), (3912, 0.0), (3913, 0.0), (3915, 0.0), (3916, 0.0), (3918, 0.0), (3920, 0.0), (3921, 0.0), (3922, 0.0), (3924, 0.0), (3925, 0.0), (3926, 0.0), (3927, 0.0), (3928, 0.0), (3930, 0.0), (3931, 0.0), (3933, 0.0), (3934, 0.0), (3935, 0.0), (3936, 0.0), (3939, 0.0), (3940, 0.0), (3941, 0.0), (3942, 0.0), (3943, 0.0), (3944, 0.0), (3945, 0.0), (3948, 0.0), (3949, 0.0), (3950, 0.0), (3951, 0.0), (3952, 0.0), (3953, 0.0), (3956, 0.0), (3958, 0.0), (3960, 0.0), (3961, 0.0), (3962, 0.0), (3964, 0.0), (3967, 0.0), (3969, 0.0), (3970, 0.0), (3971, 0.0), (3973, 0.0), (3974, 0.0), (3975, 0.0), (3976, 0.0), (3981, 0.0), (3983, 0.0), (3984, 0.0), (3985, 0.0), (3986, 0.0), (3987, 0.0), (3988, 0.0), (3989, 0.0), (3990, 0.0), (3992, 0.0), (3995, 0.0), (3996, 0.0), (3999, 0.0), (4000, 0.0), (4002, 0.0), (4003, 0.0), (4004, 0.0), (4006, 0.0), (4007, 0.0), (4008, 0.0), (4010, 0.0), (4011, 0.0), (4013, 0.0), (4017, 0.0), (4019, 0.0), (4020, 0.0), (4021, 0.0), (4023, 0.0), (4024, 0.0), (4025, 0.0), (4026, 0.0), (4027, 0.0), (4028, 0.0), (4029, 0.0), (4030, 0.0), (4032, 0.0), (4035, 0.0), (4042, 0.0), (4043, 0.0), (4047, 0.0), (4048, 0.0), (4049, 0.0), (4050, 0.0), (4051, 0.0), (4052, 0.0), (4053, 0.0), (4057, 0.0), (4058, 0.0), (4059, 0.0), (4060, 0.0), (4061, 0.0), (4062, 0.0), (4064, 0.0), (4065, 0.0), (4066, 0.0), (4067, 0.0), (4069, 0.0), (4072, 0.0), (4073, 0.0), (4074, 0.0), (4075, 0.0), (4078, 0.0), (4079, 0.0), (4080, 0.0), (4081, 0.0), (4082, 0.0), (4083, 0.0), (4084, 0.0), (4088, 0.0), (4092, 0.0), (4096, 0.0), (4097, 0.0), (4102, 0.0), (4104, 0.0), (4105, 0.0), (4107, 0.0), (4108, 0.0), (4109, 0.0), (4111, 0.0), (4115, 0.0), (4117, 0.0), (4120, 0.0), (4124, 0.0), (4125, 0.0), (4126, 0.0), (4127, 0.0), (4129, 0.0), (4132, 0.0), (4133, 0.0), (4134, 0.0), (4135, 0.0), (4136, 0.0), (4138, 0.0), (4141, 0.0), (4143, 0.0), (4145, 0.0), (4147, 0.0), (4151, 0.0), (4157, 0.0), (4159, 0.0), (4161, 0.0), (4162, 0.0), (4163, 0.0), (4166, 0.0), (4167, 0.0), (4169, 0.0), (4170, 0.0), (4171, 0.0), (4172, 0.0), (4173, 0.0), (4174, 0.0), (4175, 0.0), (4176, 0.0), (4177, 0.0), (4178, 0.0), (4179, 0.0), (4180, 0.0), (4182, 0.0), (4184, 0.0), (4185, 0.0), (4187, 0.0), (4190, 0.0), (4197, 0.0), (4198, 0.0), (4200, 0.0), (4201, 0.0), (4203, 0.0), (4204, 0.0), (4206, 0.0), (4208, 0.0), (4209, 0.0), (4212, 0.0), (4214, 0.0), (4215, 0.0), (4217, 0.0), (4219, 0.0), (4220, 0.0), (4222, 0.0), (4223, 0.0), (4225, 0.0), (4226, 0.0), (4227, 0.0), (4228, 0.0), (4229, 0.0), (4230, 0.0), (4231, 0.0), (4232, 0.0), (4233, 0.0), (4235, 0.0), (4237, 0.0), (4239, 0.0), (4241, 0.0), (4242, 0.0), (4243, 0.0), (4245, 0.0), (4246, 0.0), (4247, 0.0), (4251, 0.0), (4253, 0.0), (4254, 0.0), (4256, 0.0), (4257, 0.0), (4258, 0.0), (4259, 0.0), (4260, 0.0), (4262, 0.0), (4263, 0.0), (4265, 0.0), (4268, 0.0), (4271, 0.0), (4275, 0.0), (4279, 0.0), (4280, 0.0), (4282, 0.0), (4284, 0.0), (4286, 0.0), (4287, 0.0), (4290, 0.0), (4291, 0.0), (4295, 0.0), (4296, 0.0), (4297, 0.0), (4301, 0.0), (4304, 0.0), (4305, 0.0), (4306, 0.0), (4307, 0.0), (4308, 0.0), (4311, 0.0), (4313, 0.0), (4315, 0.0), (4316, 0.0), (4317, 0.0), (4319, 0.0), (4321, 0.0), (4322, 0.0), (4324, 0.0), (4326, 0.0), (4327, 0.0), (4329, 0.0), (4330, 0.0), (4331, 0.0), (4332, 0.0), (4335, 0.0), (4336, 0.0), (4337, 0.0), (4340, 0.0), (4341, 0.0), (4343, 0.0), (4345, 0.0), (4349, 0.0), (4352, 0.0), (4355, 0.0), (4356, 0.0), (4357, 0.0), (4358, 0.0), (4359, 0.0), (4360, 0.0), (4361, 0.0), (4362, 0.0), (4366, 0.0), (4367, 0.0), (4368, 0.0), (4369, 0.0), (4370, 0.0), (4372, 0.0), (4374, 0.0), (4376, 0.0), (4377, 0.0), (4380, 0.0), (4381, 0.0), (4385, 0.0), (4386, 0.0), (4387, 0.0), (4388, 0.0), (4389, 0.0), (4393, 0.0), (4394, 0.0), (4396, 0.0), (4397, 0.0), (4398, 0.0), (4399, 0.0), (4400, 0.0), (4402, 0.0), (4403, 0.0), (4404, 0.0), (4407, 0.0), (4408, 0.0), (4409, 0.0), (4410, 0.0), (4412, 0.0), (4413, 0.0), (4414, 0.0), (4416, 0.0), (4417, 0.0), (4420, 0.0), (4421, 0.0), (4422, 0.0), (4423, 0.0), (4424, 0.0), (4425, 0.0), (4426, 0.0), (4427, 0.0), (4431, 0.0), (4433, 0.0), (4434, 0.0), (4437, 0.0), (4438, 0.0), (4441, 0.0), (4442, 0.0), (4445, 0.0), (4446, 0.0), (4448, 0.0), (4449, 0.0), (4451, 0.0), (4452, 0.0), (4458, 0.0), (4459, 0.0), (4461, 0.0), (4463, 0.0), (4469, 0.0), (4473, 0.0), (4474, 0.0), (4475, 0.0), (4476, 0.0), (4480, 0.0), (4483, 0.0), (4484, 0.0), (4485, 0.0), (4488, 0.0), (4489, 0.0), (4494, 0.0), (4495, 0.0), (4496, 0.0), (4497, 0.0), (4498, 0.0), (4499, 0.0), (4500, 0.0), (4502, 0.0), (4504, 0.0), (4505, 0.0), (4506, 0.0), (4508, 0.0), (4511, 0.0), (4512, 0.0), (4513, 0.0), (4514, 0.0), (4515, 0.0), (4517, 0.0), (4518, 0.0), (4520, 0.0), (4521, 0.0), (4522, 0.0), (4524, 0.0), (4525, 0.0), (4526, 0.0), (4527, 0.0), (4528, 0.0), (4530, 0.0), (4531, 0.0), (4532, 0.0), (4537, 0.0), (4538, 0.0), (4539, 0.0), (4540, 0.0), (4541, 0.0), (4544, 0.0), (4545, 0.0), (4548, 0.0), (4549, 0.0), (4551, 0.0), (4552, 0.0), (4554, 0.0), (4555, 0.0), (4556, 0.0), (4558, 0.0), (4559, 0.0), (4560, 0.0), (4561, 0.0), (4562, 0.0), (4565, 0.0), (4566, 0.0), (4567, 0.0), (4570, 0.0), (4571, 0.0), (4572, 0.0), (4573, 0.0), (4574, 0.0), (4576, 0.0), (4577, 0.0), (4578, 0.0), (4579, 0.0), (4580, 0.0), (4582, 0.0), (4583, 0.0), (4584, 0.0), (4585, 0.0), (4587, 0.0), (4593, 0.0), (4594, 0.0), (4595, 0.0), (4596, 0.0), (4597, 0.0), (4598, 0.0), (4601, 0.0), (4603, 0.0), (4604, 0.0), (4605, 0.0), (4607, 0.0), (4610, 0.0), (4611, 0.0), (4612, 0.0), (4614, 0.0), (4615, 0.0), (4616, 0.0), (4617, 0.0), (4618, 0.0), (4620, 0.0), (4621, 0.0), (4623, 0.0), (4624, 0.0), (4625, 0.0), (4627, 0.0), (4628, 0.0), (4632, 0.0), (4633, 0.0), (4634, 0.0), (4635, 0.0), (4639, 0.0), (4640, 0.0), (4641, 0.0), (4644, 0.0), (4645, 0.0), (4648, 0.0), (4650, 0.0), (4651, 0.0), (4652, 0.0), (4654, 0.0), (4655, 0.0), (4656, 0.0), (4657, 0.0), (4658, 0.0), (4659, 0.0), (4662, 0.0), (4664, 0.0), (4665, 0.0), (4666, 0.0), (4667, 0.0), (4668, 0.0), (4671, 0.0), (4672, 0.0), (4674, 0.0), (4675, 0.0), (4678, 0.0), (4679, 0.0), (4680, 0.0), (4681, 0.0), (4682, 0.0), (4685, 0.0), (4686, 0.0), (4691, 0.0), (4692, 0.0), (4693, 0.0), (4694, 0.0), (4696, 0.0), (4699, 0.0), (4700, 0.0), (4702, 0.0), (4704, 0.0), (4706, 0.0), (4707, 0.0), (4710, 0.0), (4711, 0.0), (4712, 0.0), (4713, 0.0), (4715, 0.0), (4716, 0.0), (4717, 0.0), (4718, 0.0), (4719, 0.0), (4720, 0.0), (4721, 0.0), (4722, 0.0), (4724, 0.0), (4728, 0.0), (4729, 0.0), (4731, 0.0), (4734, 0.0), (4735, 0.0), (4736, 0.0), (4737, 0.0), (4738, 0.0), (4740, 0.0), (4741, 0.0), (4744, 0.0), (4745, 0.0), (4746, 0.0), (4749, 0.0), (4750, 0.0), (4751, 0.0), (4752, 0.0), (4753, 0.0), (4755, 0.0), (4756, 0.0), (4757, 0.0), (4758, 0.0), (4759, 0.0)]\n"
          ]
        }
      ]
    },
    {
      "cell_type": "code",
      "source": [
        "# print the name of similar movies based on the index\n",
        "\n",
        "print(\"Top 30 Movies Suggested for You: \\n\")\n",
        "\n",
        "i = 1 # Initialize the counter\n",
        "for movie in Sorted_Similar_Movies:\n",
        "    index = movie[0]\n",
        "    title_from_index = df[df.index==index]['Movie_Title'].values[0]\n",
        "\n",
        "    if i <= 31: # Adjusted the condition to only print the top 30\n",
        "        print(i,'.',title_from_index)\n",
        "    i += 1 # Increment the counter within the loop"
      ],
      "metadata": {
        "colab": {
          "base_uri": "https://localhost:8080/"
        },
        "id": "oGSQoo86xT_a",
        "outputId": "9b581585-e985-4055-ad26-01dc3782c1dd"
      },
      "execution_count": null,
      "outputs": [
        {
          "output_type": "stream",
          "name": "stdout",
          "text": [
            "Top 30 Movies Suggested for You: \n",
            "\n",
            "1 . X-Men: The Last Stand\n",
            "2 . X2\n",
            "3 . X-Men\n",
            "4 . X-Men: Days of Future Past\n",
            "5 . The Amazing Spider-Man 2\n",
            "6 . Iron Man 2\n",
            "7 . The Avengers\n",
            "8 . Avengers: Age of Ultron\n",
            "9 . Ant-Man\n",
            "10 . X-Men: Apocalypse\n",
            "11 . The Image Revolution\n",
            "12 . The Incredible Hulk\n",
            "13 . Deadpool\n",
            "14 . Thor: The Dark World\n",
            "15 . The Helix... Loaded\n",
            "16 . Man of Steel\n",
            "17 . The Wolverine\n",
            "18 . The Smurfs\n",
            "19 . X-Men: First Class\n",
            "20 . Teenage Mutant Ninja Turtles: Out of the Shadows\n",
            "21 . Swordfish\n",
            "22 . Batman v Superman: Dawn of Justice\n",
            "23 . Captain America: The Winter Soldier\n",
            "24 . Captain America: Civil War\n",
            "25 . Spawn\n",
            "26 . Whiteout\n",
            "27 . 2 Guns\n",
            "28 . Flushed Away\n",
            "29 . Unbreakable\n",
            "30 . Elektra\n",
            "31 . Sin City\n"
          ]
        }
      ]
    }
  ]
}